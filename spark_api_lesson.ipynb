{
 "cells": [
  {
   "cell_type": "markdown",
   "id": "1c43548f-65e6-4126-aeef-37f21f607cd8",
   "metadata": {},
   "source": [
    "# Spark API"
   ]
  },
  {
   "cell_type": "code",
   "execution_count": 2,
   "id": "enclosed-practice",
   "metadata": {},
   "outputs": [],
   "source": [
    "import pyspark\n",
    "\n",
    "spark = pyspark.sql.SparkSession.builder.getOrCreate()"
   ]
  },
  {
   "cell_type": "code",
   "execution_count": 3,
   "id": "prostate-making",
   "metadata": {},
   "outputs": [
    {
     "data": {
      "text/html": [
       "\n",
       "            <div>\n",
       "                <p><b>SparkSession - in-memory</b></p>\n",
       "                \n",
       "        <div>\n",
       "            <p><b>SparkContext</b></p>\n",
       "\n",
       "            <p><a href=\"http://192.168.1.52:4040\">Spark UI</a></p>\n",
       "\n",
       "            <dl>\n",
       "              <dt>Version</dt>\n",
       "                <dd><code>v3.1.2</code></dd>\n",
       "              <dt>Master</dt>\n",
       "                <dd><code>local[*]</code></dd>\n",
       "              <dt>AppName</dt>\n",
       "                <dd><code>pyspark-shell</code></dd>\n",
       "            </dl>\n",
       "        </div>\n",
       "        \n",
       "            </div>\n",
       "        "
      ],
      "text/plain": [
       "<pyspark.sql.session.SparkSession at 0x7fef1965e880>"
      ]
     },
     "execution_count": 3,
     "metadata": {},
     "output_type": "execute_result"
    }
   ],
   "source": [
    "spark"
   ]
  },
  {
   "cell_type": "markdown",
   "id": "e92f4b3b-2d9d-422f-b98f-ce16519070e3",
   "metadata": {},
   "source": [
    "For demonstration, we'll create a spark dataframe from a pandas dataframe."
   ]
  },
  {
   "cell_type": "code",
   "execution_count": 4,
   "id": "located-affect",
   "metadata": {},
   "outputs": [],
   "source": [
    "import numpy as np\n",
    "import pandas as pd\n",
    "import pydataset"
   ]
  },
  {
   "cell_type": "code",
   "execution_count": 5,
   "id": "unsigned-boring",
   "metadata": {},
   "outputs": [
    {
     "name": "stdout",
     "output_type": "stream",
     "text": [
      "+----------+----+------+------+---+------+----+\n",
      "|total_bill| tip|   sex|smoker|day|  time|size|\n",
      "+----------+----+------+------+---+------+----+\n",
      "|     16.99|1.01|Female|    No|Sun|Dinner|   2|\n",
      "|     10.34|1.66|  Male|    No|Sun|Dinner|   3|\n",
      "|     21.01| 3.5|  Male|    No|Sun|Dinner|   3|\n",
      "|     23.68|3.31|  Male|    No|Sun|Dinner|   2|\n",
      "|     24.59|3.61|Female|    No|Sun|Dinner|   4|\n",
      "|     25.29|4.71|  Male|    No|Sun|Dinner|   4|\n",
      "|      8.77| 2.0|  Male|    No|Sun|Dinner|   2|\n",
      "|     26.88|3.12|  Male|    No|Sun|Dinner|   4|\n",
      "|     15.04|1.96|  Male|    No|Sun|Dinner|   2|\n",
      "|     14.78|3.23|  Male|    No|Sun|Dinner|   2|\n",
      "|     10.27|1.71|  Male|    No|Sun|Dinner|   2|\n",
      "|     35.26| 5.0|Female|    No|Sun|Dinner|   4|\n",
      "|     15.42|1.57|  Male|    No|Sun|Dinner|   2|\n",
      "|     18.43| 3.0|  Male|    No|Sun|Dinner|   4|\n",
      "|     14.83|3.02|Female|    No|Sun|Dinner|   2|\n",
      "|     21.58|3.92|  Male|    No|Sun|Dinner|   2|\n",
      "|     10.33|1.67|Female|    No|Sun|Dinner|   3|\n",
      "|     16.29|3.71|  Male|    No|Sun|Dinner|   3|\n",
      "|     16.97| 3.5|Female|    No|Sun|Dinner|   3|\n",
      "|     20.65|3.35|  Male|    No|Sat|Dinner|   3|\n",
      "+----------+----+------+------+---+------+----+\n",
      "only showing top 20 rows\n",
      "\n"
     ]
    }
   ],
   "source": [
    "tips = pydataset.data('tips')\n",
    "df = spark.createDataFrame(tips)\n",
    "df.show()"
   ]
  },
  {
   "cell_type": "code",
   "execution_count": 6,
   "id": "acae9a45-248d-4e3d-97ea-a37d573d2e7e",
   "metadata": {},
   "outputs": [
    {
     "data": {
      "text/plain": [
       "DataFrame[total_bill: double, tip: double, sex: string, smoker: string, day: string, time: string, size: bigint]"
      ]
     },
     "execution_count": 6,
     "metadata": {},
     "output_type": "execute_result"
    }
   ],
   "source": [
    "df"
   ]
  },
  {
   "cell_type": "markdown",
   "id": "confidential-railway",
   "metadata": {},
   "source": [
    "## DataFrame Basics"
   ]
  },
  {
   "cell_type": "code",
   "execution_count": 9,
   "id": "1593103d-aa7b-49b2-a1b9-606e14bbe864",
   "metadata": {},
   "outputs": [
    {
     "name": "stdout",
     "output_type": "stream",
     "text": [
      "+----------+----+------+------+---+------+----+\n",
      "|total_bill| tip|   sex|smoker|day|  time|size|\n",
      "+----------+----+------+------+---+------+----+\n",
      "|     16.99|1.01|Female|    No|Sun|Dinner|   2|\n",
      "|     10.34|1.66|  Male|    No|Sun|Dinner|   3|\n",
      "|     21.01| 3.5|  Male|    No|Sun|Dinner|   3|\n",
      "|     23.68|3.31|  Male|    No|Sun|Dinner|   2|\n",
      "|     24.59|3.61|Female|    No|Sun|Dinner|   4|\n",
      "+----------+----+------+------+---+------+----+\n",
      "only showing top 5 rows\n",
      "\n"
     ]
    }
   ],
   "source": [
    "df.show(5)"
   ]
  },
  {
   "cell_type": "code",
   "execution_count": 13,
   "id": "079778d7-a1ca-4246-8127-1787de0c8e52",
   "metadata": {},
   "outputs": [
    {
     "data": {
      "text/plain": [
       "[Row(total_bill=16.99, tip=1.01, sex='Female', smoker='No', day='Sun', time='Dinner', size=2),\n",
       " Row(total_bill=10.34, tip=1.66, sex='Male', smoker='No', day='Sun', time='Dinner', size=3),\n",
       " Row(total_bill=21.01, tip=3.5, sex='Male', smoker='No', day='Sun', time='Dinner', size=3),\n",
       " Row(total_bill=23.68, tip=3.31, sex='Male', smoker='No', day='Sun', time='Dinner', size=2),\n",
       " Row(total_bill=24.59, tip=3.61, sex='Female', smoker='No', day='Sun', time='Dinner', size=4)]"
      ]
     },
     "execution_count": 13,
     "metadata": {},
     "output_type": "execute_result"
    }
   ],
   "source": [
    "df.head(5)"
   ]
  },
  {
   "cell_type": "code",
   "execution_count": 15,
   "id": "d0d3e4de-7f18-4551-897b-e788aa5fb400",
   "metadata": {},
   "outputs": [
    {
     "data": {
      "text/plain": [
       "'Dinner'"
      ]
     },
     "execution_count": 15,
     "metadata": {},
     "output_type": "execute_result"
    }
   ],
   "source": [
    "df.head(5)[0].time"
   ]
  },
  {
   "cell_type": "code",
   "execution_count": 10,
   "id": "textile-visitor",
   "metadata": {},
   "outputs": [
    {
     "name": "stdout",
     "output_type": "stream",
     "text": [
      "+----------+----+------+------+---+------+----+\n",
      "|total_bill| tip|   sex|smoker|day|  time|size|\n",
      "+----------+----+------+------+---+------+----+\n",
      "|     16.99|1.01|Female|    No|Sun|Dinner|   2|\n",
      "|     10.34|1.66|  Male|    No|Sun|Dinner|   3|\n",
      "|     21.01| 3.5|  Male|    No|Sun|Dinner|   3|\n",
      "|     23.68|3.31|  Male|    No|Sun|Dinner|   2|\n",
      "|     24.59|3.61|Female|    No|Sun|Dinner|   4|\n",
      "|     25.29|4.71|  Male|    No|Sun|Dinner|   4|\n",
      "|      8.77| 2.0|  Male|    No|Sun|Dinner|   2|\n",
      "|     26.88|3.12|  Male|    No|Sun|Dinner|   4|\n",
      "|     15.04|1.96|  Male|    No|Sun|Dinner|   2|\n",
      "|     14.78|3.23|  Male|    No|Sun|Dinner|   2|\n",
      "+----------+----+------+------+---+------+----+\n",
      "only showing top 10 rows\n",
      "\n"
     ]
    }
   ],
   "source": [
    "# Don't do this!\n",
    "# just use .show to view df contents\n",
    "df2 = df.show(10)"
   ]
  },
  {
   "cell_type": "code",
   "execution_count": 12,
   "id": "peaceful-tolerance",
   "metadata": {},
   "outputs": [
    {
     "ename": "AttributeError",
     "evalue": "'NoneType' object has no attribute 'show'",
     "output_type": "error",
     "traceback": [
      "\u001b[0;31m---------------------------------------------------------------------------\u001b[0m",
      "\u001b[0;31mAttributeError\u001b[0m                            Traceback (most recent call last)",
      "\u001b[0;32m<ipython-input-12-1d45a0548e2e>\u001b[0m in \u001b[0;36m<module>\u001b[0;34m\u001b[0m\n\u001b[0;32m----> 1\u001b[0;31m \u001b[0mdf2\u001b[0m\u001b[0;34m.\u001b[0m\u001b[0mshow\u001b[0m\u001b[0;34m(\u001b[0m\u001b[0;34m)\u001b[0m\u001b[0;34m\u001b[0m\u001b[0;34m\u001b[0m\u001b[0m\n\u001b[0m",
      "\u001b[0;31mAttributeError\u001b[0m: 'NoneType' object has no attribute 'show'"
     ]
    }
   ],
   "source": [
    "df2.show()"
   ]
  },
  {
   "cell_type": "markdown",
   "id": "39ecdb17-0908-4917-bbdf-af2c7718a9fe",
   "metadata": {},
   "source": [
    "### Selecting Columns"
   ]
  },
  {
   "cell_type": "code",
   "execution_count": 17,
   "id": "becoming-frederick",
   "metadata": {},
   "outputs": [
    {
     "name": "stdout",
     "output_type": "stream",
     "text": [
      "+----------+----+----+---+\n",
      "|total_bill| tip|size|day|\n",
      "+----------+----+----+---+\n",
      "|     16.99|1.01|   2|Sun|\n",
      "|     10.34|1.66|   3|Sun|\n",
      "|     21.01| 3.5|   3|Sun|\n",
      "|     23.68|3.31|   2|Sun|\n",
      "|     24.59|3.61|   4|Sun|\n",
      "+----------+----+----+---+\n",
      "only showing top 5 rows\n",
      "\n"
     ]
    }
   ],
   "source": [
    "df.select('total_bill', 'tip', 'size', 'day').show(5)"
   ]
  },
  {
   "cell_type": "code",
   "execution_count": 18,
   "id": "headed-rhythm",
   "metadata": {},
   "outputs": [
    {
     "data": {
      "text/plain": [
       "DataFrame[total_bill: double, tip: double, sex: string, smoker: string, day: string, time: string, size: bigint]"
      ]
     },
     "execution_count": 18,
     "metadata": {},
     "output_type": "execute_result"
    }
   ],
   "source": [
    "df.select('*')"
   ]
  },
  {
   "cell_type": "code",
   "execution_count": 19,
   "id": "loaded-salvation",
   "metadata": {},
   "outputs": [
    {
     "name": "stdout",
     "output_type": "stream",
     "text": [
      "+-------------------+\n",
      "| (tip / total_bill)|\n",
      "+-------------------+\n",
      "|0.05944673337257211|\n",
      "|0.16054158607350097|\n",
      "|0.16658733936220846|\n",
      "| 0.1397804054054054|\n",
      "|0.14680764538430255|\n",
      "+-------------------+\n",
      "only showing top 5 rows\n",
      "\n"
     ]
    }
   ],
   "source": [
    "df.select(df.tip / df.total_bill).show(5)"
   ]
  },
  {
   "cell_type": "code",
   "execution_count": 20,
   "id": "extended-portsmouth",
   "metadata": {},
   "outputs": [
    {
     "data": {
      "text/plain": [
       "Column<'(tip / total_bill)'>"
      ]
     },
     "execution_count": 20,
     "metadata": {},
     "output_type": "execute_result"
    }
   ],
   "source": [
    "col = df.tip / df.total_bill\n",
    "col"
   ]
  },
  {
   "cell_type": "code",
   "execution_count": 25,
   "id": "6bea208a-5942-4d21-bce7-f8ea41f29097",
   "metadata": {},
   "outputs": [
    {
     "name": "stdout",
     "output_type": "stream",
     "text": [
      "+----------+----+------+------+---+------+----+-------------------+\n",
      "|total_bill| tip|   sex|smoker|day|  time|size|            tip_pct|\n",
      "+----------+----+------+------+---+------+----+-------------------+\n",
      "|     16.99|1.01|Female|    No|Sun|Dinner|   2|0.05944673337257211|\n",
      "|     10.34|1.66|  Male|    No|Sun|Dinner|   3|0.16054158607350097|\n",
      "|     21.01| 3.5|  Male|    No|Sun|Dinner|   3|0.16658733936220846|\n",
      "|     23.68|3.31|  Male|    No|Sun|Dinner|   2| 0.1397804054054054|\n",
      "|     24.59|3.61|Female|    No|Sun|Dinner|   4|0.14680764538430255|\n",
      "+----------+----+------+------+---+------+----+-------------------+\n",
      "only showing top 5 rows\n",
      "\n"
     ]
    }
   ],
   "source": [
    "df.select('*', col.alias('tip_pct')).show(5)"
   ]
  },
  {
   "cell_type": "code",
   "execution_count": 21,
   "id": "sharing-enclosure",
   "metadata": {},
   "outputs": [
    {
     "name": "stdout",
     "output_type": "stream",
     "text": [
      "+----------+----+------+------+---+------+----+-------------------+\n",
      "|total_bill| tip|   sex|smoker|day|  time|size|            tip_pct|\n",
      "+----------+----+------+------+---+------+----+-------------------+\n",
      "|     16.99|1.01|Female|    No|Sun|Dinner|   2|0.05944673337257211|\n",
      "|     10.34|1.66|  Male|    No|Sun|Dinner|   3|0.16054158607350097|\n",
      "|     21.01| 3.5|  Male|    No|Sun|Dinner|   3|0.16658733936220846|\n",
      "|     23.68|3.31|  Male|    No|Sun|Dinner|   2| 0.1397804054054054|\n",
      "|     24.59|3.61|Female|    No|Sun|Dinner|   4|0.14680764538430255|\n",
      "+----------+----+------+------+---+------+----+-------------------+\n",
      "only showing top 5 rows\n",
      "\n"
     ]
    }
   ],
   "source": [
    "df.select('*', col.alias('tip_pct')).show(5)"
   ]
  },
  {
   "cell_type": "code",
   "execution_count": 27,
   "id": "joined-router",
   "metadata": {},
   "outputs": [],
   "source": [
    "df_with_tip_pct = df.select('*', col.alias('tip_pct'))"
   ]
  },
  {
   "cell_type": "code",
   "execution_count": 28,
   "id": "according-enhancement",
   "metadata": {},
   "outputs": [
    {
     "name": "stdout",
     "output_type": "stream",
     "text": [
      "+----------+----+------+------+---+------+----+-------------------+\n",
      "|total_bill| tip|   sex|smoker|day|  time|size|            tip_pct|\n",
      "+----------+----+------+------+---+------+----+-------------------+\n",
      "|     16.99|1.01|Female|    No|Sun|Dinner|   2|0.05944673337257211|\n",
      "|     10.34|1.66|  Male|    No|Sun|Dinner|   3|0.16054158607350097|\n",
      "|     21.01| 3.5|  Male|    No|Sun|Dinner|   3|0.16658733936220846|\n",
      "|     23.68|3.31|  Male|    No|Sun|Dinner|   2| 0.1397804054054054|\n",
      "|     24.59|3.61|Female|    No|Sun|Dinner|   4|0.14680764538430255|\n",
      "+----------+----+------+------+---+------+----+-------------------+\n",
      "only showing top 5 rows\n",
      "\n"
     ]
    }
   ],
   "source": [
    "df_with_tip_pct.show(5)"
   ]
  },
  {
   "cell_type": "markdown",
   "id": "7fe714cc-b029-4178-a506-b9dc05fb705c",
   "metadata": {},
   "source": [
    "To add columns to a spark dataframe, we need to create a new variable."
   ]
  },
  {
   "cell_type": "markdown",
   "id": "5dc1b18e-8155-46c1-b82e-09ee06a31caf",
   "metadata": {},
   "source": [
    "### Selecting w/ Built In Functions"
   ]
  },
  {
   "cell_type": "code",
   "execution_count": 30,
   "id": "excited-fleece",
   "metadata": {},
   "outputs": [],
   "source": [
    "from pyspark.sql.functions import sum, mean, concat, lit, regexp_extract, regexp_replace, when"
   ]
  },
  {
   "cell_type": "code",
   "execution_count": 32,
   "id": "48b800ad-c467-4496-a5f6-36a7e8817c26",
   "metadata": {},
   "outputs": [
    {
     "data": {
      "text/plain": [
       "Column<'avg(tip)'>"
      ]
     },
     "execution_count": 32,
     "metadata": {},
     "output_type": "execute_result"
    }
   ],
   "source": [
    "mean(df.tip)"
   ]
  },
  {
   "cell_type": "code",
   "execution_count": 34,
   "id": "strong-barcelona",
   "metadata": {},
   "outputs": [
    {
     "name": "stdout",
     "output_type": "stream",
     "text": [
      "+------------------+-----------------+\n",
      "|          avg(tip)|  sum(total_bill)|\n",
      "+------------------+-----------------+\n",
      "|2.9982786885245907|4827.769999999999|\n",
      "+------------------+-----------------+\n",
      "\n"
     ]
    }
   ],
   "source": [
    "df.select(mean(df.tip), sum(df.total_bill)).show()"
   ]
  },
  {
   "cell_type": "code",
   "execution_count": 36,
   "id": "83755dfc-5894-40eb-948d-cc0d2e51c320",
   "metadata": {},
   "outputs": [
    {
     "ename": "AnalysisException",
     "evalue": "cannot resolve '` `' given input columns: [day, sex, size, smoker, time, tip, total_bill];\n'Project [concat(day#4, ' , time#5) AS concat(day,  , time)#446]\n+- LogicalRDD [total_bill#0, tip#1, sex#2, smoker#3, day#4, time#5, size#6L], false\n",
     "output_type": "error",
     "traceback": [
      "\u001b[0;31m---------------------------------------------------------------------------\u001b[0m",
      "\u001b[0;31mAnalysisException\u001b[0m                         Traceback (most recent call last)",
      "\u001b[0;32m<ipython-input-36-e4a8df2547fc>\u001b[0m in \u001b[0;36m<module>\u001b[0;34m\u001b[0m\n\u001b[0;32m----> 1\u001b[0;31m \u001b[0mdf\u001b[0m\u001b[0;34m.\u001b[0m\u001b[0mselect\u001b[0m\u001b[0;34m(\u001b[0m\u001b[0mconcat\u001b[0m\u001b[0;34m(\u001b[0m\u001b[0;34m'day'\u001b[0m\u001b[0;34m,\u001b[0m \u001b[0;34m' '\u001b[0m\u001b[0;34m,\u001b[0m \u001b[0;34m'time'\u001b[0m\u001b[0;34m)\u001b[0m\u001b[0;34m)\u001b[0m\u001b[0;34m.\u001b[0m\u001b[0mshow\u001b[0m\u001b[0;34m(\u001b[0m\u001b[0;36m5\u001b[0m\u001b[0;34m)\u001b[0m\u001b[0;34m\u001b[0m\u001b[0;34m\u001b[0m\u001b[0m\n\u001b[0m",
      "\u001b[0;32m/usr/local/anaconda3/lib/python3.8/site-packages/pyspark/sql/dataframe.py\u001b[0m in \u001b[0;36mselect\u001b[0;34m(self, *cols)\u001b[0m\n\u001b[1;32m   1667\u001b[0m         \u001b[0;34m[\u001b[0m\u001b[0mRow\u001b[0m\u001b[0;34m(\u001b[0m\u001b[0mname\u001b[0m\u001b[0;34m=\u001b[0m\u001b[0;34m'Alice'\u001b[0m\u001b[0;34m,\u001b[0m \u001b[0mage\u001b[0m\u001b[0;34m=\u001b[0m\u001b[0;36m12\u001b[0m\u001b[0;34m)\u001b[0m\u001b[0;34m,\u001b[0m \u001b[0mRow\u001b[0m\u001b[0;34m(\u001b[0m\u001b[0mname\u001b[0m\u001b[0;34m=\u001b[0m\u001b[0;34m'Bob'\u001b[0m\u001b[0;34m,\u001b[0m \u001b[0mage\u001b[0m\u001b[0;34m=\u001b[0m\u001b[0;36m15\u001b[0m\u001b[0;34m)\u001b[0m\u001b[0;34m]\u001b[0m\u001b[0;34m\u001b[0m\u001b[0;34m\u001b[0m\u001b[0m\n\u001b[1;32m   1668\u001b[0m         \"\"\"\n\u001b[0;32m-> 1669\u001b[0;31m         \u001b[0mjdf\u001b[0m \u001b[0;34m=\u001b[0m \u001b[0mself\u001b[0m\u001b[0;34m.\u001b[0m\u001b[0m_jdf\u001b[0m\u001b[0;34m.\u001b[0m\u001b[0mselect\u001b[0m\u001b[0;34m(\u001b[0m\u001b[0mself\u001b[0m\u001b[0;34m.\u001b[0m\u001b[0m_jcols\u001b[0m\u001b[0;34m(\u001b[0m\u001b[0;34m*\u001b[0m\u001b[0mcols\u001b[0m\u001b[0;34m)\u001b[0m\u001b[0;34m)\u001b[0m\u001b[0;34m\u001b[0m\u001b[0;34m\u001b[0m\u001b[0m\n\u001b[0m\u001b[1;32m   1670\u001b[0m         \u001b[0;32mreturn\u001b[0m \u001b[0mDataFrame\u001b[0m\u001b[0;34m(\u001b[0m\u001b[0mjdf\u001b[0m\u001b[0;34m,\u001b[0m \u001b[0mself\u001b[0m\u001b[0;34m.\u001b[0m\u001b[0msql_ctx\u001b[0m\u001b[0;34m)\u001b[0m\u001b[0;34m\u001b[0m\u001b[0;34m\u001b[0m\u001b[0m\n\u001b[1;32m   1671\u001b[0m \u001b[0;34m\u001b[0m\u001b[0m\n",
      "\u001b[0;32m/usr/local/anaconda3/lib/python3.8/site-packages/py4j/java_gateway.py\u001b[0m in \u001b[0;36m__call__\u001b[0;34m(self, *args)\u001b[0m\n\u001b[1;32m   1302\u001b[0m \u001b[0;34m\u001b[0m\u001b[0m\n\u001b[1;32m   1303\u001b[0m         \u001b[0manswer\u001b[0m \u001b[0;34m=\u001b[0m \u001b[0mself\u001b[0m\u001b[0;34m.\u001b[0m\u001b[0mgateway_client\u001b[0m\u001b[0;34m.\u001b[0m\u001b[0msend_command\u001b[0m\u001b[0;34m(\u001b[0m\u001b[0mcommand\u001b[0m\u001b[0;34m)\u001b[0m\u001b[0;34m\u001b[0m\u001b[0;34m\u001b[0m\u001b[0m\n\u001b[0;32m-> 1304\u001b[0;31m         return_value = get_return_value(\n\u001b[0m\u001b[1;32m   1305\u001b[0m             answer, self.gateway_client, self.target_id, self.name)\n\u001b[1;32m   1306\u001b[0m \u001b[0;34m\u001b[0m\u001b[0m\n",
      "\u001b[0;32m/usr/local/anaconda3/lib/python3.8/site-packages/pyspark/sql/utils.py\u001b[0m in \u001b[0;36mdeco\u001b[0;34m(*a, **kw)\u001b[0m\n\u001b[1;32m    115\u001b[0m                 \u001b[0;31m# Hide where the exception came from that shows a non-Pythonic\u001b[0m\u001b[0;34m\u001b[0m\u001b[0;34m\u001b[0m\u001b[0;34m\u001b[0m\u001b[0m\n\u001b[1;32m    116\u001b[0m                 \u001b[0;31m# JVM exception message.\u001b[0m\u001b[0;34m\u001b[0m\u001b[0;34m\u001b[0m\u001b[0;34m\u001b[0m\u001b[0m\n\u001b[0;32m--> 117\u001b[0;31m                 \u001b[0;32mraise\u001b[0m \u001b[0mconverted\u001b[0m \u001b[0;32mfrom\u001b[0m \u001b[0;32mNone\u001b[0m\u001b[0;34m\u001b[0m\u001b[0;34m\u001b[0m\u001b[0m\n\u001b[0m\u001b[1;32m    118\u001b[0m             \u001b[0;32melse\u001b[0m\u001b[0;34m:\u001b[0m\u001b[0;34m\u001b[0m\u001b[0;34m\u001b[0m\u001b[0m\n\u001b[1;32m    119\u001b[0m                 \u001b[0;32mraise\u001b[0m\u001b[0;34m\u001b[0m\u001b[0;34m\u001b[0m\u001b[0m\n",
      "\u001b[0;31mAnalysisException\u001b[0m: cannot resolve '` `' given input columns: [day, sex, size, smoker, time, tip, total_bill];\n'Project [concat(day#4, ' , time#5) AS concat(day,  , time)#446]\n+- LogicalRDD [total_bill#0, tip#1, sex#2, smoker#3, day#4, time#5, size#6L], false\n"
     ]
    }
   ],
   "source": [
    "df.select(concat('day', ' ', 'time')).show(5)"
   ]
  },
  {
   "cell_type": "code",
   "execution_count": 35,
   "id": "surrounded-poster",
   "metadata": {},
   "outputs": [
    {
     "name": "stdout",
     "output_type": "stream",
     "text": [
      "+--------------------+\n",
      "|concat(day,  , time)|\n",
      "+--------------------+\n",
      "|          Sun Dinner|\n",
      "|          Sun Dinner|\n",
      "|          Sun Dinner|\n",
      "|          Sun Dinner|\n",
      "|          Sun Dinner|\n",
      "+--------------------+\n",
      "only showing top 5 rows\n",
      "\n"
     ]
    }
   ],
   "source": [
    "df.select(concat('day', lit(' '), 'time')).show(5)"
   ]
  },
  {
   "cell_type": "code",
   "execution_count": 37,
   "id": "d07c4428-12c8-4f6a-bb13-d82639a73e50",
   "metadata": {},
   "outputs": [
    {
     "name": "stdout",
     "output_type": "stream",
     "text": [
      "+----------+----+------+------+---+------+----+\n",
      "|total_bill| tip|   sex|smoker|day|  time|size|\n",
      "+----------+----+------+------+---+------+----+\n",
      "|     16.99|1.01|Female|    No|Sun|Dinner|   2|\n",
      "|     10.34|1.66|  Male|    No|Sun|Dinner|   3|\n",
      "|     21.01| 3.5|  Male|    No|Sun|Dinner|   3|\n",
      "|     23.68|3.31|  Male|    No|Sun|Dinner|   2|\n",
      "|     24.59|3.61|Female|    No|Sun|Dinner|   4|\n",
      "+----------+----+------+------+---+------+----+\n",
      "only showing top 5 rows\n",
      "\n"
     ]
    }
   ],
   "source": [
    "df.show(5)"
   ]
  },
  {
   "cell_type": "code",
   "execution_count": 40,
   "id": "920e5ddc-195b-41d2-ae6f-2bcef27ce878",
   "metadata": {},
   "outputs": [
    {
     "data": {
      "text/plain": [
       "Column<'CAST(size AS STRING)'>"
      ]
     },
     "execution_count": 40,
     "metadata": {},
     "output_type": "execute_result"
    }
   ],
   "source": [
    "df.size.cast('string')"
   ]
  },
  {
   "cell_type": "code",
   "execution_count": 43,
   "id": "higher-brazilian",
   "metadata": {},
   "outputs": [
    {
     "data": {
      "text/plain": [
       "244"
      ]
     },
     "execution_count": 43,
     "metadata": {},
     "output_type": "execute_result"
    }
   ],
   "source": [
    "df.select(df.size.cast('string')).count()"
   ]
  },
  {
   "cell_type": "code",
   "execution_count": 44,
   "id": "employed-stuff",
   "metadata": {},
   "outputs": [],
   "source": [
    "df = df.select(\n",
    "    '*',\n",
    "    (df.tip / df.total_bill).alias('tip_pct')\n",
    ")"
   ]
  },
  {
   "cell_type": "code",
   "execution_count": 45,
   "id": "ce7077a7-6ac2-473f-b32b-18987ce77d10",
   "metadata": {},
   "outputs": [
    {
     "data": {
      "text/plain": [
       "DataFrame[total_bill: double, tip: double, sex: string, smoker: string, day: string, time: string, size: bigint, tip_pct: double]"
      ]
     },
     "execution_count": 45,
     "metadata": {},
     "output_type": "execute_result"
    }
   ],
   "source": [
    "df"
   ]
  },
  {
   "cell_type": "markdown",
   "id": "6ffe548f-0d9f-48f5-92cf-df2631ec8e8b",
   "metadata": {},
   "source": [
    "### When / Otherwise"
   ]
  },
  {
   "cell_type": "code",
   "execution_count": 48,
   "id": "3e797081-bf41-483d-b8aa-013abac5c75e",
   "metadata": {},
   "outputs": [
    {
     "data": {
      "text/plain": [
       "Column<'CASE WHEN (tip_pct > 0.2) THEN good tip END'>"
      ]
     },
     "execution_count": 48,
     "metadata": {},
     "output_type": "execute_result"
    }
   ],
   "source": [
    "when(df.tip_pct > .2, 'good tip')"
   ]
  },
  {
   "cell_type": "code",
   "execution_count": 52,
   "id": "704fd2e4-7d9c-4e70-9150-3a4b87431d70",
   "metadata": {},
   "outputs": [
    {
     "name": "stdout",
     "output_type": "stream",
     "text": [
      "+-------------------+---------------+\n",
      "|            tip_pct|tip_description|\n",
      "+-------------------+---------------+\n",
      "|0.05944673337257211|   not good tip|\n",
      "|0.16054158607350097|   not good tip|\n",
      "|0.16658733936220846|   not good tip|\n",
      "| 0.1397804054054054|   not good tip|\n",
      "|0.14680764538430255|   not good tip|\n",
      "|0.18623962040332148|   not good tip|\n",
      "|0.22805017103762829|       good tip|\n",
      "|0.11607142857142858|   not good tip|\n",
      "|0.13031914893617022|   not good tip|\n",
      "| 0.2185385656292287|       good tip|\n",
      "| 0.1665043816942551|   not good tip|\n",
      "|0.14180374361883155|   not good tip|\n",
      "|0.10181582360570687|   not good tip|\n",
      "|0.16277807921866522|   not good tip|\n",
      "|0.20364126770060686|       good tip|\n",
      "|0.18164967562557924|   not good tip|\n",
      "| 0.1616650532429816|   not good tip|\n",
      "|0.22774708410067526|       good tip|\n",
      "|0.20624631703005306|       good tip|\n",
      "|0.16222760290556903|   not good tip|\n",
      "|0.22767857142857142|       good tip|\n",
      "|0.13553474618038444|   not good tip|\n",
      "|0.14140773620798985|   not good tip|\n",
      "|0.19228817858954844|   not good tip|\n",
      "|0.16044399596367306|   not good tip|\n",
      "+-------------------+---------------+\n",
      "only showing top 25 rows\n",
      "\n"
     ]
    }
   ],
   "source": [
    "df.select(\n",
    "    'tip_pct',\n",
    "    when(df.tip_pct > .2, 'good tip').otherwise('not good tip').alias('tip_description')\n",
    ").show(25)"
   ]
  },
  {
   "cell_type": "code",
   "execution_count": 53,
   "id": "laughing-posting",
   "metadata": {},
   "outputs": [
    {
     "name": "stdout",
     "output_type": "stream",
     "text": [
      "+-------------------+------------+\n",
      "|            tip_pct|    tip_desc|\n",
      "+-------------------+------------+\n",
      "|0.05944673337257211|not good tip|\n",
      "|0.16054158607350097|not good tip|\n",
      "|0.16658733936220846|not good tip|\n",
      "| 0.1397804054054054|not good tip|\n",
      "|0.14680764538430255|not good tip|\n",
      "|0.18623962040332148|not good tip|\n",
      "|0.22805017103762829|    good tip|\n",
      "|0.11607142857142858|not good tip|\n",
      "|0.13031914893617022|not good tip|\n",
      "| 0.2185385656292287|    good tip|\n",
      "| 0.1665043816942551|not good tip|\n",
      "|0.14180374361883155|not good tip|\n",
      "|0.10181582360570687|not good tip|\n",
      "|0.16277807921866522|not good tip|\n",
      "|0.20364126770060686|    good tip|\n",
      "|0.18164967562557924|not good tip|\n",
      "| 0.1616650532429816|not good tip|\n",
      "|0.22774708410067526|    good tip|\n",
      "|0.20624631703005306|    good tip|\n",
      "|0.16222760290556903|not good tip|\n",
      "|0.22767857142857142|    good tip|\n",
      "|0.13553474618038444|not good tip|\n",
      "|0.14140773620798985|not good tip|\n",
      "|0.19228817858954844|not good tip|\n",
      "|0.16044399596367306|not good tip|\n",
      "+-------------------+------------+\n",
      "only showing top 25 rows\n",
      "\n"
     ]
    }
   ],
   "source": [
    "df.select(\n",
    "    'tip_pct',\n",
    "    (when(df.tip_pct > .2, 'good tip')\n",
    "     .otherwise('not good tip')\n",
    "     .alias('tip_desc'))\n",
    ").show(25)"
   ]
  },
  {
   "cell_type": "markdown",
   "id": "07ab6553-9ffa-4f91-9058-42a9cdb3e388",
   "metadata": {},
   "source": [
    "### Regex"
   ]
  },
  {
   "cell_type": "code",
   "execution_count": 59,
   "id": "b6b0628f-bbd4-4d52-98a4-1fc4db9b5e6d",
   "metadata": {},
   "outputs": [
    {
     "ename": "Py4JJavaError",
     "evalue": "An error occurred while calling o358.showString.\n: org.apache.spark.SparkException: Job aborted due to stage failure: Task 0 in stage 38.0 failed 1 times, most recent failure: Lost task 0.0 in stage 38.0 (TID 59) (192.168.1.52 executor driver): java.lang.IllegalArgumentException: Regex group count is 0, but the specified group index is 1\n\tat org.apache.spark.sql.catalyst.expressions.RegExpExtractBase$.checkGroupIndex(regexpExpressions.scala:626)\n\tat org.apache.spark.sql.catalyst.expressions.RegExpExtractBase.checkGroupIndex(regexpExpressions.scala)\n\tat org.apache.spark.sql.catalyst.expressions.GeneratedClass$GeneratedIteratorForCodegenStage1.processNext(Unknown Source)\n\tat org.apache.spark.sql.execution.BufferedRowIterator.hasNext(BufferedRowIterator.java:43)\n\tat org.apache.spark.sql.execution.WholeStageCodegenExec$$anon$1.hasNext(WholeStageCodegenExec.scala:755)\n\tat org.apache.spark.sql.execution.SparkPlan.$anonfun$getByteArrayRdd$1(SparkPlan.scala:345)\n\tat org.apache.spark.rdd.RDD.$anonfun$mapPartitionsInternal$2(RDD.scala:898)\n\tat org.apache.spark.rdd.RDD.$anonfun$mapPartitionsInternal$2$adapted(RDD.scala:898)\n\tat org.apache.spark.rdd.MapPartitionsRDD.compute(MapPartitionsRDD.scala:52)\n\tat org.apache.spark.rdd.RDD.computeOrReadCheckpoint(RDD.scala:373)\n\tat org.apache.spark.rdd.RDD.iterator(RDD.scala:337)\n\tat org.apache.spark.scheduler.ResultTask.runTask(ResultTask.scala:90)\n\tat org.apache.spark.scheduler.Task.run(Task.scala:131)\n\tat org.apache.spark.executor.Executor$TaskRunner.$anonfun$run$3(Executor.scala:497)\n\tat org.apache.spark.util.Utils$.tryWithSafeFinally(Utils.scala:1439)\n\tat org.apache.spark.executor.Executor$TaskRunner.run(Executor.scala:500)\n\tat java.base/java.util.concurrent.ThreadPoolExecutor.runWorker(ThreadPoolExecutor.java:1128)\n\tat java.base/java.util.concurrent.ThreadPoolExecutor$Worker.run(ThreadPoolExecutor.java:628)\n\tat java.base/java.lang.Thread.run(Thread.java:834)\n\nDriver stacktrace:\n\tat org.apache.spark.scheduler.DAGScheduler.failJobAndIndependentStages(DAGScheduler.scala:2258)\n\tat org.apache.spark.scheduler.DAGScheduler.$anonfun$abortStage$2(DAGScheduler.scala:2207)\n\tat org.apache.spark.scheduler.DAGScheduler.$anonfun$abortStage$2$adapted(DAGScheduler.scala:2206)\n\tat scala.collection.mutable.ResizableArray.foreach(ResizableArray.scala:62)\n\tat scala.collection.mutable.ResizableArray.foreach$(ResizableArray.scala:55)\n\tat scala.collection.mutable.ArrayBuffer.foreach(ArrayBuffer.scala:49)\n\tat org.apache.spark.scheduler.DAGScheduler.abortStage(DAGScheduler.scala:2206)\n\tat org.apache.spark.scheduler.DAGScheduler.$anonfun$handleTaskSetFailed$1(DAGScheduler.scala:1079)\n\tat org.apache.spark.scheduler.DAGScheduler.$anonfun$handleTaskSetFailed$1$adapted(DAGScheduler.scala:1079)\n\tat scala.Option.foreach(Option.scala:407)\n\tat org.apache.spark.scheduler.DAGScheduler.handleTaskSetFailed(DAGScheduler.scala:1079)\n\tat org.apache.spark.scheduler.DAGSchedulerEventProcessLoop.doOnReceive(DAGScheduler.scala:2445)\n\tat org.apache.spark.scheduler.DAGSchedulerEventProcessLoop.onReceive(DAGScheduler.scala:2387)\n\tat org.apache.spark.scheduler.DAGSchedulerEventProcessLoop.onReceive(DAGScheduler.scala:2376)\n\tat org.apache.spark.util.EventLoop$$anon$1.run(EventLoop.scala:49)\n\tat org.apache.spark.scheduler.DAGScheduler.runJob(DAGScheduler.scala:868)\n\tat org.apache.spark.SparkContext.runJob(SparkContext.scala:2196)\n\tat org.apache.spark.SparkContext.runJob(SparkContext.scala:2217)\n\tat org.apache.spark.SparkContext.runJob(SparkContext.scala:2236)\n\tat org.apache.spark.sql.execution.SparkPlan.executeTake(SparkPlan.scala:472)\n\tat org.apache.spark.sql.execution.SparkPlan.executeTake(SparkPlan.scala:425)\n\tat org.apache.spark.sql.execution.CollectLimitExec.executeCollect(limit.scala:47)\n\tat org.apache.spark.sql.Dataset.collectFromPlan(Dataset.scala:3696)\n\tat org.apache.spark.sql.Dataset.$anonfun$head$1(Dataset.scala:2722)\n\tat org.apache.spark.sql.Dataset.$anonfun$withAction$1(Dataset.scala:3687)\n\tat org.apache.spark.sql.execution.SQLExecution$.$anonfun$withNewExecutionId$5(SQLExecution.scala:103)\n\tat org.apache.spark.sql.execution.SQLExecution$.withSQLConfPropagated(SQLExecution.scala:163)\n\tat org.apache.spark.sql.execution.SQLExecution$.$anonfun$withNewExecutionId$1(SQLExecution.scala:90)\n\tat org.apache.spark.sql.SparkSession.withActive(SparkSession.scala:775)\n\tat org.apache.spark.sql.execution.SQLExecution$.withNewExecutionId(SQLExecution.scala:64)\n\tat org.apache.spark.sql.Dataset.withAction(Dataset.scala:3685)\n\tat org.apache.spark.sql.Dataset.head(Dataset.scala:2722)\n\tat org.apache.spark.sql.Dataset.take(Dataset.scala:2929)\n\tat org.apache.spark.sql.Dataset.getRows(Dataset.scala:301)\n\tat org.apache.spark.sql.Dataset.showString(Dataset.scala:338)\n\tat jdk.internal.reflect.GeneratedMethodAccessor55.invoke(Unknown Source)\n\tat java.base/jdk.internal.reflect.DelegatingMethodAccessorImpl.invoke(DelegatingMethodAccessorImpl.java:43)\n\tat java.base/java.lang.reflect.Method.invoke(Method.java:566)\n\tat py4j.reflection.MethodInvoker.invoke(MethodInvoker.java:244)\n\tat py4j.reflection.ReflectionEngine.invoke(ReflectionEngine.java:357)\n\tat py4j.Gateway.invoke(Gateway.java:282)\n\tat py4j.commands.AbstractCommand.invokeMethod(AbstractCommand.java:132)\n\tat py4j.commands.CallCommand.execute(CallCommand.java:79)\n\tat py4j.GatewayConnection.run(GatewayConnection.java:238)\n\tat java.base/java.lang.Thread.run(Thread.java:834)\nCaused by: java.lang.IllegalArgumentException: Regex group count is 0, but the specified group index is 1\n\tat org.apache.spark.sql.catalyst.expressions.RegExpExtractBase$.checkGroupIndex(regexpExpressions.scala:626)\n\tat org.apache.spark.sql.catalyst.expressions.RegExpExtractBase.checkGroupIndex(regexpExpressions.scala)\n\tat org.apache.spark.sql.catalyst.expressions.GeneratedClass$GeneratedIteratorForCodegenStage1.processNext(Unknown Source)\n\tat org.apache.spark.sql.execution.BufferedRowIterator.hasNext(BufferedRowIterator.java:43)\n\tat org.apache.spark.sql.execution.WholeStageCodegenExec$$anon$1.hasNext(WholeStageCodegenExec.scala:755)\n\tat org.apache.spark.sql.execution.SparkPlan.$anonfun$getByteArrayRdd$1(SparkPlan.scala:345)\n\tat org.apache.spark.rdd.RDD.$anonfun$mapPartitionsInternal$2(RDD.scala:898)\n\tat org.apache.spark.rdd.RDD.$anonfun$mapPartitionsInternal$2$adapted(RDD.scala:898)\n\tat org.apache.spark.rdd.MapPartitionsRDD.compute(MapPartitionsRDD.scala:52)\n\tat org.apache.spark.rdd.RDD.computeOrReadCheckpoint(RDD.scala:373)\n\tat org.apache.spark.rdd.RDD.iterator(RDD.scala:337)\n\tat org.apache.spark.scheduler.ResultTask.runTask(ResultTask.scala:90)\n\tat org.apache.spark.scheduler.Task.run(Task.scala:131)\n\tat org.apache.spark.executor.Executor$TaskRunner.$anonfun$run$3(Executor.scala:497)\n\tat org.apache.spark.util.Utils$.tryWithSafeFinally(Utils.scala:1439)\n\tat org.apache.spark.executor.Executor$TaskRunner.run(Executor.scala:500)\n\tat java.base/java.util.concurrent.ThreadPoolExecutor.runWorker(ThreadPoolExecutor.java:1128)\n\tat java.base/java.util.concurrent.ThreadPoolExecutor$Worker.run(ThreadPoolExecutor.java:628)\n\t... 1 more\n",
     "output_type": "error",
     "traceback": [
      "\u001b[0;31m---------------------------------------------------------------------------\u001b[0m",
      "\u001b[0;31mPy4JJavaError\u001b[0m                             Traceback (most recent call last)",
      "\u001b[0;32m<ipython-input-59-60534323958b>\u001b[0m in \u001b[0;36m<module>\u001b[0;34m\u001b[0m\n\u001b[0;32m----> 1\u001b[0;31m df.select(\n\u001b[0m\u001b[1;32m      2\u001b[0m     \u001b[0;34m'time'\u001b[0m\u001b[0;34m,\u001b[0m\u001b[0;34m\u001b[0m\u001b[0;34m\u001b[0m\u001b[0m\n\u001b[1;32m      3\u001b[0m     \u001b[0mregexp_extract\u001b[0m\u001b[0;34m(\u001b[0m\u001b[0;34m'time'\u001b[0m\u001b[0;34m,\u001b[0m \u001b[0;34mr'^.{3}'\u001b[0m\u001b[0;34m,\u001b[0m \u001b[0;36m1\u001b[0m\u001b[0;34m)\u001b[0m\u001b[0;34m.\u001b[0m\u001b[0malias\u001b[0m\u001b[0;34m(\u001b[0m\u001b[0;34m'first_letter'\u001b[0m\u001b[0;34m)\u001b[0m\u001b[0;34m,\u001b[0m\u001b[0;34m\u001b[0m\u001b[0;34m\u001b[0m\u001b[0m\n\u001b[1;32m      4\u001b[0m     \u001b[0mregexp_replace\u001b[0m\u001b[0;34m(\u001b[0m\u001b[0;34m'time'\u001b[0m\u001b[0;34m,\u001b[0m \u001b[0;34mr'[aeiou]'\u001b[0m\u001b[0;34m,\u001b[0m \u001b[0;34m'X'\u001b[0m\u001b[0;34m)\u001b[0m\u001b[0;34m\u001b[0m\u001b[0;34m\u001b[0m\u001b[0m\n\u001b[1;32m      5\u001b[0m ).show(5)\n",
      "\u001b[0;32m/usr/local/anaconda3/lib/python3.8/site-packages/pyspark/sql/dataframe.py\u001b[0m in \u001b[0;36mshow\u001b[0;34m(self, n, truncate, vertical)\u001b[0m\n\u001b[1;32m    482\u001b[0m         \"\"\"\n\u001b[1;32m    483\u001b[0m         \u001b[0;32mif\u001b[0m \u001b[0misinstance\u001b[0m\u001b[0;34m(\u001b[0m\u001b[0mtruncate\u001b[0m\u001b[0;34m,\u001b[0m \u001b[0mbool\u001b[0m\u001b[0;34m)\u001b[0m \u001b[0;32mand\u001b[0m \u001b[0mtruncate\u001b[0m\u001b[0;34m:\u001b[0m\u001b[0;34m\u001b[0m\u001b[0;34m\u001b[0m\u001b[0m\n\u001b[0;32m--> 484\u001b[0;31m             \u001b[0mprint\u001b[0m\u001b[0;34m(\u001b[0m\u001b[0mself\u001b[0m\u001b[0;34m.\u001b[0m\u001b[0m_jdf\u001b[0m\u001b[0;34m.\u001b[0m\u001b[0mshowString\u001b[0m\u001b[0;34m(\u001b[0m\u001b[0mn\u001b[0m\u001b[0;34m,\u001b[0m \u001b[0;36m20\u001b[0m\u001b[0;34m,\u001b[0m \u001b[0mvertical\u001b[0m\u001b[0;34m)\u001b[0m\u001b[0;34m)\u001b[0m\u001b[0;34m\u001b[0m\u001b[0;34m\u001b[0m\u001b[0m\n\u001b[0m\u001b[1;32m    485\u001b[0m         \u001b[0;32melse\u001b[0m\u001b[0;34m:\u001b[0m\u001b[0;34m\u001b[0m\u001b[0;34m\u001b[0m\u001b[0m\n\u001b[1;32m    486\u001b[0m             \u001b[0mprint\u001b[0m\u001b[0;34m(\u001b[0m\u001b[0mself\u001b[0m\u001b[0;34m.\u001b[0m\u001b[0m_jdf\u001b[0m\u001b[0;34m.\u001b[0m\u001b[0mshowString\u001b[0m\u001b[0;34m(\u001b[0m\u001b[0mn\u001b[0m\u001b[0;34m,\u001b[0m \u001b[0mint\u001b[0m\u001b[0;34m(\u001b[0m\u001b[0mtruncate\u001b[0m\u001b[0;34m)\u001b[0m\u001b[0;34m,\u001b[0m \u001b[0mvertical\u001b[0m\u001b[0;34m)\u001b[0m\u001b[0;34m)\u001b[0m\u001b[0;34m\u001b[0m\u001b[0;34m\u001b[0m\u001b[0m\n",
      "\u001b[0;32m/usr/local/anaconda3/lib/python3.8/site-packages/py4j/java_gateway.py\u001b[0m in \u001b[0;36m__call__\u001b[0;34m(self, *args)\u001b[0m\n\u001b[1;32m   1302\u001b[0m \u001b[0;34m\u001b[0m\u001b[0m\n\u001b[1;32m   1303\u001b[0m         \u001b[0manswer\u001b[0m \u001b[0;34m=\u001b[0m \u001b[0mself\u001b[0m\u001b[0;34m.\u001b[0m\u001b[0mgateway_client\u001b[0m\u001b[0;34m.\u001b[0m\u001b[0msend_command\u001b[0m\u001b[0;34m(\u001b[0m\u001b[0mcommand\u001b[0m\u001b[0;34m)\u001b[0m\u001b[0;34m\u001b[0m\u001b[0;34m\u001b[0m\u001b[0m\n\u001b[0;32m-> 1304\u001b[0;31m         return_value = get_return_value(\n\u001b[0m\u001b[1;32m   1305\u001b[0m             answer, self.gateway_client, self.target_id, self.name)\n\u001b[1;32m   1306\u001b[0m \u001b[0;34m\u001b[0m\u001b[0m\n",
      "\u001b[0;32m/usr/local/anaconda3/lib/python3.8/site-packages/pyspark/sql/utils.py\u001b[0m in \u001b[0;36mdeco\u001b[0;34m(*a, **kw)\u001b[0m\n\u001b[1;32m    109\u001b[0m     \u001b[0;32mdef\u001b[0m \u001b[0mdeco\u001b[0m\u001b[0;34m(\u001b[0m\u001b[0;34m*\u001b[0m\u001b[0ma\u001b[0m\u001b[0;34m,\u001b[0m \u001b[0;34m**\u001b[0m\u001b[0mkw\u001b[0m\u001b[0;34m)\u001b[0m\u001b[0;34m:\u001b[0m\u001b[0;34m\u001b[0m\u001b[0;34m\u001b[0m\u001b[0m\n\u001b[1;32m    110\u001b[0m         \u001b[0;32mtry\u001b[0m\u001b[0;34m:\u001b[0m\u001b[0;34m\u001b[0m\u001b[0;34m\u001b[0m\u001b[0m\n\u001b[0;32m--> 111\u001b[0;31m             \u001b[0;32mreturn\u001b[0m \u001b[0mf\u001b[0m\u001b[0;34m(\u001b[0m\u001b[0;34m*\u001b[0m\u001b[0ma\u001b[0m\u001b[0;34m,\u001b[0m \u001b[0;34m**\u001b[0m\u001b[0mkw\u001b[0m\u001b[0;34m)\u001b[0m\u001b[0;34m\u001b[0m\u001b[0;34m\u001b[0m\u001b[0m\n\u001b[0m\u001b[1;32m    112\u001b[0m         \u001b[0;32mexcept\u001b[0m \u001b[0mpy4j\u001b[0m\u001b[0;34m.\u001b[0m\u001b[0mprotocol\u001b[0m\u001b[0;34m.\u001b[0m\u001b[0mPy4JJavaError\u001b[0m \u001b[0;32mas\u001b[0m \u001b[0me\u001b[0m\u001b[0;34m:\u001b[0m\u001b[0;34m\u001b[0m\u001b[0;34m\u001b[0m\u001b[0m\n\u001b[1;32m    113\u001b[0m             \u001b[0mconverted\u001b[0m \u001b[0;34m=\u001b[0m \u001b[0mconvert_exception\u001b[0m\u001b[0;34m(\u001b[0m\u001b[0me\u001b[0m\u001b[0;34m.\u001b[0m\u001b[0mjava_exception\u001b[0m\u001b[0;34m)\u001b[0m\u001b[0;34m\u001b[0m\u001b[0;34m\u001b[0m\u001b[0m\n",
      "\u001b[0;32m/usr/local/anaconda3/lib/python3.8/site-packages/py4j/protocol.py\u001b[0m in \u001b[0;36mget_return_value\u001b[0;34m(answer, gateway_client, target_id, name)\u001b[0m\n\u001b[1;32m    324\u001b[0m             \u001b[0mvalue\u001b[0m \u001b[0;34m=\u001b[0m \u001b[0mOUTPUT_CONVERTER\u001b[0m\u001b[0;34m[\u001b[0m\u001b[0mtype\u001b[0m\u001b[0;34m]\u001b[0m\u001b[0;34m(\u001b[0m\u001b[0manswer\u001b[0m\u001b[0;34m[\u001b[0m\u001b[0;36m2\u001b[0m\u001b[0;34m:\u001b[0m\u001b[0;34m]\u001b[0m\u001b[0;34m,\u001b[0m \u001b[0mgateway_client\u001b[0m\u001b[0;34m)\u001b[0m\u001b[0;34m\u001b[0m\u001b[0;34m\u001b[0m\u001b[0m\n\u001b[1;32m    325\u001b[0m             \u001b[0;32mif\u001b[0m \u001b[0manswer\u001b[0m\u001b[0;34m[\u001b[0m\u001b[0;36m1\u001b[0m\u001b[0;34m]\u001b[0m \u001b[0;34m==\u001b[0m \u001b[0mREFERENCE_TYPE\u001b[0m\u001b[0;34m:\u001b[0m\u001b[0;34m\u001b[0m\u001b[0;34m\u001b[0m\u001b[0m\n\u001b[0;32m--> 326\u001b[0;31m                 raise Py4JJavaError(\n\u001b[0m\u001b[1;32m    327\u001b[0m                     \u001b[0;34m\"An error occurred while calling {0}{1}{2}.\\n\"\u001b[0m\u001b[0;34m.\u001b[0m\u001b[0;34m\u001b[0m\u001b[0;34m\u001b[0m\u001b[0m\n\u001b[1;32m    328\u001b[0m                     format(target_id, \".\", name), value)\n",
      "\u001b[0;31mPy4JJavaError\u001b[0m: An error occurred while calling o358.showString.\n: org.apache.spark.SparkException: Job aborted due to stage failure: Task 0 in stage 38.0 failed 1 times, most recent failure: Lost task 0.0 in stage 38.0 (TID 59) (192.168.1.52 executor driver): java.lang.IllegalArgumentException: Regex group count is 0, but the specified group index is 1\n\tat org.apache.spark.sql.catalyst.expressions.RegExpExtractBase$.checkGroupIndex(regexpExpressions.scala:626)\n\tat org.apache.spark.sql.catalyst.expressions.RegExpExtractBase.checkGroupIndex(regexpExpressions.scala)\n\tat org.apache.spark.sql.catalyst.expressions.GeneratedClass$GeneratedIteratorForCodegenStage1.processNext(Unknown Source)\n\tat org.apache.spark.sql.execution.BufferedRowIterator.hasNext(BufferedRowIterator.java:43)\n\tat org.apache.spark.sql.execution.WholeStageCodegenExec$$anon$1.hasNext(WholeStageCodegenExec.scala:755)\n\tat org.apache.spark.sql.execution.SparkPlan.$anonfun$getByteArrayRdd$1(SparkPlan.scala:345)\n\tat org.apache.spark.rdd.RDD.$anonfun$mapPartitionsInternal$2(RDD.scala:898)\n\tat org.apache.spark.rdd.RDD.$anonfun$mapPartitionsInternal$2$adapted(RDD.scala:898)\n\tat org.apache.spark.rdd.MapPartitionsRDD.compute(MapPartitionsRDD.scala:52)\n\tat org.apache.spark.rdd.RDD.computeOrReadCheckpoint(RDD.scala:373)\n\tat org.apache.spark.rdd.RDD.iterator(RDD.scala:337)\n\tat org.apache.spark.scheduler.ResultTask.runTask(ResultTask.scala:90)\n\tat org.apache.spark.scheduler.Task.run(Task.scala:131)\n\tat org.apache.spark.executor.Executor$TaskRunner.$anonfun$run$3(Executor.scala:497)\n\tat org.apache.spark.util.Utils$.tryWithSafeFinally(Utils.scala:1439)\n\tat org.apache.spark.executor.Executor$TaskRunner.run(Executor.scala:500)\n\tat java.base/java.util.concurrent.ThreadPoolExecutor.runWorker(ThreadPoolExecutor.java:1128)\n\tat java.base/java.util.concurrent.ThreadPoolExecutor$Worker.run(ThreadPoolExecutor.java:628)\n\tat java.base/java.lang.Thread.run(Thread.java:834)\n\nDriver stacktrace:\n\tat org.apache.spark.scheduler.DAGScheduler.failJobAndIndependentStages(DAGScheduler.scala:2258)\n\tat org.apache.spark.scheduler.DAGScheduler.$anonfun$abortStage$2(DAGScheduler.scala:2207)\n\tat org.apache.spark.scheduler.DAGScheduler.$anonfun$abortStage$2$adapted(DAGScheduler.scala:2206)\n\tat scala.collection.mutable.ResizableArray.foreach(ResizableArray.scala:62)\n\tat scala.collection.mutable.ResizableArray.foreach$(ResizableArray.scala:55)\n\tat scala.collection.mutable.ArrayBuffer.foreach(ArrayBuffer.scala:49)\n\tat org.apache.spark.scheduler.DAGScheduler.abortStage(DAGScheduler.scala:2206)\n\tat org.apache.spark.scheduler.DAGScheduler.$anonfun$handleTaskSetFailed$1(DAGScheduler.scala:1079)\n\tat org.apache.spark.scheduler.DAGScheduler.$anonfun$handleTaskSetFailed$1$adapted(DAGScheduler.scala:1079)\n\tat scala.Option.foreach(Option.scala:407)\n\tat org.apache.spark.scheduler.DAGScheduler.handleTaskSetFailed(DAGScheduler.scala:1079)\n\tat org.apache.spark.scheduler.DAGSchedulerEventProcessLoop.doOnReceive(DAGScheduler.scala:2445)\n\tat org.apache.spark.scheduler.DAGSchedulerEventProcessLoop.onReceive(DAGScheduler.scala:2387)\n\tat org.apache.spark.scheduler.DAGSchedulerEventProcessLoop.onReceive(DAGScheduler.scala:2376)\n\tat org.apache.spark.util.EventLoop$$anon$1.run(EventLoop.scala:49)\n\tat org.apache.spark.scheduler.DAGScheduler.runJob(DAGScheduler.scala:868)\n\tat org.apache.spark.SparkContext.runJob(SparkContext.scala:2196)\n\tat org.apache.spark.SparkContext.runJob(SparkContext.scala:2217)\n\tat org.apache.spark.SparkContext.runJob(SparkContext.scala:2236)\n\tat org.apache.spark.sql.execution.SparkPlan.executeTake(SparkPlan.scala:472)\n\tat org.apache.spark.sql.execution.SparkPlan.executeTake(SparkPlan.scala:425)\n\tat org.apache.spark.sql.execution.CollectLimitExec.executeCollect(limit.scala:47)\n\tat org.apache.spark.sql.Dataset.collectFromPlan(Dataset.scala:3696)\n\tat org.apache.spark.sql.Dataset.$anonfun$head$1(Dataset.scala:2722)\n\tat org.apache.spark.sql.Dataset.$anonfun$withAction$1(Dataset.scala:3687)\n\tat org.apache.spark.sql.execution.SQLExecution$.$anonfun$withNewExecutionId$5(SQLExecution.scala:103)\n\tat org.apache.spark.sql.execution.SQLExecution$.withSQLConfPropagated(SQLExecution.scala:163)\n\tat org.apache.spark.sql.execution.SQLExecution$.$anonfun$withNewExecutionId$1(SQLExecution.scala:90)\n\tat org.apache.spark.sql.SparkSession.withActive(SparkSession.scala:775)\n\tat org.apache.spark.sql.execution.SQLExecution$.withNewExecutionId(SQLExecution.scala:64)\n\tat org.apache.spark.sql.Dataset.withAction(Dataset.scala:3685)\n\tat org.apache.spark.sql.Dataset.head(Dataset.scala:2722)\n\tat org.apache.spark.sql.Dataset.take(Dataset.scala:2929)\n\tat org.apache.spark.sql.Dataset.getRows(Dataset.scala:301)\n\tat org.apache.spark.sql.Dataset.showString(Dataset.scala:338)\n\tat jdk.internal.reflect.GeneratedMethodAccessor55.invoke(Unknown Source)\n\tat java.base/jdk.internal.reflect.DelegatingMethodAccessorImpl.invoke(DelegatingMethodAccessorImpl.java:43)\n\tat java.base/java.lang.reflect.Method.invoke(Method.java:566)\n\tat py4j.reflection.MethodInvoker.invoke(MethodInvoker.java:244)\n\tat py4j.reflection.ReflectionEngine.invoke(ReflectionEngine.java:357)\n\tat py4j.Gateway.invoke(Gateway.java:282)\n\tat py4j.commands.AbstractCommand.invokeMethod(AbstractCommand.java:132)\n\tat py4j.commands.CallCommand.execute(CallCommand.java:79)\n\tat py4j.GatewayConnection.run(GatewayConnection.java:238)\n\tat java.base/java.lang.Thread.run(Thread.java:834)\nCaused by: java.lang.IllegalArgumentException: Regex group count is 0, but the specified group index is 1\n\tat org.apache.spark.sql.catalyst.expressions.RegExpExtractBase$.checkGroupIndex(regexpExpressions.scala:626)\n\tat org.apache.spark.sql.catalyst.expressions.RegExpExtractBase.checkGroupIndex(regexpExpressions.scala)\n\tat org.apache.spark.sql.catalyst.expressions.GeneratedClass$GeneratedIteratorForCodegenStage1.processNext(Unknown Source)\n\tat org.apache.spark.sql.execution.BufferedRowIterator.hasNext(BufferedRowIterator.java:43)\n\tat org.apache.spark.sql.execution.WholeStageCodegenExec$$anon$1.hasNext(WholeStageCodegenExec.scala:755)\n\tat org.apache.spark.sql.execution.SparkPlan.$anonfun$getByteArrayRdd$1(SparkPlan.scala:345)\n\tat org.apache.spark.rdd.RDD.$anonfun$mapPartitionsInternal$2(RDD.scala:898)\n\tat org.apache.spark.rdd.RDD.$anonfun$mapPartitionsInternal$2$adapted(RDD.scala:898)\n\tat org.apache.spark.rdd.MapPartitionsRDD.compute(MapPartitionsRDD.scala:52)\n\tat org.apache.spark.rdd.RDD.computeOrReadCheckpoint(RDD.scala:373)\n\tat org.apache.spark.rdd.RDD.iterator(RDD.scala:337)\n\tat org.apache.spark.scheduler.ResultTask.runTask(ResultTask.scala:90)\n\tat org.apache.spark.scheduler.Task.run(Task.scala:131)\n\tat org.apache.spark.executor.Executor$TaskRunner.$anonfun$run$3(Executor.scala:497)\n\tat org.apache.spark.util.Utils$.tryWithSafeFinally(Utils.scala:1439)\n\tat org.apache.spark.executor.Executor$TaskRunner.run(Executor.scala:500)\n\tat java.base/java.util.concurrent.ThreadPoolExecutor.runWorker(ThreadPoolExecutor.java:1128)\n\tat java.base/java.util.concurrent.ThreadPoolExecutor$Worker.run(ThreadPoolExecutor.java:628)\n\t... 1 more\n"
     ]
    }
   ],
   "source": [
    "df.select(\n",
    "    'time',\n",
    "    regexp_extract('time', r'^.{3}', 1).alias('first_letter'),\n",
    "    regexp_replace('time', r'[aeiou]', 'X')\n",
    ").show(5)"
   ]
  },
  {
   "cell_type": "markdown",
   "id": "conservative-reward",
   "metadata": {},
   "source": [
    "## Transforming Rows"
   ]
  },
  {
   "cell_type": "code",
   "execution_count": 60,
   "id": "decreased-diabetes",
   "metadata": {},
   "outputs": [
    {
     "name": "stdout",
     "output_type": "stream",
     "text": [
      "+----------+----+------+------+---+------+----+-------------------+\n",
      "|total_bill| tip|   sex|smoker|day|  time|size|            tip_pct|\n",
      "+----------+----+------+------+---+------+----+-------------------+\n",
      "|     16.99|1.01|Female|    No|Sun|Dinner|   2|0.05944673337257211|\n",
      "|     10.34|1.66|  Male|    No|Sun|Dinner|   3|0.16054158607350097|\n",
      "|     21.01| 3.5|  Male|    No|Sun|Dinner|   3|0.16658733936220846|\n",
      "|     23.68|3.31|  Male|    No|Sun|Dinner|   2| 0.1397804054054054|\n",
      "|     24.59|3.61|Female|    No|Sun|Dinner|   4|0.14680764538430255|\n",
      "|     25.29|4.71|  Male|    No|Sun|Dinner|   4|0.18623962040332148|\n",
      "|      8.77| 2.0|  Male|    No|Sun|Dinner|   2|0.22805017103762829|\n",
      "|     26.88|3.12|  Male|    No|Sun|Dinner|   4|0.11607142857142858|\n",
      "|     15.04|1.96|  Male|    No|Sun|Dinner|   2|0.13031914893617022|\n",
      "|     14.78|3.23|  Male|    No|Sun|Dinner|   2| 0.2185385656292287|\n",
      "|     10.27|1.71|  Male|    No|Sun|Dinner|   2| 0.1665043816942551|\n",
      "|     35.26| 5.0|Female|    No|Sun|Dinner|   4|0.14180374361883155|\n",
      "|     15.42|1.57|  Male|    No|Sun|Dinner|   2|0.10181582360570687|\n",
      "|     18.43| 3.0|  Male|    No|Sun|Dinner|   4|0.16277807921866522|\n",
      "|     14.83|3.02|Female|    No|Sun|Dinner|   2|0.20364126770060686|\n",
      "|     21.58|3.92|  Male|    No|Sun|Dinner|   2|0.18164967562557924|\n",
      "|     10.33|1.67|Female|    No|Sun|Dinner|   3| 0.1616650532429816|\n",
      "|     16.29|3.71|  Male|    No|Sun|Dinner|   3|0.22774708410067526|\n",
      "|     16.97| 3.5|Female|    No|Sun|Dinner|   3|0.20624631703005306|\n",
      "|     20.65|3.35|  Male|    No|Sat|Dinner|   3|0.16222760290556903|\n",
      "+----------+----+------+------+---+------+----+-------------------+\n",
      "only showing top 20 rows\n",
      "\n"
     ]
    }
   ],
   "source": [
    "df.show()"
   ]
  },
  {
   "cell_type": "markdown",
   "id": "881d4fdf-7fce-4756-8d36-36de8b159a40",
   "metadata": {},
   "source": [
    "### Sorting"
   ]
  },
  {
   "cell_type": "code",
   "execution_count": 61,
   "id": "violent-celebrity",
   "metadata": {},
   "outputs": [
    {
     "name": "stdout",
     "output_type": "stream",
     "text": [
      "+----------+----+------+------+----+------+----+-------------------+\n",
      "|total_bill| tip|   sex|smoker| day|  time|size|            tip_pct|\n",
      "+----------+----+------+------+----+------+----+-------------------+\n",
      "|      3.07| 1.0|Female|   Yes| Sat|Dinner|   1|0.32573289902280134|\n",
      "|      5.75| 1.0|Female|   Yes| Fri|Dinner|   2|0.17391304347826086|\n",
      "|      7.25| 1.0|Female|    No| Sat|Dinner|   1|0.13793103448275862|\n",
      "|      7.25|5.15|  Male|   Yes| Sun|Dinner|   2|  0.710344827586207|\n",
      "|      7.51| 2.0|  Male|    No|Thur| Lunch|   2| 0.2663115845539281|\n",
      "|      7.56|1.44|  Male|    No|Thur| Lunch|   2|0.19047619047619047|\n",
      "|      7.74|1.44|  Male|   Yes| Sat|Dinner|   2|0.18604651162790697|\n",
      "|      8.35| 1.5|Female|    No|Thur| Lunch|   2|0.17964071856287425|\n",
      "|      8.51|1.25|Female|    No|Thur| Lunch|   2|0.14688601645123384|\n",
      "|      8.52|1.48|  Male|    No|Thur| Lunch|   2|0.17370892018779344|\n",
      "|      8.58|1.92|  Male|   Yes| Fri| Lunch|   1|0.22377622377622378|\n",
      "|      8.77| 2.0|  Male|    No| Sun|Dinner|   2|0.22805017103762829|\n",
      "|      9.55|1.45|  Male|    No| Sat|Dinner|   2| 0.1518324607329843|\n",
      "|       9.6| 4.0|Female|   Yes| Sun|Dinner|   2| 0.4166666666666667|\n",
      "|      9.68|1.32|  Male|    No| Sun|Dinner|   2|0.13636363636363638|\n",
      "|      9.78|1.73|  Male|    No|Thur| Lunch|   2| 0.1768916155419223|\n",
      "|      9.94|1.56|  Male|    No| Sun|Dinner|   2|0.15694164989939638|\n",
      "|     10.07|1.83|Female|    No|Thur| Lunch|   1| 0.1817279046673287|\n",
      "|     10.07|1.25|  Male|    No| Sat|Dinner|   2|0.12413108242303872|\n",
      "|     10.09| 2.0|Female|   Yes| Fri| Lunch|   2|0.19821605550049554|\n",
      "+----------+----+------+------+----+------+----+-------------------+\n",
      "only showing top 20 rows\n",
      "\n"
     ]
    }
   ],
   "source": [
    "df.orderBy(df.total_bill).show()"
   ]
  },
  {
   "cell_type": "code",
   "execution_count": 62,
   "id": "round-february",
   "metadata": {},
   "outputs": [
    {
     "name": "stdout",
     "output_type": "stream",
     "text": [
      "+----------+----+------+------+---+------+----+-------------------+\n",
      "|total_bill| tip|   sex|smoker|day|  time|size|            tip_pct|\n",
      "+----------+----+------+------+---+------+----+-------------------+\n",
      "|      8.58|1.92|  Male|   Yes|Fri| Lunch|   1|0.22377622377622378|\n",
      "|     11.35| 2.5|Female|   Yes|Fri|Dinner|   2|0.22026431718061676|\n",
      "|     21.01| 3.0|  Male|   Yes|Fri|Dinner|   2| 0.1427891480247501|\n",
      "|     12.46| 1.5|  Male|    No|Fri|Dinner|   2| 0.1203852327447833|\n",
      "|     27.28| 4.0|  Male|   Yes|Fri|Dinner|   2|0.14662756598240467|\n",
      "|     15.38| 3.0|Female|   Yes|Fri|Dinner|   2|0.19505851755526657|\n",
      "|     22.75|3.25|Female|    No|Fri|Dinner|   2|0.14285714285714285|\n",
      "|      5.75| 1.0|Female|   Yes|Fri|Dinner|   2|0.17391304347826086|\n",
      "|     10.09| 2.0|Female|   Yes|Fri| Lunch|   2|0.19821605550049554|\n",
      "|     12.16| 2.2|  Male|   Yes|Fri| Lunch|   2|0.18092105263157895|\n",
      "|     13.42|3.48|Female|   Yes|Fri| Lunch|   2| 0.2593144560357675|\n",
      "|     16.32| 4.3|Female|   Yes|Fri|Dinner|   2|0.26348039215686275|\n",
      "|     28.97| 3.0|  Male|   Yes|Fri|Dinner|   2|0.10355540214014498|\n",
      "|     13.42|1.58|  Male|   Yes|Fri| Lunch|   2|0.11773472429210134|\n",
      "|     22.49| 3.5|  Male|    No|Fri|Dinner|   2|0.15562472209871056|\n",
      "|     16.27| 2.5|Female|   Yes|Fri| Lunch|   2|0.15365703749231716|\n",
      "|     12.03| 1.5|  Male|   Yes|Fri|Dinner|   2|0.12468827930174564|\n",
      "|     15.98| 3.0|Female|    No|Fri| Lunch|   3|0.18773466833541927|\n",
      "|     40.17|4.73|  Male|   Yes|Fri|Dinner|   4| 0.1177495643515061|\n",
      "|      7.25| 1.0|Female|    No|Sat|Dinner|   1|0.13793103448275862|\n",
      "+----------+----+------+------+---+------+----+-------------------+\n",
      "only showing top 20 rows\n",
      "\n"
     ]
    }
   ],
   "source": [
    "df.sort(df.day, df.size).show()"
   ]
  },
  {
   "cell_type": "code",
   "execution_count": 64,
   "id": "collected-landscape",
   "metadata": {},
   "outputs": [],
   "source": [
    "from pyspark.sql.functions import asc, desc, col"
   ]
  },
  {
   "cell_type": "code",
   "execution_count": 65,
   "id": "active-prairie",
   "metadata": {},
   "outputs": [
    {
     "name": "stdout",
     "output_type": "stream",
     "text": [
      "+----------+----+------+------+---+------+----+-------------------+\n",
      "|total_bill| tip|   sex|smoker|day|  time|size|            tip_pct|\n",
      "+----------+----+------+------+---+------+----+-------------------+\n",
      "|     40.17|4.73|  Male|   Yes|Fri|Dinner|   4| 0.1177495643515061|\n",
      "|     22.49| 3.5|  Male|    No|Fri|Dinner|   2|0.15562472209871056|\n",
      "|      5.75| 1.0|Female|   Yes|Fri|Dinner|   2|0.17391304347826086|\n",
      "|     11.35| 2.5|Female|   Yes|Fri|Dinner|   2|0.22026431718061676|\n",
      "|     15.38| 3.0|Female|   Yes|Fri|Dinner|   2|0.19505851755526657|\n",
      "|     22.75|3.25|Female|    No|Fri|Dinner|   2|0.14285714285714285|\n",
      "|     27.28| 4.0|  Male|   Yes|Fri|Dinner|   2|0.14662756598240467|\n",
      "|     28.97| 3.0|  Male|   Yes|Fri|Dinner|   2|0.10355540214014498|\n",
      "|     12.03| 1.5|  Male|   Yes|Fri|Dinner|   2|0.12468827930174564|\n",
      "|     21.01| 3.0|  Male|   Yes|Fri|Dinner|   2| 0.1427891480247501|\n",
      "|     16.32| 4.3|Female|   Yes|Fri|Dinner|   2|0.26348039215686275|\n",
      "|     12.46| 1.5|  Male|    No|Fri|Dinner|   2| 0.1203852327447833|\n",
      "|     15.98| 3.0|Female|    No|Fri| Lunch|   3|0.18773466833541927|\n",
      "|     13.42|1.58|  Male|   Yes|Fri| Lunch|   2|0.11773472429210134|\n",
      "|     10.09| 2.0|Female|   Yes|Fri| Lunch|   2|0.19821605550049554|\n",
      "|     12.16| 2.2|  Male|   Yes|Fri| Lunch|   2|0.18092105263157895|\n",
      "|     13.42|3.48|Female|   Yes|Fri| Lunch|   2| 0.2593144560357675|\n",
      "|     16.27| 2.5|Female|   Yes|Fri| Lunch|   2|0.15365703749231716|\n",
      "|      8.58|1.92|  Male|   Yes|Fri| Lunch|   1|0.22377622377622378|\n",
      "|     28.15| 3.0|  Male|   Yes|Sat|Dinner|   5|0.10657193605683837|\n",
      "+----------+----+------+------+---+------+----+-------------------+\n",
      "only showing top 20 rows\n",
      "\n"
     ]
    }
   ],
   "source": [
    "df.sort(df.day, asc('time'), desc('size')).show()"
   ]
  },
  {
   "cell_type": "code",
   "execution_count": 67,
   "id": "3a3677bc-27fb-4621-9592-a0f2b8c69674",
   "metadata": {},
   "outputs": [
    {
     "data": {
      "text/plain": [
       "Column<'size'>"
      ]
     },
     "execution_count": 67,
     "metadata": {},
     "output_type": "execute_result"
    }
   ],
   "source": [
    "col('size')"
   ]
  },
  {
   "cell_type": "code",
   "execution_count": 68,
   "id": "dominican-cherry",
   "metadata": {},
   "outputs": [
    {
     "data": {
      "text/plain": [
       "Column<'size DESC NULLS LAST'>"
      ]
     },
     "execution_count": 68,
     "metadata": {},
     "output_type": "execute_result"
    }
   ],
   "source": [
    "col('size').desc()"
   ]
  },
  {
   "cell_type": "code",
   "execution_count": 69,
   "id": "mexican-daniel",
   "metadata": {},
   "outputs": [
    {
     "name": "stdout",
     "output_type": "stream",
     "text": [
      "+----------+----+------+------+----+------+----+-------------------+\n",
      "|total_bill| tip|   sex|smoker| day|  time|size|            tip_pct|\n",
      "+----------+----+------+------+----+------+----+-------------------+\n",
      "|     48.17| 5.0|  Male|    No| Sun|Dinner|   6|0.10379904504878555|\n",
      "|      34.3| 6.7|  Male|    No|Thur| Lunch|   6|0.19533527696793004|\n",
      "|      29.8| 4.2|Female|    No|Thur| Lunch|   6|0.14093959731543623|\n",
      "|     27.05| 5.0|Female|    No|Thur| Lunch|   6|0.18484288354898337|\n",
      "|     29.85|5.14|Female|    No| Sun|Dinner|   5| 0.1721943048576214|\n",
      "|     28.15| 3.0|  Male|   Yes| Sat|Dinner|   5|0.10657193605683837|\n",
      "|     20.69| 5.0|  Male|    No| Sun|Dinner|   5| 0.2416626389560174|\n",
      "|     30.46| 2.0|  Male|   Yes| Sun|Dinner|   5|0.06565988181221273|\n",
      "|     41.19| 5.0|  Male|    No|Thur| Lunch|   5|0.12138868657441128|\n",
      "|     16.49| 2.0|  Male|    No| Sun|Dinner|   4|0.12128562765312312|\n",
      "|      25.0|3.75|Female|    No| Sun|Dinner|   4|               0.15|\n",
      "|     18.29|3.76|  Male|   Yes| Sat|Dinner|   4|0.20557681793329688|\n",
      "|     30.14|3.09|Female|   Yes| Sat|Dinner|   4|0.10252156602521566|\n",
      "|     29.93|5.07|  Male|    No| Sun|Dinner|   4| 0.1693952555963916|\n",
      "|     24.01| 2.0|  Male|   Yes| Sat|Dinner|   4|0.08329862557267805|\n",
      "|     24.55| 2.0|  Male|    No| Sun|Dinner|   4| 0.0814663951120163|\n",
      "|     31.71| 4.5|  Male|    No| Sun|Dinner|   4|0.14191106906338694|\n",
      "|     20.45| 3.0|  Male|    No| Sat|Dinner|   4| 0.1466992665036675|\n",
      "|     25.89|5.16|  Male|   Yes| Sat|Dinner|   4| 0.1993047508690614|\n",
      "|     48.33| 9.0|  Male|    No| Sat|Dinner|   4|  0.186219739292365|\n",
      "+----------+----+------+------+----+------+----+-------------------+\n",
      "only showing top 20 rows\n",
      "\n"
     ]
    }
   ],
   "source": [
    "df.sort(col('size').desc(), col('time')).show()"
   ]
  },
  {
   "cell_type": "markdown",
   "id": "ce707546-351b-44f7-a73f-8d68d6e61800",
   "metadata": {},
   "source": [
    "### Filtering"
   ]
  },
  {
   "cell_type": "code",
   "execution_count": 72,
   "id": "e19645b6-3c28-4246-92c9-eb6a3742a79f",
   "metadata": {},
   "outputs": [
    {
     "data": {
      "text/plain": [
       "Column<'(tip < 4)'>"
      ]
     },
     "execution_count": 72,
     "metadata": {},
     "output_type": "execute_result"
    }
   ],
   "source": [
    "df.tip < 4"
   ]
  },
  {
   "cell_type": "code",
   "execution_count": 71,
   "id": "included-comparison",
   "metadata": {},
   "outputs": [
    {
     "name": "stdout",
     "output_type": "stream",
     "text": [
      "+----------+----+------+------+---+------+----+-------------------+\n",
      "|total_bill| tip|   sex|smoker|day|  time|size|            tip_pct|\n",
      "+----------+----+------+------+---+------+----+-------------------+\n",
      "|     16.99|1.01|Female|    No|Sun|Dinner|   2|0.05944673337257211|\n",
      "|     10.34|1.66|  Male|    No|Sun|Dinner|   3|0.16054158607350097|\n",
      "|     21.01| 3.5|  Male|    No|Sun|Dinner|   3|0.16658733936220846|\n",
      "|     23.68|3.31|  Male|    No|Sun|Dinner|   2| 0.1397804054054054|\n",
      "|     24.59|3.61|Female|    No|Sun|Dinner|   4|0.14680764538430255|\n",
      "|      8.77| 2.0|  Male|    No|Sun|Dinner|   2|0.22805017103762829|\n",
      "|     26.88|3.12|  Male|    No|Sun|Dinner|   4|0.11607142857142858|\n",
      "|     15.04|1.96|  Male|    No|Sun|Dinner|   2|0.13031914893617022|\n",
      "|     14.78|3.23|  Male|    No|Sun|Dinner|   2| 0.2185385656292287|\n",
      "|     10.27|1.71|  Male|    No|Sun|Dinner|   2| 0.1665043816942551|\n",
      "|     15.42|1.57|  Male|    No|Sun|Dinner|   2|0.10181582360570687|\n",
      "|     18.43| 3.0|  Male|    No|Sun|Dinner|   4|0.16277807921866522|\n",
      "|     14.83|3.02|Female|    No|Sun|Dinner|   2|0.20364126770060686|\n",
      "|     21.58|3.92|  Male|    No|Sun|Dinner|   2|0.18164967562557924|\n",
      "|     10.33|1.67|Female|    No|Sun|Dinner|   3| 0.1616650532429816|\n",
      "|     16.29|3.71|  Male|    No|Sun|Dinner|   3|0.22774708410067526|\n",
      "|     16.97| 3.5|Female|    No|Sun|Dinner|   3|0.20624631703005306|\n",
      "|     20.65|3.35|  Male|    No|Sat|Dinner|   3|0.16222760290556903|\n",
      "|     20.29|2.75|Female|    No|Sat|Dinner|   2|0.13553474618038444|\n",
      "|     15.77|2.23|Female|    No|Sat|Dinner|   2|0.14140773620798985|\n",
      "+----------+----+------+------+---+------+----+-------------------+\n",
      "only showing top 20 rows\n",
      "\n"
     ]
    }
   ],
   "source": [
    "# pandas: df[df.tip < 4]\n",
    "df.where(df.tip < 4).show()"
   ]
  },
  {
   "cell_type": "code",
   "execution_count": 77,
   "id": "4e39687c-b32a-4856-8b89-d7a84bc22229",
   "metadata": {},
   "outputs": [
    {
     "name": "stdout",
     "output_type": "stream",
     "text": [
      "+----------+----+------+------+---+------+----+-------------------+\n",
      "|total_bill| tip|   sex|smoker|day|  time|size|            tip_pct|\n",
      "+----------+----+------+------+---+------+----+-------------------+\n",
      "|     16.99|1.01|Female|    No|Sun|Dinner|   2|0.05944673337257211|\n",
      "|     10.34|1.66|  Male|    No|Sun|Dinner|   3|0.16054158607350097|\n",
      "|     15.04|1.96|  Male|    No|Sun|Dinner|   2|0.13031914893617022|\n",
      "|     10.27|1.71|  Male|    No|Sun|Dinner|   2| 0.1665043816942551|\n",
      "|     15.42|1.57|  Male|    No|Sun|Dinner|   2|0.10181582360570687|\n",
      "|     10.33|1.67|Female|    No|Sun|Dinner|   3| 0.1616650532429816|\n",
      "|      9.55|1.45|  Male|    No|Sat|Dinner|   2| 0.1518324607329843|\n",
      "|      9.68|1.32|  Male|    No|Sun|Dinner|   2|0.13636363636363638|\n",
      "|      9.94|1.56|  Male|    No|Sun|Dinner|   2|0.15694164989939638|\n",
      "|     38.01| 3.0|  Male|   Yes|Sat|Dinner|   4|0.07892659826361484|\n",
      "|     26.41| 1.5|Female|    No|Sat|Dinner|   2|0.05679666792881484|\n",
      "|     11.24|1.76|  Male|   Yes|Sat|Dinner|   2|0.15658362989323843|\n",
      "|     20.29|3.21|  Male|   Yes|Sat|Dinner|   2| 0.1582060128141942|\n",
      "|     13.81| 2.0|  Male|   Yes|Sat|Dinner|   2| 0.1448225923244026|\n",
      "|     11.02|1.98|  Male|   Yes|Sat|Dinner|   2|0.17967332123411978|\n",
      "|     18.29|3.76|  Male|   Yes|Sat|Dinner|   4|0.20557681793329688|\n",
      "|      3.07| 1.0|Female|   Yes|Sat|Dinner|   1|0.32573289902280134|\n",
      "|     15.01|2.09|  Male|   Yes|Sat|Dinner|   2|0.13924050632911392|\n",
      "|     12.02|1.97|  Male|    No|Sat|Dinner|   2| 0.1638935108153078|\n",
      "|     26.86|3.14|Female|   Yes|Sat|Dinner|   2|0.11690245718540582|\n",
      "+----------+----+------+------+---+------+----+-------------------+\n",
      "only showing top 20 rows\n",
      "\n"
     ]
    }
   ],
   "source": [
    "df.where((df.tip < 2) | (df.smoker == 'Yes')).show()"
   ]
  },
  {
   "cell_type": "markdown",
   "id": "c5a9bf30-e4d7-4eb5-b524-d07a38abdab3",
   "metadata": {},
   "source": [
    "Sidebar: spark performance\n",
    "\n",
    "A *shuffle* requires looking at data from multiple partitions, potentially re-organizing the data partitions."
   ]
  },
  {
   "cell_type": "code",
   "execution_count": 79,
   "id": "precious-preparation",
   "metadata": {},
   "outputs": [
    {
     "name": "stdout",
     "output_type": "stream",
     "text": [
      "+----------+----+------+------+---+------+----+-------------------+\n",
      "|total_bill| tip|   sex|smoker|day|  time|size|            tip_pct|\n",
      "+----------+----+------+------+---+------+----+-------------------+\n",
      "|     16.99|1.01|Female|    No|Sun|Dinner|   2|0.05944673337257211|\n",
      "|     10.34|1.66|  Male|    No|Sun|Dinner|   3|0.16054158607350097|\n",
      "|     21.01| 3.5|  Male|    No|Sun|Dinner|   3|0.16658733936220846|\n",
      "|     23.68|3.31|  Male|    No|Sun|Dinner|   2| 0.1397804054054054|\n",
      "|     24.59|3.61|Female|    No|Sun|Dinner|   4|0.14680764538430255|\n",
      "+----------+----+------+------+---+------+----+-------------------+\n",
      "only showing top 5 rows\n",
      "\n"
     ]
    }
   ],
   "source": [
    "mask = df.tip < 4\n",
    "df.where(mask).show(5)"
   ]
  },
  {
   "cell_type": "code",
   "execution_count": 80,
   "id": "flush-gothic",
   "metadata": {},
   "outputs": [
    {
     "name": "stdout",
     "output_type": "stream",
     "text": [
      "+----------+----+------+------+---+------+----+-------------------+\n",
      "|total_bill| tip|   sex|smoker|day|  time|size|            tip_pct|\n",
      "+----------+----+------+------+---+------+----+-------------------+\n",
      "|      7.25| 1.0|Female|    No|Sat|Dinner|   1|0.13793103448275862|\n",
      "|      12.6| 1.0|  Male|   Yes|Sat|Dinner|   2|0.07936507936507936|\n",
      "|      5.75| 1.0|Female|   Yes|Fri|Dinner|   2|0.17391304347826086|\n",
      "|      3.07| 1.0|Female|   Yes|Sat|Dinner|   1|0.32573289902280134|\n",
      "|     16.99|1.01|Female|    No|Sun|Dinner|   2|0.05944673337257211|\n",
      "|      12.9| 1.1|Female|   Yes|Sat|Dinner|   2|0.08527131782945736|\n",
      "|     32.83|1.17|  Male|   Yes|Sat|Dinner|   2|0.03563813585135547|\n",
      "|     10.51|1.25|  Male|    No|Sat|Dinner|   2|0.11893434823977164|\n",
      "|     10.07|1.25|  Male|    No|Sat|Dinner|   2|0.12413108242303872|\n",
      "|      9.68|1.32|  Male|    No|Sun|Dinner|   2|0.13636363636363638|\n",
      "|      7.74|1.44|  Male|   Yes|Sat|Dinner|   2|0.18604651162790697|\n",
      "|      9.55|1.45|  Male|    No|Sat|Dinner|   2| 0.1518324607329843|\n",
      "|     10.77|1.47|  Male|    No|Sat|Dinner|   2|0.13649025069637882|\n",
      "|     12.03| 1.5|  Male|   Yes|Fri|Dinner|   2|0.12468827930174564|\n",
      "|     26.41| 1.5|Female|    No|Sat|Dinner|   2|0.05679666792881484|\n",
      "|     12.46| 1.5|  Male|    No|Fri|Dinner|   2| 0.1203852327447833|\n",
      "|     15.69| 1.5|  Male|   Yes|Sun|Dinner|   2|0.09560229445506692|\n",
      "|     11.59| 1.5|  Male|   Yes|Sat|Dinner|   2|0.12942191544434858|\n",
      "|      9.94|1.56|  Male|    No|Sun|Dinner|   2|0.15694164989939638|\n",
      "|     15.42|1.57|  Male|    No|Sun|Dinner|   2|0.10181582360570687|\n",
      "+----------+----+------+------+---+------+----+-------------------+\n",
      "only showing top 20 rows\n",
      "\n"
     ]
    }
   ],
   "source": [
    "df.filter((df.time == \"Dinner\") & (df.tip <= 2)).sort('tip').show()"
   ]
  },
  {
   "cell_type": "markdown",
   "id": "bfffa1a9-283c-4bc9-a7ac-067e5108f0c6",
   "metadata": {},
   "source": [
    "Chaining `.where` (or `.filter`) will implicitly AND the conditions together."
   ]
  },
  {
   "cell_type": "code",
   "execution_count": 81,
   "id": "moderate-trade",
   "metadata": {},
   "outputs": [
    {
     "name": "stdout",
     "output_type": "stream",
     "text": [
      "+----------+----+------+------+---+------+----+-------------------+\n",
      "|total_bill| tip|   sex|smoker|day|  time|size|            tip_pct|\n",
      "+----------+----+------+------+---+------+----+-------------------+\n",
      "|     38.01| 3.0|  Male|   Yes|Sat|Dinner|   4|0.07892659826361484|\n",
      "|     11.24|1.76|  Male|   Yes|Sat|Dinner|   2|0.15658362989323843|\n",
      "|     20.29|3.21|  Male|   Yes|Sat|Dinner|   2| 0.1582060128141942|\n",
      "|     13.81| 2.0|  Male|   Yes|Sat|Dinner|   2| 0.1448225923244026|\n",
      "|     11.02|1.98|  Male|   Yes|Sat|Dinner|   2|0.17967332123411978|\n",
      "|     18.29|3.76|  Male|   Yes|Sat|Dinner|   4|0.20557681793329688|\n",
      "|      3.07| 1.0|Female|   Yes|Sat|Dinner|   1|0.32573289902280134|\n",
      "|     15.01|2.09|  Male|   Yes|Sat|Dinner|   2|0.13924050632911392|\n",
      "|     26.86|3.14|Female|   Yes|Sat|Dinner|   2|0.11690245718540582|\n",
      "|     25.28| 5.0|Female|   Yes|Sat|Dinner|   2|0.19778481012658228|\n",
      "|     17.92|3.08|  Male|   Yes|Sat|Dinner|   2|           0.171875|\n",
      "|      44.3| 2.5|Female|   Yes|Sat|Dinner|   3|0.05643340857787811|\n",
      "|     22.42|3.48|Female|   Yes|Sat|Dinner|   2|0.15521855486173058|\n",
      "|     15.36|1.64|  Male|   Yes|Sat|Dinner|   2|0.10677083333333333|\n",
      "|     20.49|4.06|  Male|   Yes|Sat|Dinner|   2|0.19814543679843827|\n",
      "|     25.21|4.29|  Male|   Yes|Sat|Dinner|   2| 0.1701705672352241|\n",
      "|     14.31| 4.0|Female|   Yes|Sat|Dinner|   2| 0.2795248078266946|\n",
      "|     10.59|1.61|Female|   Yes|Sat|Dinner|   2|0.15203021718602455|\n",
      "|     10.63| 2.0|Female|   Yes|Sat|Dinner|   2|0.18814675446848542|\n",
      "|     50.81|10.0|  Male|   Yes|Sat|Dinner|   3|0.19681165124975397|\n",
      "+----------+----+------+------+---+------+----+-------------------+\n",
      "only showing top 20 rows\n",
      "\n"
     ]
    }
   ],
   "source": [
    "df.where(df.smoker == \"Yes\").where(df.day == \"Sat\").show()"
   ]
  },
  {
   "cell_type": "markdown",
   "id": "relevant-radius",
   "metadata": {},
   "source": [
    "## Aggregating"
   ]
  },
  {
   "cell_type": "code",
   "execution_count": 85,
   "id": "varying-membrane",
   "metadata": {},
   "outputs": [],
   "source": [
    "from pyspark.sql.functions import mean, min, max, count"
   ]
  },
  {
   "cell_type": "code",
   "execution_count": 83,
   "id": "certified-seattle",
   "metadata": {},
   "outputs": [
    {
     "name": "stdout",
     "output_type": "stream",
     "text": [
      "+----------+----+------+------+---+------+----+-------------------+\n",
      "|total_bill| tip|   sex|smoker|day|  time|size|            tip_pct|\n",
      "+----------+----+------+------+---+------+----+-------------------+\n",
      "|     16.99|1.01|Female|    No|Sun|Dinner|   2|0.05944673337257211|\n",
      "|     10.34|1.66|  Male|    No|Sun|Dinner|   3|0.16054158607350097|\n",
      "|     21.01| 3.5|  Male|    No|Sun|Dinner|   3|0.16658733936220846|\n",
      "|     23.68|3.31|  Male|    No|Sun|Dinner|   2| 0.1397804054054054|\n",
      "|     24.59|3.61|Female|    No|Sun|Dinner|   4|0.14680764538430255|\n",
      "+----------+----+------+------+---+------+----+-------------------+\n",
      "only showing top 5 rows\n",
      "\n"
     ]
    }
   ],
   "source": [
    "df.show(5)"
   ]
  },
  {
   "cell_type": "code",
   "execution_count": 89,
   "id": "ecbaa434-aff1-4bcb-aa01-b8a851716ca0",
   "metadata": {},
   "outputs": [
    {
     "name": "stdout",
     "output_type": "stream",
     "text": [
      "+------+-----+\n",
      "|  time|n_obs|\n",
      "+------+-----+\n",
      "| Lunch|   68|\n",
      "|Dinner|  176|\n",
      "+------+-----+\n",
      "\n"
     ]
    }
   ],
   "source": [
    "df.groupBy('time').agg(count('*').alias('n_obs')).show()"
   ]
  },
  {
   "cell_type": "code",
   "execution_count": 90,
   "id": "reduced-princeton",
   "metadata": {},
   "outputs": [
    {
     "name": "stdout",
     "output_type": "stream",
     "text": [
      "+------+------------------+\n",
      "|  time|          avg(tip)|\n",
      "+------+------------------+\n",
      "| Lunch|2.7280882352941176|\n",
      "|Dinner| 3.102670454545455|\n",
      "+------+------------------+\n",
      "\n"
     ]
    }
   ],
   "source": [
    "df.groupBy('time').agg(mean('tip')).show()"
   ]
  },
  {
   "cell_type": "code",
   "execution_count": 91,
   "id": "capable-stock",
   "metadata": {},
   "outputs": [
    {
     "name": "stdout",
     "output_type": "stream",
     "text": [
      "+------+--------+------------------+--------+\n",
      "|  time|min(tip)|          avg(tip)|max(tip)|\n",
      "+------+--------+------------------+--------+\n",
      "| Lunch|    1.25|2.7280882352941176|     6.7|\n",
      "|Dinner|     1.0| 3.102670454545455|    10.0|\n",
      "+------+--------+------------------+--------+\n",
      "\n"
     ]
    }
   ],
   "source": [
    "df.groupBy('time').agg(min('tip'), mean('tip'), max('tip')).show()"
   ]
  },
  {
   "cell_type": "code",
   "execution_count": 92,
   "id": "animal-mortgage",
   "metadata": {},
   "outputs": [
    {
     "name": "stdout",
     "output_type": "stream",
     "text": [
      "+------+------------------+\n",
      "|  time|           avg_tip|\n",
      "+------+------------------+\n",
      "| Lunch|2.7280882352941176|\n",
      "|Dinner| 3.102670454545455|\n",
      "+------+------------------+\n",
      "\n"
     ]
    }
   ],
   "source": [
    "df.groupBy('time').agg(mean('tip').alias('avg_tip')).show()"
   ]
  },
  {
   "cell_type": "code",
   "execution_count": 94,
   "id": "knowing-africa",
   "metadata": {},
   "outputs": [
    {
     "name": "stdout",
     "output_type": "stream",
     "text": [
      "+------+----+---+------------------+\n",
      "|  time| day|  n|   avg(total_bill)|\n",
      "+------+----+---+------------------+\n",
      "| Lunch|Thur| 61|17.664754098360653|\n",
      "|Dinner|Thur|  1|             18.78|\n",
      "| Lunch| Fri|  7|12.845714285714285|\n",
      "|Dinner| Fri| 12| 19.66333333333333|\n",
      "|Dinner| Sun| 76|21.409999999999997|\n",
      "|Dinner| Sat| 87|20.441379310344825|\n",
      "+------+----+---+------------------+\n",
      "\n"
     ]
    }
   ],
   "source": [
    "df.groupBy('time', 'day').agg(count('*').alias('n'), mean('total_bill')).show()"
   ]
  },
  {
   "cell_type": "code",
   "execution_count": 97,
   "id": "rocky-ottawa",
   "metadata": {},
   "outputs": [
    {
     "name": "stdout",
     "output_type": "stream",
     "text": [
      "+--------+---+---+---+----+\n",
      "|time_day|Fri|Sat|Sun|Thur|\n",
      "+--------+---+---+---+----+\n",
      "|   Lunch|  7|  0|  0|  61|\n",
      "|  Dinner| 12| 87| 76|   1|\n",
      "+--------+---+---+---+----+\n",
      "\n"
     ]
    }
   ],
   "source": [
    "df.crosstab('time', 'day').show()"
   ]
  },
  {
   "cell_type": "code",
   "execution_count": 100,
   "id": "ea1552ff-9b20-454b-93a0-89bd0b0882e5",
   "metadata": {},
   "outputs": [
    {
     "name": "stdout",
     "output_type": "stream",
     "text": [
      "+------+----+------------------+\n",
      "|  time| day|   sum(total_bill)|\n",
      "+------+----+------------------+\n",
      "|Dinner| Fri|235.95999999999998|\n",
      "|Dinner| Sat|1778.3999999999996|\n",
      "|Dinner| Sun|1627.1599999999999|\n",
      "|Dinner|Thur|             18.78|\n",
      "| Lunch| Fri|             89.92|\n",
      "| Lunch|Thur|           1077.55|\n",
      "+------+----+------------------+\n",
      "\n"
     ]
    }
   ],
   "source": [
    "df.groupBy('time', 'day').agg(sum('total_bill')).sort('time', 'day').show()"
   ]
  },
  {
   "cell_type": "code",
   "execution_count": 101,
   "id": "c7ad8ff8-0697-47f1-8494-ded77698b9d8",
   "metadata": {},
   "outputs": [
    {
     "name": "stdout",
     "output_type": "stream",
     "text": [
      "+------+------------------+------------------+------------------+-------+\n",
      "|  time|               Fri|               Sat|               Sun|   Thur|\n",
      "+------+------------------+------------------+------------------+-------+\n",
      "| Lunch|             89.92|              null|              null|1077.55|\n",
      "|Dinner|235.95999999999998|1778.3999999999996|1627.1599999999999|  18.78|\n",
      "+------+------------------+------------------+------------------+-------+\n",
      "\n"
     ]
    }
   ],
   "source": [
    "df.groupBy('time').pivot('day').agg(sum('total_bill')).show()"
   ]
  },
  {
   "cell_type": "code",
   "execution_count": 102,
   "id": "architectural-speaking",
   "metadata": {},
   "outputs": [
    {
     "name": "stdout",
     "output_type": "stream",
     "text": [
      "+------+------------------+------------------+------------------+------------------+\n",
      "|  time|               Fri|               Sat|               Sun|              Thur|\n",
      "+------+------------------+------------------+------------------+------------------+\n",
      "| Lunch|12.845714285714285|              null|              null|17.664754098360653|\n",
      "|Dinner| 19.66333333333333|20.441379310344825|21.409999999999997|             18.78|\n",
      "+------+------------------+------------------+------------------+------------------+\n",
      "\n"
     ]
    }
   ],
   "source": [
    "df.groupBy('time').pivot('day').agg(mean('total_bill')).show()"
   ]
  },
  {
   "cell_type": "markdown",
   "id": "excessive-superintendent",
   "metadata": {},
   "source": [
    "`.crosstab` is just for counts, for other methods of summarizing groups, use `.groupBy` (maybe in combination with `.pivot`) + `.agg`."
   ]
  },
  {
   "cell_type": "markdown",
   "id": "wound-enterprise",
   "metadata": {},
   "source": [
    "## Additional Features"
   ]
  },
  {
   "cell_type": "markdown",
   "id": "5dd3a797-38d5-4479-8882-8f2d1e1d0f28",
   "metadata": {},
   "source": [
    "### Spark SQL"
   ]
  },
  {
   "cell_type": "code",
   "execution_count": 103,
   "id": "ordinary-charleston",
   "metadata": {},
   "outputs": [],
   "source": [
    "df.createOrReplaceTempView('tips')"
   ]
  },
  {
   "cell_type": "code",
   "execution_count": 106,
   "id": "motivated-island",
   "metadata": {},
   "outputs": [
    {
     "name": "stdout",
     "output_type": "stream",
     "text": [
      "+----------+----+------+------+---+------+----+-------------------+\n",
      "|total_bill| tip|   sex|smoker|day|  time|size|            tip_pct|\n",
      "+----------+----+------+------+---+------+----+-------------------+\n",
      "|     16.99|1.01|Female|    No|Sun|Dinner|   2|0.05944673337257211|\n",
      "|     10.34|1.66|  Male|    No|Sun|Dinner|   3|0.16054158607350097|\n",
      "|     21.01| 3.5|  Male|    No|Sun|Dinner|   3|0.16658733936220846|\n",
      "|     23.68|3.31|  Male|    No|Sun|Dinner|   2| 0.1397804054054054|\n",
      "|     24.59|3.61|Female|    No|Sun|Dinner|   4|0.14680764538430255|\n",
      "+----------+----+------+------+---+------+----+-------------------+\n",
      "only showing top 5 rows\n",
      "\n"
     ]
    }
   ],
   "source": [
    "spark.sql('''\n",
    "SELECT *\n",
    "FROM tips\n",
    "''').show(5)"
   ]
  },
  {
   "cell_type": "code",
   "execution_count": 107,
   "id": "alternate-hierarchy",
   "metadata": {},
   "outputs": [
    {
     "name": "stdout",
     "output_type": "stream",
     "text": [
      "+----+----------+---+\n",
      "| tip|total_bill|day|\n",
      "+----+----------+---+\n",
      "|3.35|     20.65|Sat|\n",
      "|4.08|     17.92|Sat|\n",
      "|2.75|     20.29|Sat|\n",
      "|2.23|     15.77|Sat|\n",
      "|7.58|     39.42|Sat|\n",
      "|3.18|     19.82|Sat|\n",
      "|2.34|     17.81|Sat|\n",
      "| 2.0|     13.37|Sat|\n",
      "| 2.0|     12.69|Sat|\n",
      "| 4.3|      21.7|Sat|\n",
      "| 3.0|     19.65|Sat|\n",
      "|1.45|      9.55|Sat|\n",
      "| 2.5|     18.35|Sat|\n",
      "| 3.0|     15.06|Sat|\n",
      "|2.45|     20.69|Sat|\n",
      "|3.27|     17.78|Sat|\n",
      "| 3.6|     24.06|Sat|\n",
      "| 2.0|     16.31|Sat|\n",
      "|3.07|     16.93|Sat|\n",
      "|2.31|     18.69|Sat|\n",
      "+----+----------+---+\n",
      "only showing top 20 rows\n",
      "\n"
     ]
    }
   ],
   "source": [
    "# find the tip, total_bill, and day with the highest overall sales for that day\n",
    "spark.sql('''\n",
    "SELECT tip, total_bill, day\n",
    "FROM tips\n",
    "WHERE day = (\n",
    "    SELECT day\n",
    "    FROM tips\n",
    "    GROUP BY day\n",
    "    ORDER BY sum(total_bill) DESC\n",
    "    LIMIT 1\n",
    ")    \n",
    "''').show()"
   ]
  },
  {
   "cell_type": "markdown",
   "id": "06e5f56d-6207-43bb-9c03-a78cb4169e26",
   "metadata": {},
   "source": [
    "### More Spark Dataframe Manipulation"
   ]
  },
  {
   "cell_type": "code",
   "execution_count": null,
   "id": "mysterious-assets",
   "metadata": {},
   "outputs": [],
   "source": [
    "df.where(\n",
    "    df.time == 'Dinner'\n",
    ").select(\n",
    "    '*',\n",
    "    (df.tip / df.total_bill).alias('tip_pct'),\n",
    ").explain()"
   ]
  },
  {
   "cell_type": "code",
   "execution_count": null,
   "id": "irish-stroke",
   "metadata": {},
   "outputs": [],
   "source": [
    "df.select(\n",
    "    '*',\n",
    "    (df.tip / df.total_bill).alias('tip_pct'),\n",
    ").where(\n",
    "    df.time == 'Dinner'\n",
    ").explain()"
   ]
  },
  {
   "cell_type": "markdown",
   "id": "cef8adf1-d36d-4f1b-92fb-44a9b77b4940",
   "metadata": {},
   "source": [
    "### Mixing in SQL Expressions"
   ]
  },
  {
   "cell_type": "code",
   "execution_count": 109,
   "id": "difficult-sharp",
   "metadata": {},
   "outputs": [],
   "source": [
    "from pyspark.sql.functions import expr"
   ]
  },
  {
   "cell_type": "markdown",
   "id": "ranging-zambia",
   "metadata": {},
   "source": [
    "Expr lets us mix in parts of SQL into our dataframes"
   ]
  },
  {
   "cell_type": "code",
   "execution_count": 116,
   "id": "94d90425-1e02-4597-b29c-0d500b9f133b",
   "metadata": {},
   "outputs": [
    {
     "name": "stdout",
     "output_type": "stream",
     "text": [
      "+------+-------------------------------------------------------------+\n",
      "|  time|CASE WHEN (time = Dinner) THEN DINNER TIME! ELSE lunch... END|\n",
      "+------+-------------------------------------------------------------+\n",
      "|Dinner|                                                 DINNER TIME!|\n",
      "|Dinner|                                                 DINNER TIME!|\n",
      "|Dinner|                                                 DINNER TIME!|\n",
      "|Dinner|                                                 DINNER TIME!|\n",
      "|Dinner|                                                 DINNER TIME!|\n",
      "|Dinner|                                                 DINNER TIME!|\n",
      "|Dinner|                                                 DINNER TIME!|\n",
      "|Dinner|                                                 DINNER TIME!|\n",
      "|Dinner|                                                 DINNER TIME!|\n",
      "|Dinner|                                                 DINNER TIME!|\n",
      "|Dinner|                                                 DINNER TIME!|\n",
      "|Dinner|                                                 DINNER TIME!|\n",
      "|Dinner|                                                 DINNER TIME!|\n",
      "|Dinner|                                                 DINNER TIME!|\n",
      "|Dinner|                                                 DINNER TIME!|\n",
      "|Dinner|                                                 DINNER TIME!|\n",
      "|Dinner|                                                 DINNER TIME!|\n",
      "|Dinner|                                                 DINNER TIME!|\n",
      "|Dinner|                                                 DINNER TIME!|\n",
      "|Dinner|                                                 DINNER TIME!|\n",
      "|Dinner|                                                 DINNER TIME!|\n",
      "|Dinner|                                                 DINNER TIME!|\n",
      "|Dinner|                                                 DINNER TIME!|\n",
      "|Dinner|                                                 DINNER TIME!|\n",
      "|Dinner|                                                 DINNER TIME!|\n",
      "|Dinner|                                                 DINNER TIME!|\n",
      "|Dinner|                                                 DINNER TIME!|\n",
      "|Dinner|                                                 DINNER TIME!|\n",
      "|Dinner|                                                 DINNER TIME!|\n",
      "|Dinner|                                                 DINNER TIME!|\n",
      "|Dinner|                                                 DINNER TIME!|\n",
      "|Dinner|                                                 DINNER TIME!|\n",
      "|Dinner|                                                 DINNER TIME!|\n",
      "|Dinner|                                                 DINNER TIME!|\n",
      "|Dinner|                                                 DINNER TIME!|\n",
      "|Dinner|                                                 DINNER TIME!|\n",
      "|Dinner|                                                 DINNER TIME!|\n",
      "|Dinner|                                                 DINNER TIME!|\n",
      "|Dinner|                                                 DINNER TIME!|\n",
      "|Dinner|                                                 DINNER TIME!|\n",
      "|Dinner|                                                 DINNER TIME!|\n",
      "|Dinner|                                                 DINNER TIME!|\n",
      "|Dinner|                                                 DINNER TIME!|\n",
      "|Dinner|                                                 DINNER TIME!|\n",
      "|Dinner|                                                 DINNER TIME!|\n",
      "|Dinner|                                                 DINNER TIME!|\n",
      "|Dinner|                                                 DINNER TIME!|\n",
      "|Dinner|                                                 DINNER TIME!|\n",
      "|Dinner|                                                 DINNER TIME!|\n",
      "|Dinner|                                                 DINNER TIME!|\n",
      "|Dinner|                                                 DINNER TIME!|\n",
      "|Dinner|                                                 DINNER TIME!|\n",
      "|Dinner|                                                 DINNER TIME!|\n",
      "|Dinner|                                                 DINNER TIME!|\n",
      "|Dinner|                                                 DINNER TIME!|\n",
      "|Dinner|                                                 DINNER TIME!|\n",
      "|Dinner|                                                 DINNER TIME!|\n",
      "|Dinner|                                                 DINNER TIME!|\n",
      "|Dinner|                                                 DINNER TIME!|\n",
      "|Dinner|                                                 DINNER TIME!|\n",
      "|Dinner|                                                 DINNER TIME!|\n",
      "|Dinner|                                                 DINNER TIME!|\n",
      "|Dinner|                                                 DINNER TIME!|\n",
      "|Dinner|                                                 DINNER TIME!|\n",
      "|Dinner|                                                 DINNER TIME!|\n",
      "|Dinner|                                                 DINNER TIME!|\n",
      "|Dinner|                                                 DINNER TIME!|\n",
      "|Dinner|                                                 DINNER TIME!|\n",
      "|Dinner|                                                 DINNER TIME!|\n",
      "|Dinner|                                                 DINNER TIME!|\n",
      "|Dinner|                                                 DINNER TIME!|\n",
      "|Dinner|                                                 DINNER TIME!|\n",
      "|Dinner|                                                 DINNER TIME!|\n",
      "|Dinner|                                                 DINNER TIME!|\n",
      "|Dinner|                                                 DINNER TIME!|\n",
      "|Dinner|                                                 DINNER TIME!|\n",
      "|Dinner|                                                 DINNER TIME!|\n",
      "| Lunch|                                                     lunch...|\n",
      "| Lunch|                                                     lunch...|\n",
      "| Lunch|                                                     lunch...|\n",
      "| Lunch|                                                     lunch...|\n",
      "| Lunch|                                                     lunch...|\n",
      "| Lunch|                                                     lunch...|\n",
      "| Lunch|                                                     lunch...|\n",
      "| Lunch|                                                     lunch...|\n",
      "| Lunch|                                                     lunch...|\n",
      "| Lunch|                                                     lunch...|\n",
      "| Lunch|                                                     lunch...|\n",
      "| Lunch|                                                     lunch...|\n",
      "| Lunch|                                                     lunch...|\n",
      "|Dinner|                                                 DINNER TIME!|\n",
      "|Dinner|                                                 DINNER TIME!|\n",
      "|Dinner|                                                 DINNER TIME!|\n",
      "|Dinner|                                                 DINNER TIME!|\n",
      "|Dinner|                                                 DINNER TIME!|\n",
      "|Dinner|                                                 DINNER TIME!|\n",
      "|Dinner|                                                 DINNER TIME!|\n",
      "|Dinner|                                                 DINNER TIME!|\n",
      "|Dinner|                                                 DINNER TIME!|\n",
      "|Dinner|                                                 DINNER TIME!|\n",
      "+------+-------------------------------------------------------------+\n",
      "only showing top 100 rows\n",
      "\n"
     ]
    }
   ],
   "source": [
    "df.select(\n",
    "    'time',\n",
    "    expr('CASE WHEN time = \"Dinner\" THEN \"DINNER TIME!\" ELSE \"lunch...\" END'),\n",
    ").show(100)"
   ]
  },
  {
   "cell_type": "code",
   "execution_count": 115,
   "id": "b9fa48c9-9f06-422a-81f4-6f2f0d6f8899",
   "metadata": {},
   "outputs": [
    {
     "name": "stdout",
     "output_type": "stream",
     "text": [
      "+------+-------------------------------------------------------------+\n",
      "|  time|CASE WHEN (time = Dinner) THEN DINNER TIME! ELSE lunch... END|\n",
      "+------+-------------------------------------------------------------+\n",
      "|Dinner|                                                 DINNER TIME!|\n",
      "|Dinner|                                                 DINNER TIME!|\n",
      "|Dinner|                                                 DINNER TIME!|\n",
      "|Dinner|                                                 DINNER TIME!|\n",
      "|Dinner|                                                 DINNER TIME!|\n",
      "|Dinner|                                                 DINNER TIME!|\n",
      "|Dinner|                                                 DINNER TIME!|\n",
      "|Dinner|                                                 DINNER TIME!|\n",
      "|Dinner|                                                 DINNER TIME!|\n",
      "|Dinner|                                                 DINNER TIME!|\n",
      "|Dinner|                                                 DINNER TIME!|\n",
      "|Dinner|                                                 DINNER TIME!|\n",
      "|Dinner|                                                 DINNER TIME!|\n",
      "|Dinner|                                                 DINNER TIME!|\n",
      "|Dinner|                                                 DINNER TIME!|\n",
      "|Dinner|                                                 DINNER TIME!|\n",
      "|Dinner|                                                 DINNER TIME!|\n",
      "|Dinner|                                                 DINNER TIME!|\n",
      "|Dinner|                                                 DINNER TIME!|\n",
      "|Dinner|                                                 DINNER TIME!|\n",
      "|Dinner|                                                 DINNER TIME!|\n",
      "|Dinner|                                                 DINNER TIME!|\n",
      "|Dinner|                                                 DINNER TIME!|\n",
      "|Dinner|                                                 DINNER TIME!|\n",
      "|Dinner|                                                 DINNER TIME!|\n",
      "|Dinner|                                                 DINNER TIME!|\n",
      "|Dinner|                                                 DINNER TIME!|\n",
      "|Dinner|                                                 DINNER TIME!|\n",
      "|Dinner|                                                 DINNER TIME!|\n",
      "|Dinner|                                                 DINNER TIME!|\n",
      "|Dinner|                                                 DINNER TIME!|\n",
      "|Dinner|                                                 DINNER TIME!|\n",
      "|Dinner|                                                 DINNER TIME!|\n",
      "|Dinner|                                                 DINNER TIME!|\n",
      "|Dinner|                                                 DINNER TIME!|\n",
      "|Dinner|                                                 DINNER TIME!|\n",
      "|Dinner|                                                 DINNER TIME!|\n",
      "|Dinner|                                                 DINNER TIME!|\n",
      "|Dinner|                                                 DINNER TIME!|\n",
      "|Dinner|                                                 DINNER TIME!|\n",
      "|Dinner|                                                 DINNER TIME!|\n",
      "|Dinner|                                                 DINNER TIME!|\n",
      "|Dinner|                                                 DINNER TIME!|\n",
      "|Dinner|                                                 DINNER TIME!|\n",
      "|Dinner|                                                 DINNER TIME!|\n",
      "|Dinner|                                                 DINNER TIME!|\n",
      "|Dinner|                                                 DINNER TIME!|\n",
      "|Dinner|                                                 DINNER TIME!|\n",
      "|Dinner|                                                 DINNER TIME!|\n",
      "|Dinner|                                                 DINNER TIME!|\n",
      "|Dinner|                                                 DINNER TIME!|\n",
      "|Dinner|                                                 DINNER TIME!|\n",
      "|Dinner|                                                 DINNER TIME!|\n",
      "|Dinner|                                                 DINNER TIME!|\n",
      "|Dinner|                                                 DINNER TIME!|\n",
      "|Dinner|                                                 DINNER TIME!|\n",
      "|Dinner|                                                 DINNER TIME!|\n",
      "|Dinner|                                                 DINNER TIME!|\n",
      "|Dinner|                                                 DINNER TIME!|\n",
      "|Dinner|                                                 DINNER TIME!|\n",
      "|Dinner|                                                 DINNER TIME!|\n",
      "|Dinner|                                                 DINNER TIME!|\n",
      "|Dinner|                                                 DINNER TIME!|\n",
      "|Dinner|                                                 DINNER TIME!|\n",
      "|Dinner|                                                 DINNER TIME!|\n",
      "|Dinner|                                                 DINNER TIME!|\n",
      "|Dinner|                                                 DINNER TIME!|\n",
      "|Dinner|                                                 DINNER TIME!|\n",
      "|Dinner|                                                 DINNER TIME!|\n",
      "|Dinner|                                                 DINNER TIME!|\n",
      "|Dinner|                                                 DINNER TIME!|\n",
      "|Dinner|                                                 DINNER TIME!|\n",
      "|Dinner|                                                 DINNER TIME!|\n",
      "|Dinner|                                                 DINNER TIME!|\n",
      "|Dinner|                                                 DINNER TIME!|\n",
      "|Dinner|                                                 DINNER TIME!|\n",
      "|Dinner|                                                 DINNER TIME!|\n",
      "| Lunch|                                                     lunch...|\n",
      "| Lunch|                                                     lunch...|\n",
      "| Lunch|                                                     lunch...|\n",
      "| Lunch|                                                     lunch...|\n",
      "| Lunch|                                                     lunch...|\n",
      "| Lunch|                                                     lunch...|\n",
      "| Lunch|                                                     lunch...|\n",
      "| Lunch|                                                     lunch...|\n",
      "| Lunch|                                                     lunch...|\n",
      "| Lunch|                                                     lunch...|\n",
      "| Lunch|                                                     lunch...|\n",
      "| Lunch|                                                     lunch...|\n",
      "| Lunch|                                                     lunch...|\n",
      "|Dinner|                                                 DINNER TIME!|\n",
      "|Dinner|                                                 DINNER TIME!|\n",
      "|Dinner|                                                 DINNER TIME!|\n",
      "|Dinner|                                                 DINNER TIME!|\n",
      "|Dinner|                                                 DINNER TIME!|\n",
      "|Dinner|                                                 DINNER TIME!|\n",
      "|Dinner|                                                 DINNER TIME!|\n",
      "|Dinner|                                                 DINNER TIME!|\n",
      "|Dinner|                                                 DINNER TIME!|\n",
      "|Dinner|                                                 DINNER TIME!|\n",
      "+------+-------------------------------------------------------------+\n",
      "only showing top 100 rows\n",
      "\n"
     ]
    }
   ],
   "source": [
    "spark.sql('''\n",
    "SELECT\n",
    "    time,\n",
    "    CASE WHEN time = \"Dinner\" THEN \"DINNER TIME!\" ELSE \"lunch...\" END\n",
    "FROM tips\n",
    "''').show(100)"
   ]
  },
  {
   "cell_type": "code",
   "execution_count": 110,
   "id": "turkish-colony",
   "metadata": {},
   "outputs": [
    {
     "name": "stdout",
     "output_type": "stream",
     "text": [
      "+----------+----+------+------+---+------+----+-------------------+-------------------+\n",
      "|total_bill| tip|   sex|smoker|day|  time|size|            tip_pct|            tip_pct|\n",
      "+----------+----+------+------+---+------+----+-------------------+-------------------+\n",
      "|     16.99|1.01|Female|    No|Sun|Dinner|   2|0.05944673337257211|0.05944673337257211|\n",
      "|     10.34|1.66|  Male|    No|Sun|Dinner|   3|0.16054158607350097|0.16054158607350097|\n",
      "|     21.01| 3.5|  Male|    No|Sun|Dinner|   3|0.16658733936220846|0.16658733936220846|\n",
      "|     23.68|3.31|  Male|    No|Sun|Dinner|   2| 0.1397804054054054| 0.1397804054054054|\n",
      "|     24.59|3.61|Female|    No|Sun|Dinner|   4|0.14680764538430255|0.14680764538430255|\n",
      "|     25.29|4.71|  Male|    No|Sun|Dinner|   4|0.18623962040332148|0.18623962040332148|\n",
      "|      8.77| 2.0|  Male|    No|Sun|Dinner|   2|0.22805017103762829|0.22805017103762829|\n",
      "|     26.88|3.12|  Male|    No|Sun|Dinner|   4|0.11607142857142858|0.11607142857142858|\n",
      "|     15.04|1.96|  Male|    No|Sun|Dinner|   2|0.13031914893617022|0.13031914893617022|\n",
      "|     14.78|3.23|  Male|    No|Sun|Dinner|   2| 0.2185385656292287| 0.2185385656292287|\n",
      "|     10.27|1.71|  Male|    No|Sun|Dinner|   2| 0.1665043816942551| 0.1665043816942551|\n",
      "|     35.26| 5.0|Female|    No|Sun|Dinner|   4|0.14180374361883155|0.14180374361883155|\n",
      "|     15.42|1.57|  Male|    No|Sun|Dinner|   2|0.10181582360570687|0.10181582360570687|\n",
      "|     18.43| 3.0|  Male|    No|Sun|Dinner|   4|0.16277807921866522|0.16277807921866522|\n",
      "|     14.83|3.02|Female|    No|Sun|Dinner|   2|0.20364126770060686|0.20364126770060686|\n",
      "|     21.58|3.92|  Male|    No|Sun|Dinner|   2|0.18164967562557924|0.18164967562557924|\n",
      "|     10.33|1.67|Female|    No|Sun|Dinner|   3| 0.1616650532429816| 0.1616650532429816|\n",
      "|     16.29|3.71|  Male|    No|Sun|Dinner|   3|0.22774708410067526|0.22774708410067526|\n",
      "|     16.97| 3.5|Female|    No|Sun|Dinner|   3|0.20624631703005306|0.20624631703005306|\n",
      "|     17.46|2.54|  Male|    No|Sun|Dinner|   2|0.14547537227949597|0.14547537227949597|\n",
      "+----------+----+------+------+---+------+----+-------------------+-------------------+\n",
      "only showing top 20 rows\n",
      "\n"
     ]
    }
   ],
   "source": [
    "df.select(\n",
    "    '*',\n",
    "    expr('tip / total_bill as tip_pct')\n",
    ").where(\n",
    "    expr('day = \"Sun\" AND time = \"Dinner\"')\n",
    ").show()"
   ]
  },
  {
   "cell_type": "markdown",
   "id": "99023336-20d4-4aa7-9203-980ef6923dae",
   "metadata": {},
   "source": [
    "## Joins"
   ]
  },
  {
   "cell_type": "code",
   "execution_count": 117,
   "id": "7271b43d-b233-4953-af7e-7d5f0613f422",
   "metadata": {},
   "outputs": [
    {
     "name": "stdout",
     "output_type": "stream",
     "text": [
      "+---+------+--------+\n",
      "| id|     x|group_id|\n",
      "+---+------+--------+\n",
      "|  1| 0.093|       5|\n",
      "|  2| 1.191|       3|\n",
      "|  3| -0.43|       5|\n",
      "|  4| 0.908|       2|\n",
      "|  5|-0.852|       4|\n",
      "+---+------+--------+\n",
      "only showing top 5 rows\n",
      "\n",
      "+---+-----+\n",
      "| id|group|\n",
      "+---+-----+\n",
      "|  1|    a|\n",
      "|  2|    b|\n",
      "|  3|    c|\n",
      "|  4|    d|\n",
      "|  5|    e|\n",
      "|  6|    f|\n",
      "+---+-----+\n",
      "\n"
     ]
    }
   ],
   "source": [
    "df1 = spark.createDataFrame(pd.DataFrame({\n",
    "    'id': np.arange(100) + 1,\n",
    "    'x': np.random.randn(100).round(3),\n",
    "    'group_id': np.random.choice(range(1, 7), 100),\n",
    "}))\n",
    "\n",
    "df2 = spark.createDataFrame(pd.DataFrame({\n",
    "    'id': range(1, 7),\n",
    "    'group': list('abcdef')\n",
    "}))\n",
    "df1.show(5)\n",
    "df2.show()"
   ]
  },
  {
   "cell_type": "code",
   "execution_count": 121,
   "id": "b32ec311-25a2-40db-a468-db551b20cefa",
   "metadata": {},
   "outputs": [
    {
     "name": "stdout",
     "output_type": "stream",
     "text": [
      "+---+------+--------+---+-----+\n",
      "| id|     x|group_id| id|group|\n",
      "+---+------+--------+---+-----+\n",
      "|  7| -0.51|       6|  6|    f|\n",
      "| 13| 0.588|       6|  6|    f|\n",
      "| 18| 0.044|       6|  6|    f|\n",
      "| 37| 0.048|       6|  6|    f|\n",
      "| 39| 1.034|       6|  6|    f|\n",
      "| 41|-1.033|       6|  6|    f|\n",
      "| 42|-0.726|       6|  6|    f|\n",
      "| 56|-2.016|       6|  6|    f|\n",
      "| 59| 0.616|       6|  6|    f|\n",
      "| 68|-0.524|       6|  6|    f|\n",
      "| 70|-2.272|       6|  6|    f|\n",
      "| 71|-1.762|       6|  6|    f|\n",
      "| 72| 2.044|       6|  6|    f|\n",
      "| 77|-0.517|       6|  6|    f|\n",
      "| 84|-0.519|       6|  6|    f|\n",
      "| 91| 0.199|       6|  6|    f|\n",
      "| 95| 1.107|       6|  6|    f|\n",
      "| 97| 0.952|       6|  6|    f|\n",
      "| 99| 2.073|       6|  6|    f|\n",
      "|  1| 0.093|       5|  5|    e|\n",
      "+---+------+--------+---+-----+\n",
      "only showing top 20 rows\n",
      "\n"
     ]
    }
   ],
   "source": [
    "df1.join(df2, on=df1.group_id == df2.id).show()"
   ]
  },
  {
   "cell_type": "code",
   "execution_count": 122,
   "id": "f1cea3b5-b4b9-40bf-918f-714e9f43892c",
   "metadata": {},
   "outputs": [
    {
     "name": "stdout",
     "output_type": "stream",
     "text": [
      "+---+-----+--------+---+-----+\n",
      "| id|    x|group_id| id|group|\n",
      "+---+-----+--------+---+-----+\n",
      "|  7|-0.51|       6|  6|    f|\n",
      "| 13|0.588|       6|  6|    f|\n",
      "| 18|0.044|       6|  6|    f|\n",
      "| 37|0.048|       6|  6|    f|\n",
      "| 39|1.034|       6|  6|    f|\n",
      "+---+-----+--------+---+-----+\n",
      "only showing top 5 rows\n",
      "\n"
     ]
    }
   ],
   "source": [
    "df_merged = df1.join(df2, df1.group_id == df2.id)\n",
    "df_merged.show(5)"
   ]
  },
  {
   "cell_type": "code",
   "execution_count": 124,
   "id": "345af9c6-3a75-451c-a435-4c17bfb47083",
   "metadata": {},
   "outputs": [
    {
     "name": "stdout",
     "output_type": "stream",
     "text": [
      "+--------+---+-----+-----+\n",
      "|group_id| id|    x|group|\n",
      "+--------+---+-----+-----+\n",
      "|       6|  7|-0.51|    f|\n",
      "|       6| 13|0.588|    f|\n",
      "|       6| 18|0.044|    f|\n",
      "|       6| 37|0.048|    f|\n",
      "|       6| 39|1.034|    f|\n",
      "+--------+---+-----+-----+\n",
      "only showing top 5 rows\n",
      "\n"
     ]
    }
   ],
   "source": [
    "df1.join(df2.withColumnRenamed('id', 'group_id'), 'group_id').show(5)"
   ]
  },
  {
   "cell_type": "markdown",
   "id": "e7cc829d-df64-4f6a-b4ae-5bfc0275cd8f",
   "metadata": {},
   "source": [
    "## `.explain`"
   ]
  },
  {
   "cell_type": "code",
   "execution_count": 127,
   "id": "5abbb565-e0b6-455a-8380-d012ee18cbab",
   "metadata": {},
   "outputs": [],
   "source": [
    "df = spark.createDataFrame(pydataset.data('tips'))"
   ]
  },
  {
   "cell_type": "code",
   "execution_count": 132,
   "id": "bf12ff71-0e11-4a37-b501-0573dd349b28",
   "metadata": {},
   "outputs": [
    {
     "name": "stdout",
     "output_type": "stream",
     "text": [
      "== Physical Plan ==\n",
      "*(1) Project [total_bill#2535, tip#2536, sex#2537, smoker#2538, day#2539, time#2540, size#2541L, (tip#2536 / total_bill#2535) AS tip_pct#2549]\n",
      "+- *(1) Filter (((isnotnull(time#2540) AND isnotnull(size#2541L)) AND (time#2540 = Lunch)) AND (size#2541L > 1))\n",
      "   +- *(1) Scan ExistingRDD[total_bill#2535,tip#2536,sex#2537,smoker#2538,day#2539,time#2540,size#2541L]\n",
      "\n",
      "\n"
     ]
    }
   ],
   "source": [
    "df.filter(df.time == 'Lunch').filter(df.size > 1).select('*', expr('tip / total_bill as tip_pct')).explain()"
   ]
  },
  {
   "cell_type": "code",
   "execution_count": 133,
   "id": "1a5b3647-56c2-45dd-a0ec-ee1e9f17c32f",
   "metadata": {},
   "outputs": [
    {
     "name": "stdout",
     "output_type": "stream",
     "text": [
      "== Physical Plan ==\n",
      "*(1) Project [smoker#2538, total_bill#2535, (tip#2536 / total_bill#2535) AS tip_pct#2558]\n",
      "+- *(1) Filter (isnotnull(smoker#2538) AND (smoker#2538 = Yes))\n",
      "   +- *(1) Scan ExistingRDD[total_bill#2535,tip#2536,sex#2537,smoker#2538,day#2539,time#2540,size#2541L]\n",
      "\n",
      "\n"
     ]
    }
   ],
   "source": [
    "df.filter(df.smoker == 'Yes').select('smoker', 'total_bill', expr('tip / total_bill as tip_pct')).explain()"
   ]
  },
  {
   "cell_type": "code",
   "execution_count": 134,
   "id": "5736fa62-bf73-4be3-b247-e8e1d8dc6681",
   "metadata": {},
   "outputs": [
    {
     "name": "stdout",
     "output_type": "stream",
     "text": [
      "== Physical Plan ==\n",
      "*(1) Project [smoker#2538, total_bill#2535, (tip#2536 / total_bill#2535) AS tip_pct#2562]\n",
      "+- *(1) Filter (isnotnull(smoker#2538) AND (smoker#2538 = Yes))\n",
      "   +- *(1) Scan ExistingRDD[total_bill#2535,tip#2536,sex#2537,smoker#2538,day#2539,time#2540,size#2541L]\n",
      "\n",
      "\n"
     ]
    }
   ],
   "source": [
    "df.select('smoker', 'total_bill', expr('tip / total_bill as tip_pct')).filter(df.smoker == 'Yes').explain()"
   ]
  },
  {
   "cell_type": "code",
   "execution_count": 137,
   "id": "354e2a79-aa2f-475c-8230-a3f177e56921",
   "metadata": {},
   "outputs": [
    {
     "data": {
      "text/html": [
       "<div>\n",
       "<style scoped>\n",
       "    .dataframe tbody tr th:only-of-type {\n",
       "        vertical-align: middle;\n",
       "    }\n",
       "\n",
       "    .dataframe tbody tr th {\n",
       "        vertical-align: top;\n",
       "    }\n",
       "\n",
       "    .dataframe thead th {\n",
       "        text-align: right;\n",
       "    }\n",
       "</style>\n",
       "<table border=\"1\" class=\"dataframe\">\n",
       "  <thead>\n",
       "    <tr style=\"text-align: right;\">\n",
       "      <th></th>\n",
       "      <th>total_bill</th>\n",
       "      <th>tip</th>\n",
       "      <th>sex</th>\n",
       "      <th>smoker</th>\n",
       "      <th>day</th>\n",
       "      <th>time</th>\n",
       "      <th>size</th>\n",
       "      <th>tip_pct</th>\n",
       "    </tr>\n",
       "  </thead>\n",
       "  <tbody>\n",
       "    <tr>\n",
       "      <th>0</th>\n",
       "      <td>16.99</td>\n",
       "      <td>1.01</td>\n",
       "      <td>Female</td>\n",
       "      <td>No</td>\n",
       "      <td>Sun</td>\n",
       "      <td>Dinner</td>\n",
       "      <td>2</td>\n",
       "      <td>0.059447</td>\n",
       "    </tr>\n",
       "    <tr>\n",
       "      <th>1</th>\n",
       "      <td>10.34</td>\n",
       "      <td>1.66</td>\n",
       "      <td>Male</td>\n",
       "      <td>No</td>\n",
       "      <td>Sun</td>\n",
       "      <td>Dinner</td>\n",
       "      <td>3</td>\n",
       "      <td>0.160542</td>\n",
       "    </tr>\n",
       "    <tr>\n",
       "      <th>2</th>\n",
       "      <td>21.01</td>\n",
       "      <td>3.50</td>\n",
       "      <td>Male</td>\n",
       "      <td>No</td>\n",
       "      <td>Sun</td>\n",
       "      <td>Dinner</td>\n",
       "      <td>3</td>\n",
       "      <td>0.166587</td>\n",
       "    </tr>\n",
       "    <tr>\n",
       "      <th>3</th>\n",
       "      <td>23.68</td>\n",
       "      <td>3.31</td>\n",
       "      <td>Male</td>\n",
       "      <td>No</td>\n",
       "      <td>Sun</td>\n",
       "      <td>Dinner</td>\n",
       "      <td>2</td>\n",
       "      <td>0.139780</td>\n",
       "    </tr>\n",
       "    <tr>\n",
       "      <th>4</th>\n",
       "      <td>24.59</td>\n",
       "      <td>3.61</td>\n",
       "      <td>Female</td>\n",
       "      <td>No</td>\n",
       "      <td>Sun</td>\n",
       "      <td>Dinner</td>\n",
       "      <td>4</td>\n",
       "      <td>0.146808</td>\n",
       "    </tr>\n",
       "    <tr>\n",
       "      <th>...</th>\n",
       "      <td>...</td>\n",
       "      <td>...</td>\n",
       "      <td>...</td>\n",
       "      <td>...</td>\n",
       "      <td>...</td>\n",
       "      <td>...</td>\n",
       "      <td>...</td>\n",
       "      <td>...</td>\n",
       "    </tr>\n",
       "    <tr>\n",
       "      <th>239</th>\n",
       "      <td>29.03</td>\n",
       "      <td>5.92</td>\n",
       "      <td>Male</td>\n",
       "      <td>No</td>\n",
       "      <td>Sat</td>\n",
       "      <td>Dinner</td>\n",
       "      <td>3</td>\n",
       "      <td>0.203927</td>\n",
       "    </tr>\n",
       "    <tr>\n",
       "      <th>240</th>\n",
       "      <td>27.18</td>\n",
       "      <td>2.00</td>\n",
       "      <td>Female</td>\n",
       "      <td>Yes</td>\n",
       "      <td>Sat</td>\n",
       "      <td>Dinner</td>\n",
       "      <td>2</td>\n",
       "      <td>0.073584</td>\n",
       "    </tr>\n",
       "    <tr>\n",
       "      <th>241</th>\n",
       "      <td>22.67</td>\n",
       "      <td>2.00</td>\n",
       "      <td>Male</td>\n",
       "      <td>Yes</td>\n",
       "      <td>Sat</td>\n",
       "      <td>Dinner</td>\n",
       "      <td>2</td>\n",
       "      <td>0.088222</td>\n",
       "    </tr>\n",
       "    <tr>\n",
       "      <th>242</th>\n",
       "      <td>17.82</td>\n",
       "      <td>1.75</td>\n",
       "      <td>Male</td>\n",
       "      <td>No</td>\n",
       "      <td>Sat</td>\n",
       "      <td>Dinner</td>\n",
       "      <td>2</td>\n",
       "      <td>0.098204</td>\n",
       "    </tr>\n",
       "    <tr>\n",
       "      <th>243</th>\n",
       "      <td>18.78</td>\n",
       "      <td>3.00</td>\n",
       "      <td>Female</td>\n",
       "      <td>No</td>\n",
       "      <td>Thur</td>\n",
       "      <td>Dinner</td>\n",
       "      <td>2</td>\n",
       "      <td>0.159744</td>\n",
       "    </tr>\n",
       "  </tbody>\n",
       "</table>\n",
       "<p>244 rows × 8 columns</p>\n",
       "</div>"
      ],
      "text/plain": [
       "     total_bill   tip     sex smoker   day    time  size   tip_pct\n",
       "0         16.99  1.01  Female     No   Sun  Dinner     2  0.059447\n",
       "1         10.34  1.66    Male     No   Sun  Dinner     3  0.160542\n",
       "2         21.01  3.50    Male     No   Sun  Dinner     3  0.166587\n",
       "3         23.68  3.31    Male     No   Sun  Dinner     2  0.139780\n",
       "4         24.59  3.61  Female     No   Sun  Dinner     4  0.146808\n",
       "..          ...   ...     ...    ...   ...     ...   ...       ...\n",
       "239       29.03  5.92    Male     No   Sat  Dinner     3  0.203927\n",
       "240       27.18  2.00  Female    Yes   Sat  Dinner     2  0.073584\n",
       "241       22.67  2.00    Male    Yes   Sat  Dinner     2  0.088222\n",
       "242       17.82  1.75    Male     No   Sat  Dinner     2  0.098204\n",
       "243       18.78  3.00  Female     No  Thur  Dinner     2  0.159744\n",
       "\n",
       "[244 rows x 8 columns]"
      ]
     },
     "execution_count": 137,
     "metadata": {},
     "output_type": "execute_result"
    }
   ],
   "source": [
    "df.select('*', expr('tip / total_bill as tip_pct')).toPandas()"
   ]
  }
 ],
 "metadata": {
  "kernelspec": {
   "display_name": "Python 3",
   "language": "python",
   "name": "python3"
  },
  "language_info": {
   "codemirror_mode": {
    "name": "ipython",
    "version": 3
   },
   "file_extension": ".py",
   "mimetype": "text/x-python",
   "name": "python",
   "nbconvert_exporter": "python",
   "pygments_lexer": "ipython3",
   "version": "3.8.5"
  }
 },
 "nbformat": 4,
 "nbformat_minor": 5
}
