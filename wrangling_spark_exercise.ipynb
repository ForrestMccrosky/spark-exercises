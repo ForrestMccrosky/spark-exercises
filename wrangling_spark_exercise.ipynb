{
 "cells": [
  {
   "cell_type": "code",
   "execution_count": 1,
   "metadata": {},
   "outputs": [],
   "source": [
    "from pyspark.sql import SparkSession\n",
    "from pyspark.sql.functions import *\n",
    "\n",
    "spark = SparkSession.builder.getOrCreate()"
   ]
  },
  {
   "cell_type": "markdown",
   "metadata": {},
   "source": [
    "## Data Acquisition\n",
    "These exercises should go in a notebook or script named wrangle. Add, commit, and push your changes.\n",
    "\n",
    "This exercises uses the case.csv, dept.csv, and source.csv files from the san antonio 311 call dataset.\n",
    "\n",
    "* Read the case, department, and source data into their own spark dataframes."
   ]
  },
  {
   "cell_type": "code",
   "execution_count": 2,
   "metadata": {},
   "outputs": [],
   "source": [
    "# Read in CSV file \n",
    "source = (spark.read.csv(\"source.csv\",\n",
    "                     sep=\",\",\n",
    "                     header=True,\n",
    "                     inferSchema=True)\n",
    "     )"
   ]
  },
  {
   "cell_type": "code",
   "execution_count": 3,
   "metadata": {},
   "outputs": [],
   "source": [
    "# Read in CSV file \n",
    "case = (spark.read.csv(\"case.csv\",\n",
    "                     sep=\",\",\n",
    "                     header=True,\n",
    "                     inferSchema=True)\n",
    "     )"
   ]
  },
  {
   "cell_type": "code",
   "execution_count": 4,
   "metadata": {},
   "outputs": [],
   "source": [
    "# Read in CSV file \n",
    "dept = (spark.read.csv(\"dept.csv\",\n",
    "                     sep=\",\",\n",
    "                     header=True,\n",
    "                     inferSchema=True)\n",
    "     )"
   ]
  },
  {
   "cell_type": "code",
   "execution_count": 5,
   "metadata": {},
   "outputs": [
    {
     "name": "stdout",
     "output_type": "stream",
     "text": [
      "+---------+----------------+\n",
      "|source_id| source_username|\n",
      "+---------+----------------+\n",
      "|   100137|Merlene Blodgett|\n",
      "|   103582|     Carmen Cura|\n",
      "|   106463| Richard Sanchez|\n",
      "|   119403|  Betty De Hoyos|\n",
      "|   119555|  Socorro Quiara|\n",
      "+---------+----------------+\n",
      "only showing top 5 rows\n",
      "\n"
     ]
    }
   ],
   "source": [
    "source.show(5) ## <-- previewing source"
   ]
  },
  {
   "cell_type": "code",
   "execution_count": 6,
   "metadata": {},
   "outputs": [
    {
     "name": "stdout",
     "output_type": "stream",
     "text": [
      "-RECORD 0-----------------------------------------------------\n",
      " case_id              | 1014127332                            \n",
      " case_opened_date     | 1/1/18 0:42                           \n",
      " case_closed_date     | 1/1/18 12:29                          \n",
      " SLA_due_date         | 9/26/20 0:42                          \n",
      " case_late            | NO                                    \n",
      " num_days_late        | -998.5087616000001                    \n",
      " case_closed          | YES                                   \n",
      " dept_division        | Field Operations                      \n",
      " service_request_type | Stray Animal                          \n",
      " SLA_days             | 999.0                                 \n",
      " case_status          | Closed                                \n",
      " source_id            | svcCRMLS                              \n",
      " request_address      | 2315  EL PASO ST, San Antonio, 78207  \n",
      " council_district     | 5                                     \n",
      "-RECORD 1-----------------------------------------------------\n",
      " case_id              | 1014127333                            \n",
      " case_opened_date     | 1/1/18 0:46                           \n",
      " case_closed_date     | 1/3/18 8:11                           \n",
      " SLA_due_date         | 1/5/18 8:30                           \n",
      " case_late            | NO                                    \n",
      " num_days_late        | -2.0126041669999997                   \n",
      " case_closed          | YES                                   \n",
      " dept_division        | Storm Water                           \n",
      " service_request_type | Removal Of Obstruction                \n",
      " SLA_days             | 4.322222222                           \n",
      " case_status          | Closed                                \n",
      " source_id            | svcCRMSS                              \n",
      " request_address      | 2215  GOLIAD RD, San Antonio, 78223   \n",
      " council_district     | 3                                     \n",
      "-RECORD 2-----------------------------------------------------\n",
      " case_id              | 1014127334                            \n",
      " case_opened_date     | 1/1/18 0:48                           \n",
      " case_closed_date     | 1/2/18 7:57                           \n",
      " SLA_due_date         | 1/5/18 8:30                           \n",
      " case_late            | NO                                    \n",
      " num_days_late        | -3.022337963                          \n",
      " case_closed          | YES                                   \n",
      " dept_division        | Storm Water                           \n",
      " service_request_type | Removal Of Obstruction                \n",
      " SLA_days             | 4.320729167                           \n",
      " case_status          | Closed                                \n",
      " source_id            | svcCRMSS                              \n",
      " request_address      | 102  PALFREY ST W, San Antonio, 78223 \n",
      " council_district     | 3                                     \n",
      "only showing top 3 rows\n",
      "\n"
     ]
    }
   ],
   "source": [
    "case.show(3, False, True) ## <-- previewing case"
   ]
  },
  {
   "cell_type": "code",
   "execution_count": 7,
   "metadata": {},
   "outputs": [
    {
     "name": "stdout",
     "output_type": "stream",
     "text": [
      "+--------------------+--------------------+----------------------+-------------------+\n",
      "|       dept_division|           dept_name|standardized_dept_name|dept_subject_to_SLA|\n",
      "+--------------------+--------------------+----------------------+-------------------+\n",
      "|     311 Call Center|    Customer Service|      Customer Service|                YES|\n",
      "|               Brush|Solid Waste Manag...|           Solid Waste|                YES|\n",
      "|     Clean and Green|Parks and Recreation|    Parks & Recreation|                YES|\n",
      "|Clean and Green N...|Parks and Recreation|    Parks & Recreation|                YES|\n",
      "|    Code Enforcement|Code Enforcement ...|  DSD/Code Enforcement|                YES|\n",
      "+--------------------+--------------------+----------------------+-------------------+\n",
      "only showing top 5 rows\n",
      "\n"
     ]
    }
   ],
   "source": [
    "dept.show(5) ## <-- previewing departments"
   ]
  },
  {
   "cell_type": "markdown",
   "metadata": {},
   "source": [
    "Let's see how writing to the local disk works in spark:\n",
    "\n",
    "* Write the code necessary to store the source data in both csv and json format, store these as sources_csv and sources_json\n",
    "* Inspect your folder structure. What do you notice?"
   ]
  },
  {
   "cell_type": "code",
   "execution_count": 8,
   "metadata": {},
   "outputs": [],
   "source": [
    "## writing my Json files since I already downloaded the csv's from google classroom\n",
    "\n",
    "case.write.json('data/case_json', mode = 'overwrite') \n",
    "\n",
    "source.write.json('data/source_json', mode = 'overwrite')\n",
    "\n",
    "dept.write.json('data/dept_json', mode = 'overwrite')"
   ]
  },
  {
   "cell_type": "markdown",
   "metadata": {},
   "source": [
    "In my local computer spark-exercises folder I notice that this code has made three json files and organized them into a subfolder named 'data'"
   ]
  },
  {
   "cell_type": "markdown",
   "metadata": {},
   "source": [
    "Inspect the data in your dataframes. Are the data types appropriate? Write the code necessary to cast the values to the appropriate types."
   ]
  },
  {
   "cell_type": "code",
   "execution_count": 9,
   "metadata": {},
   "outputs": [
    {
     "data": {
      "text/plain": [
       "[('case_id', 'int'),\n",
       " ('case_opened_date', 'string'),\n",
       " ('case_closed_date', 'string'),\n",
       " ('SLA_due_date', 'string'),\n",
       " ('case_late', 'string'),\n",
       " ('num_days_late', 'double'),\n",
       " ('case_closed', 'string'),\n",
       " ('dept_division', 'string'),\n",
       " ('service_request_type', 'string'),\n",
       " ('SLA_days', 'double'),\n",
       " ('case_status', 'string'),\n",
       " ('source_id', 'string'),\n",
       " ('request_address', 'string'),\n",
       " ('council_district', 'int')]"
      ]
     },
     "execution_count": 9,
     "metadata": {},
     "output_type": "execute_result"
    }
   ],
   "source": [
    "## inspecting our spark dataframe date types using dtypes\n",
    "\n",
    "case.dtypes"
   ]
  },
  {
   "cell_type": "code",
   "execution_count": 10,
   "metadata": {},
   "outputs": [
    {
     "data": {
      "text/plain": [
       "[('dept_division', 'string'),\n",
       " ('dept_name', 'string'),\n",
       " ('standardized_dept_name', 'string'),\n",
       " ('dept_subject_to_SLA', 'string')]"
      ]
     },
     "execution_count": 10,
     "metadata": {},
     "output_type": "execute_result"
    }
   ],
   "source": [
    "dept.dtypes"
   ]
  },
  {
   "cell_type": "code",
   "execution_count": 11,
   "metadata": {},
   "outputs": [
    {
     "data": {
      "text/plain": [
       "[('source_id', 'string'), ('source_username', 'string')]"
      ]
     },
     "execution_count": 11,
     "metadata": {},
     "output_type": "execute_result"
    }
   ],
   "source": [
    "source.dtypes"
   ]
  },
  {
   "cell_type": "markdown",
   "metadata": {},
   "source": [
    "Things to do:\n",
    "\n",
    "Rename Columns:\n",
    "* 'SLA_due_date -> case_due_date\n",
    "\n",
    "Correct Data Types:\n",
    "* case_closed and case_late to boolean\n",
    "* council_district as a string\n",
    "* case_opened_date, case_closed_date and case_due_date to datetime format\n",
    "\n",
    "Data Transformation:\n",
    "* request_address: trim and lowercase\n",
    "* format council district with leading zeros\n",
    "* convert the number of days a case is late to a number of weeks\n",
    "\n",
    "New features:\n",
    "* zip_code : extract from address\n",
    "* case_age\n",
    "* days_to_closed\n",
    "* case_lifetime\n",
    "\n",
    "Join cases data with department data:"
   ]
  },
  {
   "cell_type": "markdown",
   "metadata": {},
   "source": [
    "Rename The Columns:"
   ]
  },
  {
   "cell_type": "code",
   "execution_count": 12,
   "metadata": {},
   "outputs": [],
   "source": [
    "# Rename 'SLA_due_date' to 'case_due_date' using .withColumnRenamed\n",
    "\n",
    "case = case.withColumnRenamed('SLA_due_date', 'case_due_date')"
   ]
  },
  {
   "cell_type": "code",
   "execution_count": 13,
   "metadata": {},
   "outputs": [
    {
     "name": "stdout",
     "output_type": "stream",
     "text": [
      "-RECORD 0----------------------------------------------------\n",
      " case_id              | 1014127332                           \n",
      " case_opened_date     | 1/1/18 0:42                          \n",
      " case_closed_date     | 1/1/18 12:29                         \n",
      " case_due_date        | 9/26/20 0:42                         \n",
      " case_late            | NO                                   \n",
      " num_days_late        | -998.5087616000001                   \n",
      " case_closed          | YES                                  \n",
      " dept_division        | Field Operations                     \n",
      " service_request_type | Stray Animal                         \n",
      " SLA_days             | 999.0                                \n",
      " case_status          | Closed                               \n",
      " source_id            | svcCRMLS                             \n",
      " request_address      | 2315  EL PASO ST, San Antonio, 78207 \n",
      " council_district     | 5                                    \n",
      "only showing top 1 row\n",
      "\n"
     ]
    }
   ],
   "source": [
    "case.show(1, truncate = False, vertical = True)"
   ]
  },
  {
   "cell_type": "markdown",
   "metadata": {},
   "source": [
    "Correct Data Types:"
   ]
  },
  {
   "cell_type": "code",
   "execution_count": 14,
   "metadata": {},
   "outputs": [
    {
     "name": "stdout",
     "output_type": "stream",
     "text": [
      "+-----------+---------+\n",
      "|case_closed|case_late|\n",
      "+-----------+---------+\n",
      "|        YES|       NO|\n",
      "|        YES|       NO|\n",
      "|        YES|       NO|\n",
      "|        YES|       NO|\n",
      "|        YES|      YES|\n",
      "+-----------+---------+\n",
      "only showing top 5 rows\n",
      "\n"
     ]
    }
   ],
   "source": [
    "# correct data types: case_closed and case_late to boolean\n",
    "\n",
    "case.select(\"case_closed\", \"case_late\").show(5)"
   ]
  },
  {
   "cell_type": "code",
   "execution_count": 15,
   "metadata": {},
   "outputs": [],
   "source": [
    "# use .withColumn to change columns from string to boolean values\n",
    "\n",
    "case = case.withColumn('case_closed', expr('case_closed == \"YES\"'))\\\n",
    ".withColumn('case_late', expr('case_late == \"YES\"'))"
   ]
  },
  {
   "cell_type": "code",
   "execution_count": 16,
   "metadata": {},
   "outputs": [
    {
     "name": "stdout",
     "output_type": "stream",
     "text": [
      "+-----------+---------+\n",
      "|case_closed|case_late|\n",
      "+-----------+---------+\n",
      "|       true|    false|\n",
      "|       true|    false|\n",
      "|       true|    false|\n",
      "|       true|    false|\n",
      "|       true|     true|\n",
      "+-----------+---------+\n",
      "only showing top 5 rows\n",
      "\n"
     ]
    }
   ],
   "source": [
    "case.select(\"case_closed\", \"case_late\").show(5)"
   ]
  },
  {
   "cell_type": "code",
   "execution_count": 17,
   "metadata": {},
   "outputs": [
    {
     "name": "stdout",
     "output_type": "stream",
     "text": [
      "+----------------+\n",
      "|council_district|\n",
      "+----------------+\n",
      "|               5|\n",
      "|               3|\n",
      "|               3|\n",
      "|               3|\n",
      "+----------------+\n",
      "only showing top 4 rows\n",
      "\n"
     ]
    }
   ],
   "source": [
    "# council_district cast as string\n",
    "case.select('council_district').show(4)"
   ]
  },
  {
   "cell_type": "code",
   "execution_count": 18,
   "metadata": {},
   "outputs": [],
   "source": [
    "# council_district as a string instead of int\n",
    "case = case.withColumn('council_district', col('council_district').cast('string'))"
   ]
  },
  {
   "cell_type": "code",
   "execution_count": 19,
   "metadata": {},
   "outputs": [
    {
     "name": "stdout",
     "output_type": "stream",
     "text": [
      "+----------------+\n",
      "|council_district|\n",
      "+----------------+\n",
      "|               5|\n",
      "|               3|\n",
      "|               3|\n",
      "|               3|\n",
      "+----------------+\n",
      "only showing top 4 rows\n",
      "\n"
     ]
    }
   ],
   "source": [
    "# view the column\n",
    "\n",
    "case.select('council_district').show(4)"
   ]
  },
  {
   "cell_type": "code",
   "execution_count": 20,
   "metadata": {},
   "outputs": [
    {
     "data": {
      "text/plain": [
       "[('case_id', 'int'),\n",
       " ('case_opened_date', 'string'),\n",
       " ('case_closed_date', 'string'),\n",
       " ('case_due_date', 'string'),\n",
       " ('case_late', 'boolean'),\n",
       " ('num_days_late', 'double'),\n",
       " ('case_closed', 'boolean'),\n",
       " ('dept_division', 'string'),\n",
       " ('service_request_type', 'string'),\n",
       " ('SLA_days', 'double'),\n",
       " ('case_status', 'string'),\n",
       " ('source_id', 'string'),\n",
       " ('request_address', 'string'),\n",
       " ('council_district', 'string')]"
      ]
     },
     "execution_count": 20,
     "metadata": {},
     "output_type": "execute_result"
    }
   ],
   "source": [
    "# check datatypes\n",
    "case.dtypes"
   ]
  },
  {
   "cell_type": "code",
   "execution_count": 21,
   "metadata": {},
   "outputs": [
    {
     "name": "stdout",
     "output_type": "stream",
     "text": [
      "+----------------+----------------+-------------+\n",
      "|case_opened_date|case_closed_date|case_due_date|\n",
      "+----------------+----------------+-------------+\n",
      "|     1/1/18 0:42|    1/1/18 12:29| 9/26/20 0:42|\n",
      "|     1/1/18 0:46|     1/3/18 8:11|  1/5/18 8:30|\n",
      "|     1/1/18 0:48|     1/2/18 7:57|  1/5/18 8:30|\n",
      "|     1/1/18 1:29|     1/2/18 8:13| 1/17/18 8:30|\n",
      "|     1/1/18 1:34|    1/1/18 13:29|  1/1/18 4:34|\n",
      "+----------------+----------------+-------------+\n",
      "only showing top 5 rows\n",
      "\n"
     ]
    }
   ],
   "source": [
    "# convert case_opened_date, case_closed_date and case_due_date to datetime format\n",
    "\n",
    "case.select('case_opened_date', 'case_closed_date', 'case_due_date').show(5)"
   ]
  },
  {
   "cell_type": "code",
   "execution_count": 22,
   "metadata": {},
   "outputs": [],
   "source": [
    "# to_timestamp, fmt\n",
    "\n",
    "fmt = \"M/d/yy H:mm\"\n",
    "\n",
    "case = case.withColumn('case_opened_date', to_timestamp('case_opened_date', fmt))\\\n",
    ".withColumn('case_closed_date', to_timestamp('case_closed_date', fmt))\\\n",
    ".withColumn('case_due_date', to_timestamp('case_due_date', fmt))"
   ]
  },
  {
   "cell_type": "code",
   "execution_count": 23,
   "metadata": {},
   "outputs": [
    {
     "name": "stdout",
     "output_type": "stream",
     "text": [
      "+-------------------+-------------------+-------------------+\n",
      "|   case_opened_date|   case_closed_date|      case_due_date|\n",
      "+-------------------+-------------------+-------------------+\n",
      "|2018-01-01 00:42:00|2018-01-01 12:29:00|2020-09-26 00:42:00|\n",
      "|2018-01-01 00:46:00|2018-01-03 08:11:00|2018-01-05 08:30:00|\n",
      "|2018-01-01 00:48:00|2018-01-02 07:57:00|2018-01-05 08:30:00|\n",
      "|2018-01-01 01:29:00|2018-01-02 08:13:00|2018-01-17 08:30:00|\n",
      "|2018-01-01 01:34:00|2018-01-01 13:29:00|2018-01-01 04:34:00|\n",
      "+-------------------+-------------------+-------------------+\n",
      "only showing top 5 rows\n",
      "\n"
     ]
    }
   ],
   "source": [
    "# check the three columns again\n",
    "\n",
    "case.select('case_opened_date', 'case_closed_date', 'case_due_date').show(5)"
   ]
  },
  {
   "cell_type": "markdown",
   "metadata": {},
   "source": [
    "Data Transformation"
   ]
  },
  {
   "cell_type": "code",
   "execution_count": 24,
   "metadata": {},
   "outputs": [
    {
     "name": "stdout",
     "output_type": "stream",
     "text": [
      "+-------------------------------------+\n",
      "|request_address                      |\n",
      "+-------------------------------------+\n",
      "|2315  EL PASO ST, San Antonio, 78207 |\n",
      "|2215  GOLIAD RD, San Antonio, 78223  |\n",
      "|102  PALFREY ST W, San Antonio, 78223|\n",
      "|114  LA GARDE ST, San Antonio, 78223 |\n",
      "|734  CLEARVIEW DR, San Antonio, 78228|\n",
      "+-------------------------------------+\n",
      "only showing top 5 rows\n",
      "\n"
     ]
    }
   ],
   "source": [
    "# request_address: trim and lowercase\n",
    "\n",
    "case.select('request_address').show(5, False)"
   ]
  },
  {
   "cell_type": "code",
   "execution_count": 25,
   "metadata": {},
   "outputs": [
    {
     "name": "stdout",
     "output_type": "stream",
     "text": [
      "+-------------------------------------+\n",
      "|request_address                      |\n",
      "+-------------------------------------+\n",
      "|2315  el paso st, san antonio, 78207 |\n",
      "|2215  goliad rd, san antonio, 78223  |\n",
      "|102  palfrey st w, san antonio, 78223|\n",
      "|114  la garde st, san antonio, 78223 |\n",
      "|734  clearview dr, san antonio, 78228|\n",
      "+-------------------------------------+\n",
      "only showing top 5 rows\n",
      "\n"
     ]
    }
   ],
   "source": [
    "case = case.withColumn('request_address', trim(lower(case.request_address)))\n",
    "\n",
    "case.select('request_address').show(5, False)"
   ]
  },
  {
   "cell_type": "code",
   "execution_count": 26,
   "metadata": {},
   "outputs": [
    {
     "name": "stdout",
     "output_type": "stream",
     "text": [
      "+-------------------+--------------------+\n",
      "|      num_days_late|      num_weeks_late|\n",
      "+-------------------+--------------------+\n",
      "| -998.5087616000001|        -142.6441088|\n",
      "|-2.0126041669999997|-0.28751488099999994|\n",
      "|       -3.022337963|-0.43176256614285713|\n",
      "|       -15.01148148| -2.1444973542857144|\n",
      "|0.37216435200000003|         0.053166336|\n",
      "+-------------------+--------------------+\n",
      "only showing top 5 rows\n",
      "\n"
     ]
    }
   ],
   "source": [
    "# convert the number of days a case is late to a number of weeks\n",
    "\n",
    "case = case.withColumn('num_weeks_late', expr('num_days_late/7'))\n",
    "\n",
    "case.select(\"num_days_late\", \"num_weeks_late\").show(5)"
   ]
  },
  {
   "cell_type": "code",
   "execution_count": 27,
   "metadata": {},
   "outputs": [],
   "source": [
    "# use format_string function to pad zeros for council_district\n",
    "\n",
    "case = case.withColumn('council_district', format_string('%03d', col('council_district').cast('int')))"
   ]
  },
  {
   "cell_type": "code",
   "execution_count": 28,
   "metadata": {},
   "outputs": [
    {
     "name": "stdout",
     "output_type": "stream",
     "text": [
      "+----------------+\n",
      "|council_district|\n",
      "+----------------+\n",
      "|             005|\n",
      "|             003|\n",
      "|             003|\n",
      "|             003|\n",
      "|             007|\n",
      "+----------------+\n",
      "only showing top 5 rows\n",
      "\n"
     ]
    }
   ],
   "source": [
    "case.select('council_district').show(5)"
   ]
  },
  {
   "cell_type": "markdown",
   "metadata": {},
   "source": [
    "New Features: "
   ]
  },
  {
   "cell_type": "code",
   "execution_count": 29,
   "metadata": {},
   "outputs": [
    {
     "name": "stdout",
     "output_type": "stream",
     "text": [
      "+-------+\n",
      "|zipcode|\n",
      "+-------+\n",
      "|  78207|\n",
      "|  78223|\n",
      "|  78223|\n",
      "|  78223|\n",
      "|  78228|\n",
      "+-------+\n",
      "only showing top 5 rows\n",
      "\n"
     ]
    }
   ],
   "source": [
    "# create a new column for zipcode:\n",
    "\n",
    "case = case.withColumn('zipcode', regexp_extract('request_address', r\"(\\d+$)\", 1))\n",
    "\n",
    "case.select('zipcode').show(5)"
   ]
  },
  {
   "cell_type": "code",
   "execution_count": 30,
   "metadata": {},
   "outputs": [
    {
     "name": "stdout",
     "output_type": "stream",
     "text": [
      "-RECORD 0----------------------------------------------------\n",
      " case_id              | 1014127332                           \n",
      " case_opened_date     | 2018-01-01 00:42:00                  \n",
      " case_closed_date     | 2018-01-01 12:29:00                  \n",
      " case_due_date        | 2020-09-26 00:42:00                  \n",
      " case_late            | false                                \n",
      " num_days_late        | -998.5087616000001                   \n",
      " case_closed          | true                                 \n",
      " dept_division        | Field Operations                     \n",
      " service_request_type | Stray Animal                         \n",
      " SLA_days             | 999.0                                \n",
      " case_status          | Closed                               \n",
      " source_id            | svcCRMLS                             \n",
      " request_address      | 2315  el paso st, san antonio, 78207 \n",
      " council_district     | 005                                  \n",
      " num_weeks_late       | -142.6441088                         \n",
      " zipcode              | 78207                                \n",
      "only showing top 1 row\n",
      "\n"
     ]
    }
   ],
   "source": [
    "case.show(1, False, True)"
   ]
  },
  {
   "cell_type": "markdown",
   "metadata": {},
   "source": [
    "case_age: How old the case is; the difference in days between when the case was opened and the current day\n",
    "\n",
    "days_to_closed: The number of days between when the case was opened and when it was closed\n",
    "\n",
    "case_lifetime: Number of days between when the case was opened and when it was closed, if the case is still open, the number of days since the case was opened"
   ]
  },
  {
   "cell_type": "code",
   "execution_count": 31,
   "metadata": {},
   "outputs": [],
   "source": [
    "#create three new columns 'case_age', 'days_to_closed', 'case_lifetime'\n",
    "\n",
    "case = (\n",
    "    case.withColumn(\n",
    "        \"case_age\", datediff(current_timestamp(), \"case_opened_date\")\n",
    "    )\n",
    "    .withColumn(\n",
    "        \"days_to_closed\", datediff(\"case_closed_date\", \"case_opened_date\")\n",
    "    )\n",
    "    .withColumn(\n",
    "        \"case_lifetime\",\n",
    "        when(expr(\"! case_closed\"), col(\"case_age\")).otherwise(\n",
    "            col(\"days_to_closed\")\n",
    "        ),\n",
    "    )\n",
    ")"
   ]
  },
  {
   "cell_type": "code",
   "execution_count": 32,
   "metadata": {},
   "outputs": [
    {
     "name": "stdout",
     "output_type": "stream",
     "text": [
      "+-------------+\n",
      "|case_lifetime|\n",
      "+-------------+\n",
      "|            0|\n",
      "|            2|\n",
      "|            1|\n",
      "+-------------+\n",
      "only showing top 3 rows\n",
      "\n"
     ]
    }
   ],
   "source": [
    "case.select(expr('CASE WHEN case_closed == False THEN case_age ELSE days_to_closed END').alias('case_lifetime')).show(3)"
   ]
  },
  {
   "cell_type": "code",
   "execution_count": 33,
   "metadata": {},
   "outputs": [
    {
     "name": "stdout",
     "output_type": "stream",
     "text": [
      "-RECORD 0----------------------------------------------------\n",
      " case_id              | 1014127332                           \n",
      " case_opened_date     | 2018-01-01 00:42:00                  \n",
      " case_closed_date     | 2018-01-01 12:29:00                  \n",
      " case_due_date        | 2020-09-26 00:42:00                  \n",
      " case_late            | false                                \n",
      " num_days_late        | -998.5087616000001                   \n",
      " case_closed          | true                                 \n",
      " dept_division        | Field Operations                     \n",
      " service_request_type | Stray Animal                         \n",
      " SLA_days             | 999.0                                \n",
      " case_status          | Closed                               \n",
      " source_id            | svcCRMLS                             \n",
      " request_address      | 2315  el paso st, san antonio, 78207 \n",
      " council_district     | 005                                  \n",
      " num_weeks_late       | -142.6441088                         \n",
      " zipcode              | 78207                                \n",
      " case_age             | 1313                                 \n",
      " days_to_closed       | 0                                    \n",
      " case_lifetime        | 0                                    \n",
      "only showing top 1 row\n",
      "\n"
     ]
    }
   ],
   "source": [
    "case.show(1, False, True)"
   ]
  },
  {
   "cell_type": "markdown",
   "metadata": {},
   "source": [
    "Question 3: Before joining tables working with original case:\n",
    "* How many service requests that are assigned to the Field Operations department (dept_division) are not classified as \"Officer Standby\" request type (service_request_type)?"
   ]
  },
  {
   "cell_type": "markdown",
   "metadata": {},
   "source": [
    "Joining dept on case"
   ]
  },
  {
   "cell_type": "code",
   "execution_count": 34,
   "metadata": {},
   "outputs": [
    {
     "data": {
      "text/plain": [
       "113902"
      ]
     },
     "execution_count": 34,
     "metadata": {},
     "output_type": "execute_result"
    }
   ],
   "source": [
    "## using where to filter for filed operations department as well as \n",
    "## officer stanby requests and getting the answer with a count()\n",
    "\n",
    "(case.where(expr('dept_division == \"Field Operations\"'))\n",
    ".where(expr('service_request_type != \"Officer Standby\"'))).count()"
   ]
  },
  {
   "cell_type": "code",
   "execution_count": 35,
   "metadata": {},
   "outputs": [],
   "source": [
    "# join the df and dept dataframe using 'dept_division' as common key\n",
    "# drop columns as needed (keep standardized_dept_name)\n",
    "# convert dept_subject_to_SLA to boolean\n",
    "\n",
    "case = (\n",
    "    case\n",
    "    # left join on dept_division\n",
    "    .join(dept, \"dept_division\", \"left\")\n",
    "    # drop all the columns except for standardized name, as it has much fewer unique values\n",
    "    .drop(dept.dept_division)\n",
    "    .drop(dept.dept_name)\n",
    "    .drop(case.dept_division)\n",
    "    .withColumnRenamed(\"standardized_dept_name\", \"department\")\n",
    "    # convert to a boolean\n",
    "    .withColumn(\"dept_subject_to_SLA\", col(\"dept_subject_to_SLA\") == \"YES\")\n",
    ")"
   ]
  },
  {
   "cell_type": "code",
   "execution_count": 36,
   "metadata": {},
   "outputs": [
    {
     "name": "stdout",
     "output_type": "stream",
     "text": [
      "-RECORD 0----------------------------------------------------\n",
      " case_id              | 1014127332                           \n",
      " case_opened_date     | 2018-01-01 00:42:00                  \n",
      " case_closed_date     | 2018-01-01 12:29:00                  \n",
      " case_due_date        | 2020-09-26 00:42:00                  \n",
      " case_late            | false                                \n",
      " num_days_late        | -998.5087616000001                   \n",
      " case_closed          | true                                 \n",
      " service_request_type | Stray Animal                         \n",
      " SLA_days             | 999.0                                \n",
      " case_status          | Closed                               \n",
      " source_id            | svcCRMLS                             \n",
      " request_address      | 2315  el paso st, san antonio, 78207 \n",
      " council_district     | 005                                  \n",
      " num_weeks_late       | -142.6441088                         \n",
      " zipcode              | 78207                                \n",
      " case_age             | 1313                                 \n",
      " days_to_closed       | 0                                    \n",
      " case_lifetime        | 0                                    \n",
      " department           | Animal Care Services                 \n",
      " dept_subject_to_SLA  | true                                 \n",
      "only showing top 1 row\n",
      "\n"
     ]
    }
   ],
   "source": [
    "case.show(1, False, True) ## <-- previewing our new dataframe"
   ]
  },
  {
   "cell_type": "markdown",
   "metadata": {},
   "source": [
    "#### Exercise Questions"
   ]
  },
  {
   "cell_type": "markdown",
   "metadata": {},
   "source": [
    "Question 1: How old is the latest (in terms of days past SLA) currently open issue? How long has the oldest (in terms of days since opened) currently opened issue been open?"
   ]
  },
  {
   "cell_type": "code",
   "execution_count": 37,
   "metadata": {},
   "outputs": [
    {
     "name": "stdout",
     "output_type": "stream",
     "text": [
      "-RECORD 0--------------------------------------------------------\n",
      " case_id              | 1013896575                               \n",
      " case_opened_date     | 2017-09-22 08:27:00                      \n",
      " case_closed_date     | null                                     \n",
      " case_due_date        | 2021-08-11 08:30:00                      \n",
      " case_late            | false                                    \n",
      " num_days_late        | -1318.354167                             \n",
      " case_closed          | false                                    \n",
      " service_request_type | Signal Timing Modification By Engineer   \n",
      " SLA_days             | 1419.00191                               \n",
      " case_status          | Open                                     \n",
      " source_id            | CRM_Listener                             \n",
      " request_address      | 4200  harry wurzbach, san antonio, 78209 \n",
      " council_district     | 010                                      \n",
      " num_weeks_late       | -188.33630957142856                      \n",
      " zipcode              | 78209                                    \n",
      " case_age             | 1414                                     \n",
      " days_to_closed       | null                                     \n",
      " case_lifetime        | 1414                                     \n",
      " department           | Trans & Cap Improvements                 \n",
      " dept_subject_to_SLA  | true                                     \n",
      "only showing top 1 row\n",
      "\n"
     ]
    }
   ],
   "source": [
    "## using where to filter for open cases and ordering by longest SLA days in descending order\n",
    "\n",
    "case.where(case.case_status == 'Open').orderBy(desc(case.SLA_days)).show(1, False, True)"
   ]
  },
  {
   "cell_type": "markdown",
   "metadata": {},
   "source": [
    "Question 2: How many Stray Animal cases are there? "
   ]
  },
  {
   "cell_type": "code",
   "execution_count": 38,
   "metadata": {},
   "outputs": [
    {
     "data": {
      "text/plain": [
       "26760"
      ]
     },
     "execution_count": 38,
     "metadata": {},
     "output_type": "execute_result"
    }
   ],
   "source": [
    "## using where to filter for stray animal request types and counting them with count()\n",
    "\n",
    "case.where(case.service_request_type == 'Stray Animal').count()"
   ]
  },
  {
   "cell_type": "markdown",
   "metadata": {},
   "source": [
    "Question 3: How many service requests that are assigned to the Field Operations department\n",
    "* (dept_division) are not classified as \"Officer Standby\" request type\n",
    "* (service_request_type)?"
   ]
  },
  {
   "cell_type": "code",
   "execution_count": 39,
   "metadata": {},
   "outputs": [
    {
     "data": {
      "text/plain": [
       "0"
      ]
     },
     "execution_count": 39,
     "metadata": {},
     "output_type": "execute_result"
    }
   ],
   "source": [
    "## using where to filter for filed operations department as well as \n",
    "## officer stanby requests and getting the answer with a count()\n",
    "\n",
    "(case.where(expr('department == \"Field Operations\"'))\n",
    ".where(expr('service_request_type != \"Officer Standby\"'))).count()"
   ]
  },
  {
   "cell_type": "markdown",
   "metadata": {},
   "source": [
    "Question 4: Convert the council_district column to a string column"
   ]
  },
  {
   "cell_type": "code",
   "execution_count": 40,
   "metadata": {},
   "outputs": [
    {
     "data": {
      "text/plain": [
       "[('case_id', 'int'),\n",
       " ('case_opened_date', 'timestamp'),\n",
       " ('case_closed_date', 'timestamp'),\n",
       " ('case_due_date', 'timestamp'),\n",
       " ('case_late', 'boolean'),\n",
       " ('num_days_late', 'double'),\n",
       " ('case_closed', 'boolean'),\n",
       " ('service_request_type', 'string'),\n",
       " ('SLA_days', 'double'),\n",
       " ('case_status', 'string'),\n",
       " ('source_id', 'string'),\n",
       " ('request_address', 'string'),\n",
       " ('council_district', 'string'),\n",
       " ('num_weeks_late', 'double'),\n",
       " ('zipcode', 'string'),\n",
       " ('case_age', 'int'),\n",
       " ('days_to_closed', 'int'),\n",
       " ('case_lifetime', 'int'),\n",
       " ('department', 'string'),\n",
       " ('dept_subject_to_SLA', 'boolean')]"
      ]
     },
     "execution_count": 40,
     "metadata": {},
     "output_type": "execute_result"
    }
   ],
   "source": [
    "case.dtypes ## this was already done preparing the dataframe for the exercise"
   ]
  },
  {
   "cell_type": "markdown",
   "metadata": {},
   "source": [
    "Question 5: Extract the year from the case_closed_date column."
   ]
  },
  {
   "cell_type": "code",
   "execution_count": 41,
   "metadata": {},
   "outputs": [
    {
     "name": "stdout",
     "output_type": "stream",
     "text": [
      "-RECORD 0----------------------------------------------------\n",
      " case_id              | 1014127332                           \n",
      " case_opened_date     | 2018-01-01 00:42:00                  \n",
      " case_closed_date     | 2018-01-01 12:29:00                  \n",
      " case_due_date        | 2020-09-26 00:42:00                  \n",
      " case_late            | false                                \n",
      " num_days_late        | -998.5087616000001                   \n",
      " case_closed          | true                                 \n",
      " service_request_type | Stray Animal                         \n",
      " SLA_days             | 999.0                                \n",
      " case_status          | Closed                               \n",
      " source_id            | svcCRMLS                             \n",
      " request_address      | 2315  el paso st, san antonio, 78207 \n",
      " council_district     | 005                                  \n",
      " num_weeks_late       | -142.6441088                         \n",
      " zipcode              | 78207                                \n",
      " case_age             | 1313                                 \n",
      " days_to_closed       | 0                                    \n",
      " case_lifetime        | 0                                    \n",
      " department           | Animal Care Services                 \n",
      " dept_subject_to_SLA  | true                                 \n",
      "only showing top 1 row\n",
      "\n"
     ]
    }
   ],
   "source": [
    "case.show(1, False, True)"
   ]
  },
  {
   "cell_type": "code",
   "execution_count": 42,
   "metadata": {},
   "outputs": [
    {
     "name": "stdout",
     "output_type": "stream",
     "text": [
      "-RECORD 0----------------------------------------------------\n",
      " case_id              | 1014127332                           \n",
      " case_opened_date     | 2018-01-01 00:42:00                  \n",
      " case_closed_date     | 2018-01-01 12:29:00                  \n",
      " case_due_date        | 2020-09-26 00:42:00                  \n",
      " case_late            | false                                \n",
      " num_days_late        | -998.5087616000001                   \n",
      " case_closed          | true                                 \n",
      " service_request_type | Stray Animal                         \n",
      " SLA_days             | 999.0                                \n",
      " case_status          | Closed                               \n",
      " source_id            | svcCRMLS                             \n",
      " request_address      | 2315  el paso st, san antonio, 78207 \n",
      " council_district     | 005                                  \n",
      " num_weeks_late       | -142.6441088                         \n",
      " zipcode              | 78207                                \n",
      " case_age             | 1313                                 \n",
      " days_to_closed       | 0                                    \n",
      " case_lifetime        | 0                                    \n",
      " department           | Animal Care Services                 \n",
      " dept_subject_to_SLA  | true                                 \n",
      " case_year            | 2018                                 \n",
      "only showing top 1 row\n",
      "\n"
     ]
    }
   ],
   "source": [
    "## using datetime format to extract the year from case closed date column and make it a \n",
    "## column\n",
    "\n",
    "case = case.withColumn('case_year', year(col('case_closed_date')))\n",
    "\n",
    "case.show(1, False, True)"
   ]
  },
  {
   "cell_type": "markdown",
   "metadata": {},
   "source": [
    "Question 6: Convert num_days_late from days to hours in new columns num_hours_late.\n",
    "\n"
   ]
  },
  {
   "cell_type": "code",
   "execution_count": 43,
   "metadata": {},
   "outputs": [],
   "source": [
    "## turining days into hours by multiplying days late by 24 (hours in a day)\n",
    "\n",
    "case = case.withColumn('num_hours_late', (col('num_days_late') * 24))"
   ]
  },
  {
   "cell_type": "code",
   "execution_count": 44,
   "metadata": {},
   "outputs": [
    {
     "name": "stdout",
     "output_type": "stream",
     "text": [
      "-RECORD 0----------------------------------------------------\n",
      " case_id              | 1014127332                           \n",
      " case_opened_date     | 2018-01-01 00:42:00                  \n",
      " case_closed_date     | 2018-01-01 12:29:00                  \n",
      " case_due_date        | 2020-09-26 00:42:00                  \n",
      " case_late            | false                                \n",
      " num_days_late        | -998.5087616000001                   \n",
      " case_closed          | true                                 \n",
      " service_request_type | Stray Animal                         \n",
      " SLA_days             | 999.0                                \n",
      " case_status          | Closed                               \n",
      " source_id            | svcCRMLS                             \n",
      " request_address      | 2315  el paso st, san antonio, 78207 \n",
      " council_district     | 005                                  \n",
      " num_weeks_late       | -142.6441088                         \n",
      " zipcode              | 78207                                \n",
      " case_age             | 1313                                 \n",
      " days_to_closed       | 0                                    \n",
      " case_lifetime        | 0                                    \n",
      " department           | Animal Care Services                 \n",
      " dept_subject_to_SLA  | true                                 \n",
      " case_year            | 2018                                 \n",
      " num_hours_late       | -23964.2102784                       \n",
      "only showing top 1 row\n",
      "\n"
     ]
    }
   ],
   "source": [
    "case.show(1, False, True)"
   ]
  },
  {
   "cell_type": "markdown",
   "metadata": {},
   "source": [
    "Question 7: Join the case data with the source and department data.\n",
    "\n",
    "* Answer put in raw cell because this was already done above.\n"
   ]
  },
  {
   "cell_type": "raw",
   "metadata": {},
   "source": [
    "# join the df and dept dataframe using 'dept_division' as common key\n",
    "# drop columns as needed (keep standardized_dept_name)\n",
    "# convert dept_subject_to_SLA to boolean\n",
    "\n",
    "case = (\n",
    "    case\n",
    "    # left join on dept_division\n",
    "    .join(dept, \"dept_division\", \"left\")\n",
    "    # drop all the columns except for standardized name, as it has much fewer unique values\n",
    "    .drop(dept.dept_division)\n",
    "    .drop(dept.dept_name)\n",
    "    .drop(case.dept_division)\n",
    "    .withColumnRenamed(\"standardized_dept_name\", \"department\")\n",
    "    # convert to a boolean\n",
    "    .withColumn(\"dept_subject_to_SLA\", col(\"dept_subject_to_SLA\") == \"YES\")\n",
    ")"
   ]
  },
  {
   "cell_type": "markdown",
   "metadata": {},
   "source": [
    "Question 8: Are there any cases that do not have a request source?\n",
    "\n"
   ]
  },
  {
   "cell_type": "code",
   "execution_count": 45,
   "metadata": {},
   "outputs": [
    {
     "data": {
      "text/plain": [
       "0"
      ]
     },
     "execution_count": 45,
     "metadata": {},
     "output_type": "execute_result"
    }
   ],
   "source": [
    "case.where(case.source_id == 'null').count()"
   ]
  },
  {
   "cell_type": "markdown",
   "metadata": {},
   "source": [
    "Question 9: What are the top 10 service request types in terms of number of requests?\n",
    "\n"
   ]
  },
  {
   "cell_type": "code",
   "execution_count": 52,
   "metadata": {},
   "outputs": [
    {
     "name": "stdout",
     "output_type": "stream",
     "text": [
      "+--------------------------------+-----+\n",
      "|service_request_type            |count|\n",
      "+--------------------------------+-----+\n",
      "|No Pickup                       |86855|\n",
      "|Overgrown Yard/Trash            |65895|\n",
      "|Bandit Signs                    |32910|\n",
      "|Damaged Cart                    |30338|\n",
      "|Front Or Side Yard Parking      |28794|\n",
      "|Stray Animal                    |26760|\n",
      "|Aggressive Animal(Non-Critical) |24882|\n",
      "|Cart Exchange Request           |22024|\n",
      "|Junk Vehicle On Private Property|21473|\n",
      "|Pot Hole Repair                 |20616|\n",
      "+--------------------------------+-----+\n",
      "only showing top 10 rows\n",
      "\n"
     ]
    }
   ],
   "source": [
    "(\n",
    "    (case.groupby('service_request_type').count()).orderBy(desc(col('count')))\n",
    "    .show(10, truncate = False)\n",
    ")"
   ]
  },
  {
   "cell_type": "markdown",
   "metadata": {},
   "source": [
    "Question 10: What are the top 10 service request types in terms of average days late?\n"
   ]
  },
  {
   "cell_type": "code",
   "execution_count": 59,
   "metadata": {},
   "outputs": [
    {
     "name": "stdout",
     "output_type": "stream",
     "text": [
      "+--------------------------------------+------------------+\n",
      "|service_request_type                  |avg(num_days_late)|\n",
      "+--------------------------------------+------------------+\n",
      "|Zoning: Recycle Yard                  |210.89201994318182|\n",
      "|Zoning: Junk Yards                    |200.20517608494276|\n",
      "|Structure/Housing Maintenance         |190.20707698509807|\n",
      "|Donation Container Enforcement        |171.09115313942615|\n",
      "|Storage of Used Mattress              |163.96812829714287|\n",
      "|Labeling for Used Mattress            |162.43032902285717|\n",
      "|Record Keeping of Used Mattresses     |153.99724039428568|\n",
      "|Signage Requied for Sale of Used Mattr|151.63868055333333|\n",
      "|Traffic Signal Graffiti               |137.64583330000002|\n",
      "|License Requied Used Mattress Sales   |128.79828704142858|\n",
      "+--------------------------------------+------------------+\n",
      "only showing top 10 rows\n",
      "\n"
     ]
    }
   ],
   "source": [
    "(\n",
    "    (case.where(case.case_late == 'YES').groupby('service_request_type')\n",
    "     .agg(mean('num_days_late')))\n",
    "    .orderBy(desc(col('avg(num_days_late)')))\n",
    "    .show(10, truncate = False)\n",
    ")"
   ]
  },
  {
   "cell_type": "markdown",
   "metadata": {},
   "source": [
    "Question 11: Does number of days late depend on department?\n"
   ]
  },
  {
   "cell_type": "code",
   "execution_count": 61,
   "metadata": {},
   "outputs": [
    {
     "name": "stdout",
     "output_type": "stream",
     "text": [
      "+------------------------+------------------+\n",
      "|department              |avg(num_days_late)|\n",
      "+------------------------+------------------+\n",
      "|Customer Service        |87.68385942150394 |\n",
      "|DSD/Code Enforcement    |49.38428705358908 |\n",
      "|Animal Care Services    |23.458633245820124|\n",
      "|Parks & Recreation      |22.348910457867518|\n",
      "|Trans & Cap Improvements|10.603064680316946|\n",
      "|Solid Waste             |7.186821906120899 |\n",
      "|Metro Health            |6.5438133155476494|\n",
      "+------------------------+------------------+\n",
      "\n"
     ]
    }
   ],
   "source": [
    "(\n",
    "    (case.where(case.case_late == 'YES').groupby('department')\n",
    "     .agg(mean('num_days_late')))\n",
    "    .orderBy(desc(col('avg(num_days_late)')))\n",
    "    .show(10, truncate = False)\n",
    ")"
   ]
  },
  {
   "cell_type": "markdown",
   "metadata": {},
   "source": [
    "Based on the different departments have a large range of average number of days late. I think we can conclude the number of days late can depend on the department"
   ]
  },
  {
   "cell_type": "markdown",
   "metadata": {},
   "source": [
    "Question 12: How do number of days late depend on department and request type?\n"
   ]
  },
  {
   "cell_type": "code",
   "execution_count": 66,
   "metadata": {},
   "outputs": [
    {
     "name": "stdout",
     "output_type": "stream",
     "text": [
      "+------------------------+-----------------------------------------------+-------------------+\n",
      "|department              |service_request_type                           |avg(num_days_late) |\n",
      "+------------------------+-----------------------------------------------+-------------------+\n",
      "|DSD/Code Enforcement    |Zoning: Recycle Yard                           |210.89201994318182 |\n",
      "|DSD/Code Enforcement    |Zoning: Junk Yards                             |200.20517608494276 |\n",
      "|DSD/Code Enforcement    |Structure/Housing Maintenance                  |190.20707698509807 |\n",
      "|DSD/Code Enforcement    |Donation Container Enforcement                 |171.09115313942615 |\n",
      "|DSD/Code Enforcement    |Storage of Used Mattress                       |163.96812829714287 |\n",
      "|DSD/Code Enforcement    |Labeling for Used Mattress                     |162.43032902285717 |\n",
      "|DSD/Code Enforcement    |Record Keeping of Used Mattresses              |153.99724039428568 |\n",
      "|DSD/Code Enforcement    |Signage Requied for Sale of Used Mattr         |151.63868055333333 |\n",
      "|Trans & Cap Improvements|Traffic Signal Graffiti                        |137.64583330000002 |\n",
      "|DSD/Code Enforcement    |License Requied Used Mattress Sales            |128.79828704142858 |\n",
      "|DSD/Code Enforcement    |Curbstoning                                    |120.39566479917886 |\n",
      "|DSD/Code Enforcement    |Vendors                                        |117.72551367776335 |\n",
      "|DSD/Code Enforcement    |CPS Energy Wood Poles                          |115.18708329999998 |\n",
      "|DSD/Code Enforcement    |Graffiti: Private Property (Corridors)         |114.09439580800002 |\n",
      "|DSD/Code Enforcement    |Used Mattress Inspection                       |108.14074724718749 |\n",
      "|DSD/Code Enforcement    |DSDB Ordered/Hold Harmless/Regular: Main       |94.9029600898138   |\n",
      "|DSD/Code Enforcement    |DSDB Ordered/Hold Harmless/Regular-ALL         |90.60137650743478  |\n",
      "|DSD/Code Enforcement    |DSDB Ordered/Hold Harmless/Regular: ASEC       |88.67873591760812  |\n",
      "|Customer Service        |Complaint                                      |87.74197415340986  |\n",
      "|DSD/Code Enforcement    |Zoning: Setbacks                               |86.72783777095414  |\n",
      "|DSD/Code Enforcement    |Dart Preliminary Inspection                    |85.06190586980954  |\n",
      "|DSD/Code Enforcement    |Vacant Lot: Over 12\"\"                          |82.08825231        |\n",
      "|DSD/Code Enforcement    |Permits Building                               |81.08045565537573  |\n",
      "|DSD/Code Enforcement    |Street Light New Development                   |80.91673396907407  |\n",
      "|DSD/Code Enforcement    |No Address Posted                              |79.4926581827068   |\n",
      "|DSD/Code Enforcement    |Low Hanging Limbs on Streets/Sidewalk          |78.07437152269999  |\n",
      "|Customer Service        |Compliment                                     |78.00775655916665  |\n",
      "|DSD/Code Enforcement    |Certificates of Occupancy                      |77.62671183098276  |\n",
      "|Parks & Recreation      |Amenity Park Improvement                       |76.87018194568     |\n",
      "|DSD/Code Enforcement    |Wasting Water (Leaks)                          |76.3554676         |\n",
      "|Trans & Cap Improvements|Status: On-Going CIMS Projects                 |76.07892152387127  |\n",
      "|Parks & Recreation      |Major Park Improvement Install                 |75.79450367282354  |\n",
      "|DSD/Code Enforcement    |Dumpsters: Maintenance/Sanitation              |74.15533508843903  |\n",
      "|DSD/Code Enforcement    |\"Vacant Lot-State (12\"\")\"                      |72.08425347        |\n",
      "|DSD/Code Enforcement    |Zoning: District Requirement                   |70.6059230737488   |\n",
      "|Animal Care Services    |Public Nuisance(Own Animal)                    |70.59049373844732  |\n",
      "|DSD/Code Enforcement    |Bandit Signs                                   |70.56175559550488  |\n",
      "|Animal Care Services    |Animal Permits Request                         |70.55085006261557  |\n",
      "|DSD/Code Enforcement    |Used/Scrap Tire Facility Periodic Inspection   |69.78109578045945  |\n",
      "|DSD/Code Enforcement    |Discharge Into Pub. Waters/St                  |69.25717593        |\n",
      "|DSD/Code Enforcement    |Improper Storage of Tires/At Facility          |69.2234382194375   |\n",
      "|DSD/Code Enforcement    |Zoning: Outside Storage                        |68.61202789542104  |\n",
      "|DSD/Code Enforcement    |Street Light Existing Res Sub Div              |66.85450799247805  |\n",
      "|DSD/Code Enforcement    |Zoning: Multi-Family In Single                 |66.80722948439215  |\n",
      "|Parks & Recreation      |Reservation Assistance                         |66.03116319        |\n",
      "|DSD/Code Enforcement    |Zoning Business in Resident Area               |63.99158564644248  |\n",
      "|Trans & Cap Improvements|Markings Installation SMO (NEW)                |62.24574940750001  |\n",
      "|Solid Waste             |Contracted Service Issues                      |62.05046402263636  |\n",
      "|DSD/Code Enforcement    |Water No Services                              |59.51258018821428  |\n",
      "|Parks & Recreation      |Park Building Maint Invest                     |59.367469802695666 |\n",
      "|DSD/Code Enforcement    |Minimum Housing-Owner Occupied                 |57.92188852771554  |\n",
      "|DSD/Code Enforcement    |Boarding Home Inspection                       |57.8440027366      |\n",
      "|DSD/Code Enforcement    |Graffiti-Private Property                      |56.977743062833326 |\n",
      "|DSD/Code Enforcement    |Historical Building (No Permits)               |56.75463107125     |\n",
      "|DSD/Code Enforcement    |Dang Premises/Secure Only                      |55.727010269       |\n",
      "|DSD/Code Enforcement    |Zoning: Visual Obstruction                     |55.5964300737907   |\n",
      "|DSD/Code Enforcement    |Junk Vehicle On Private Property               |53.62683109281785  |\n",
      "|DSD/Code Enforcement    |Graffiti: Vacant (Commercial)                  |52.594780093333334 |\n",
      "|DSD/Code Enforcement    |Junk Vehicle - Wrecked or Dismantled           |52.08946448717074  |\n",
      "|Parks & Recreation      |Sportfield Lighting                            |51.480049793645534 |\n",
      "|DSD/Code Enforcement    |Zoning: Mobile Homes                           |49.1692772004      |\n",
      "|DSD/Code Enforcement    |Minimum Housing-Tenant Occupied                |48.435228679442105 |\n",
      "|DSD/Code Enforcement    |Overgrown Yard/Trash                           |44.856317751084305 |\n",
      "|Metro Health            |Sanitary Conditions                            |44.374958048124995 |\n",
      "|DSD/Code Enforcement    |Used/Scrap Tire Facility License Pending       |43.90779250713637  |\n",
      "|DSD/Code Enforcement    |Brush Violations                               |43.87700744751887  |\n",
      "|Parks & Recreation      |Electrical                                     |42.951971658345116 |\n",
      "|DSD/Code Enforcement    |Permits, Fences                                |42.726547859582084 |\n",
      "|DSD/Code Enforcement    |Zoning: Illumination                           |41.7705833328      |\n",
      "|DSD/Code Enforcement    |Whole Scrap Tires Not Marked                   |41.5605555626      |\n",
      "|DSD/Code Enforcement    |Emergency: Main and Accessory Structures       |41.48484592187501  |\n",
      "|DSD/Code Enforcement    |Dang. Premises/CL/SEC                          |41.254598450653056 |\n",
      "|Trans & Cap Improvements|Guardrail- New Request                         |41.06460648        |\n",
      "|Parks & Recreation      |Tree Removal                                   |40.28404224560715  |\n",
      "|DSD/Code Enforcement    |Alley-Way Maintenance                          |40.14392301190415  |\n",
      "|DSD/Code Enforcement    |\"Vacant Lot-City (12\"\")\"                       |39.764264469850005 |\n",
      "|DSD/Code Enforcement    |Lot-Private (1000)                             |38.881535014187506 |\n",
      "|Parks & Recreation      |Landscape Maintenance                          |38.86797941326316  |\n",
      "|Parks & Recreation      |Heavy Equipment                                |38.56625730831579  |\n",
      "|DSD/Code Enforcement    |\"Vacant Lot-Private (12\"\")\"                    |38.179924606329614 |\n",
      "|Solid Waste             |Service Information                            |38.177857316864    |\n",
      "|DSD/Code Enforcement    |\"Vacant Lot-County (12\"\")\"                     |37.700333331799996 |\n",
      "|DSD/Code Enforcement    |Pooled Water (Mosquito Breed)                  |37.3747825685      |\n",
      "|Trans & Cap Improvements|Base/Pavement Repair                           |36.89760411902891  |\n",
      "|DSD/Code Enforcement    |Sewer Line Broken                              |34.0461307881      |\n",
      "|DSD/Code Enforcement    |Vacant Lot: Within 1000 School/Day Care        |34.00880787        |\n",
      "|Parks & Recreation      |Miscellaneous Park Equipment                   |33.62472491253488  |\n",
      "|DSD/Code Enforcement    |Dead Trees: Private Property                   |32.421906130551726 |\n",
      "|DSD/Code Enforcement    |Vacant House Overgrown Yard                    |32.367429918625    |\n",
      "|DSD/Code Enforcement    |Vacant Lot/Overgrown/Trash                     |32.231400044325795 |\n",
      "|DSD/Code Enforcement    |\"Vacant Lot-City (48\"\")\"                       |30.868318865       |\n",
      "|Parks & Recreation      |Tree Trimming/Maintenance                      |30.702768979017545 |\n",
      "|Trans & Cap Improvements|Speed Hump Repairs - Emergency                 |30.560072323307324 |\n",
      "|DSD/Code Enforcement    |Improper Rec Keeping-Used/Scrap Tire Fac       |30.445810184857145 |\n",
      "|Animal Care Services    |Aggressive Animal(Non-Critical)                |30.077902423477003 |\n",
      "|Animal Care Services    |Animal Neglect                                 |29.870833535986    |\n",
      "|DSD/Code Enforcement    |Swim. Pool Inspect: Residential                |29.532866510666665 |\n",
      "|DSD/Code Enforcement    |Dang Premises/Cut/Clean Only                   |29.162591701153847 |\n",
      "|Solid Waste             |Organics Info / Literature Request             |28.924804929364736 |\n",
      "|Parks & Recreation      |General Building Maintenance                   |28.192905974561906 |\n",
      "|Parks & Recreation      |Masonry                                        |27.989420392890622 |\n",
      "|DSD/Code Enforcement    |Zoning: Oversized Vehicles                     |27.572057543157552 |\n",
      "|Trans & Cap Improvements|Garbage PU Alley Maintenance                   |27.382440475428574 |\n",
      "|Solid Waste             |Solid Waste Fees and Charges                   |26.15629165784158  |\n",
      "|DSD/Code Enforcement    |Graffiti: Sidewalk                             |26.113246188411768 |\n",
      "|Parks & Recreation      |Painting                                       |25.404551756282608 |\n",
      "|Trans & Cap Improvements|Water Ponding or Standing                      |25.277715568968752 |\n",
      "|DSD/Code Enforcement    |Graffiti: Building                             |24.681820444538207 |\n",
      "|DSD/Code Enforcement    |\"Vacant Lot-County (48\"\")\"                     |24.03947917        |\n",
      "|DSD/Code Enforcement    |Graffiti: Traffic Control Box                  |23.82376133304166  |\n",
      "|Trans & Cap Improvements|All-Way Stop Study                             |23.376437389285712 |\n",
      "|DSD/Code Enforcement    |\"Vacant Lot-Private (48\"\")\"                    |22.796820783842108 |\n",
      "|Trans & Cap Improvements|Speed Hump Repairs                             |22.692905702842104 |\n",
      "|DSD/Code Enforcement    |Emergency: Main Structure Only                 |22.410301888583334 |\n",
      "|Parks & Recreation      |Sign Maintenance                               |22.281778663588234 |\n",
      "|DSD/Code Enforcement    |Emergency: Accessory Structure Only            |21.566118056200004 |\n",
      "|Animal Care Services    |Aggressive Animal(Critical)                    |21.462057182311593 |\n",
      "|DSD/Code Enforcement    |Graffiti: Fence                                |20.530925926118538 |\n",
      "|Parks & Recreation      |Fence/Gate Repair                              |20.366796601056603 |\n",
      "|DSD/Code Enforcement    |Basketball Goals on R.O.W.                     |20.006472470022135 |\n",
      "|DSD/Code Enforcement    |Graffiti: Drainage Channel                     |19.973799108607476 |\n",
      "|Trans & Cap Improvements|Manhole Sunken/Raised                          |19.8322314816      |\n",
      "|DSD/Code Enforcement    |Multi Tenant Interior                          |19.756423615       |\n",
      "|Parks & Recreation      |Small Equipment Repair                         |19.644149305       |\n",
      "|Parks & Recreation      |Pools                                          |19.489430630709677 |\n",
      "|Trans & Cap Improvements|Pavement Marking Changes                       |19.4890347226      |\n",
      "|DSD/Code Enforcement    |Graffiti: Retaining Wall                       |19.309266321564973 |\n",
      "|Solid Waste             |Recycling - No Pick Up                         |19.119742548439024 |\n",
      "|DSD/Code Enforcement    |Garage Sales No Permit                         |19.038531043130426 |\n",
      "|Trans & Cap Improvements|Traffic Signal Ops and Maintenance             |18.775019013714285 |\n",
      "|Parks & Recreation      |Plumbing                                       |18.621826175298462 |\n",
      "|Solid Waste             |Disability Service Requested                   |18.56621077140487  |\n",
      "|Parks & Recreation      |Plumbing/Drinking Fountain/Sprinklers          |18.18076193409091  |\n",
      "|Parks & Recreation      |Irrigation                                     |17.58814428966667  |\n",
      "|Trans & Cap Improvements|Sign Fabrication - Internal                    |17.046521991166667 |\n",
      "|Trans & Cap Improvements|Shoulder Repair                                |16.943385416666665 |\n",
      "|Trans & Cap Improvements|Speed Hump Request                             |16.777002313       |\n",
      "|Solid Waste             |Storm Damage                                   |16.571383376666663 |\n",
      "|DSD/Code Enforcement    |Solid Waste Insp: Dead Animals                 |16.525377937384615 |\n",
      "|Solid Waste             |Cart Placement                                 |16.388442418530534 |\n",
      "|DSD/Code Enforcement    |Graffiti: Curb                                 |16.156891533       |\n",
      "|Trans & Cap Improvements|Traffic Signal New Request                     |16.078495370615382 |\n",
      "|DSD/Code Enforcement    |Right Of Way/Sidewalk Obstruction              |16.005284315730805 |\n",
      "|Parks & Recreation      |Fencing                                        |15.664453468033898 |\n",
      "|DSD/Code Enforcement    |Graffiti Public Property                       |15.65655824561081  |\n",
      "|Trans & Cap Improvements|School Flashers- New request                   |15.4444212945      |\n",
      "|Parks & Recreation      |Heating and Air Conditioning                   |15.376614913757145 |\n",
      "|Parks & Recreation      |Signs                                          |15.306444405203388 |\n",
      "|Trans & Cap Improvements|Sidewalk Cost Sharing Program                  |14.628967014499999 |\n",
      "|Solid Waste             |Organics No Pickup                             |14.507717912241379 |\n",
      "|DSD/Code Enforcement    |Front Or Side Yard Parking                     |14.157497425708751 |\n",
      "|Parks & Recreation      |Carpentry                                      |14.14768626942419  |\n",
      "|Metro Health            |Pests                                          |13.893718639596772 |\n",
      "|Parks & Recreation      |Trail/Greenway Maintenance                     |13.450237682142857 |\n",
      "|Solid Waste             |Automation Property Damage                     |13.395038678905982 |\n",
      "|Solid Waste             |Solid Waste - Miscellaneous                    |13.22888506561607  |\n",
      "|Parks & Recreation      |Outdoor Athletic Court/Field Maint             |13.078582820074073 |\n",
      "|Solid Waste             |Alley Problems                                 |12.985345507777776 |\n",
      "|Trans & Cap Improvements|Street/Drainage Problem Investigation          |12.697097802750001 |\n",
      "|Trans & Cap Improvements|Signal Timing Modification                     |12.487220568928572 |\n",
      "|Trans & Cap Improvements|Dead End/No Outlet Sign Request                |12.359953703555556 |\n",
      "|DSD/Code Enforcement    |Alley Address Required                         |11.8344213         |\n",
      "|DSD/Code Enforcement    |Vehicle Blocking                               |11.66791464491667  |\n",
      "|Parks & Recreation      |Pool Maintenance                               |10.8618798225      |\n",
      "|Trans & Cap Improvements|Curb or Sidewalk Investigation                 |10.384255813916663 |\n",
      "|DSD/Code Enforcement    |Dumpsters: City R.O.W.                         |10.185125553695652 |\n",
      "|Solid Waste             |Bulk Partial Pick Up                           |10.138635802000001 |\n",
      "|Metro Health            |Hygienic Practices                             |9.793239582614286  |\n",
      "|Solid Waste             |Request for Commercial Service                 |9.554595675417062  |\n",
      "|Solid Waste             |Bulk-non Compliance Notice                     |9.320306268307691  |\n",
      "|Parks & Recreation      |Darner Maintenance                             |9.310824074699998  |\n",
      "|Animal Care Services    |City Council Animal Request                    |9.256772641875     |\n",
      "|Metro Health            |Food Borne Illness                             |9.162449074        |\n",
      "|Trans & Cap Improvements|Sign - No Thru Truck - New Request             |9.084374999666666  |\n",
      "|Parks & Recreation      |Lake/Pond Maintenance                          |8.434912367428572  |\n",
      "|Solid Waste             |Scattered Material                             |8.229263671829166  |\n",
      "|Metro Health            |Public Right of Way                            |7.86384499683575   |\n",
      "|Solid Waste             |3rd Call Bagged Leaves with Fee                |7.757505787666666  |\n",
      "|Metro Health            |Food Source                                    |7.311149693333333  |\n",
      "|Trans & Cap Improvements|Driveways -Adjust                              |7.198996913666669  |\n",
      "|Solid Waste             |Brush-non Compliance Notice                    |7.194541377708333  |\n",
      "|Metro Health            |Public/Semi-Public Pools/Spas                  |7.1876980454999995 |\n",
      "|Trans & Cap Improvements|Parking Issue                                  |7.166368312555556  |\n",
      "|Trans & Cap Improvements|Initiating Unknown Project Investigation       |7.093672068293936  |\n",
      "|Trans & Cap Improvements|Pavers Broken/Missing                          |7.0871932865       |\n",
      "|DSD/Code Enforcement    |Fly Breeding and Animal Waste Disposal         |7.040374228666667  |\n",
      "|Trans & Cap Improvements|Speed Hump Set Missing                         |6.881233796000001  |\n",
      "|Parks & Recreation      |Brush/Debris Collection                        |6.36092223225532   |\n",
      "|Metro Health            |Food Contact Surfaces                          |6.12701930706383   |\n",
      "|Parks & Recreation      |Parks Mowing                                   |5.8807026145000005 |\n",
      "|Parks & Recreation      |Pressure Washing                               |5.632320601        |\n",
      "|Solid Waste             |1st Call Bagged Leaves                         |5.413281525556651  |\n",
      "|DSD/Code Enforcement    |Absentee Property Assessment-Posting           |5.291590277900001  |\n",
      "|Trans & Cap Improvements|Accident Problem Investigation                 |5.271858282555556  |\n",
      "|Parks & Recreation      |Welding                                        |5.261223279370369  |\n",
      "|Solid Waste             |Brush Missed Pick up                           |5.041803009269999  |\n",
      "|Animal Care Services    |Animal Bite(Non-Critical)                      |4.676201441082707  |\n",
      "|Solid Waste             |Bulk Missed Pick up                            |4.621264606154929  |\n",
      "|Trans & Cap Improvements|Traffic Issue Investigation                    |4.610674051952381  |\n",
      "|Metro Health            |Working without a License                      |4.593552000464285  |\n",
      "|Trans & Cap Improvements|Guard Rail/Guard Post Damage                   |4.557404665894736  |\n",
      "|Trans & Cap Improvements|Speed Limit Sign                               |4.530694444500001  |\n",
      "|Trans & Cap Improvements|School Sign New Request                        |4.5224971065       |\n",
      "|Metro Health            |Food Poisoning                                 |4.406485615357143  |\n",
      "|Solid Waste             |Brush Property Damage                          |4.362641461        |\n",
      "|Trans & Cap Improvements|Traffic Sign Graffiti                          |4.345709683116667  |\n",
      "|Solid Waste             |Brush Partial Pick Up                          |4.3417893524       |\n",
      "|Trans & Cap Improvements|Sign Installations SMO (NEW)                   |4.310457176000001  |\n",
      "|Solid Waste             |No Pickup                                      |4.169105870050456  |\n",
      "|DSD/Code Enforcement    |\"Vacant Lot-State (48\"\")\"                      |4.019363426        |\n",
      "|Trans & Cap Improvements|Stop Sign New Request                          |4.014822531333333  |\n",
      "|Solid Waste             |2nd Call Bagged Leaves                         |3.7028964119642858 |\n",
      "|Trans & Cap Improvements|On-Going PW Projects                           |3.6235379129459457 |\n",
      "|Parks & Recreation      |Portable Toilets                               |3.305633417772727  |\n",
      "|Parks & Recreation      |Graffiti                                       |3.3019126984761904 |\n",
      "|Solid Waste             |Dead Animal - Cat                              |3.2830354940666666 |\n",
      "|Solid Waste             |Cart Delivery                                  |3.2575642119413235 |\n",
      "|DSD/Code Enforcement    |Graffiti: Guardrail                            |3.235615079142857  |\n",
      "|Solid Waste             |Dead Animal - Dog                              |3.190950854653846  |\n",
      "|Metro Health            |License Renewal Invoice                        |3.0876621369770114 |\n",
      "|Trans & Cap Improvements|Traffic Sign Faded                             |2.958780737819672  |\n",
      "|DSD/Code Enforcement    |Wasting Water (General)                        |2.781689815        |\n",
      "|Parks & Recreation      |Outdoor Trash/Mutt Mitts                       |2.579570105857143  |\n",
      "|Parks & Recreation      |Graffiti Int                                   |2.5695044026823535 |\n",
      "|Trans & Cap Improvements|Traffic Sign Visual Obst.Vegetation/Stop/Yield |2.4553344135333335 |\n",
      "|Trans & Cap Improvements|Pavement Marking Investigation                 |2.452948097165138  |\n",
      "|Metro Health            |Ventilation                                    |2.4094675925000004 |\n",
      "|Solid Waste             |Illegal Dumping (Non- residential areas)       |2.3787967460143142 |\n",
      "|Parks & Recreation      |Indoor Janitorial Services                     |2.2758472222       |\n",
      "|Trans & Cap Improvements|Drainage Channel/Debris Removal                |2.266603905859155  |\n",
      "|Trans & Cap Improvements|Drainage Investigation                         |2.2089386575       |\n",
      "|Solid Waste             |Additional Garbage Container - with Fee        |2.201215927176847  |\n",
      "|Solid Waste             |Damaged Organics Cart                          |2.1622337959999998 |\n",
      "|Solid Waste             |Disability Assistance Missed Pickup            |2.0809026582469015 |\n",
      "|Solid Waste             |Dead Animal - Misc                             |2.047548926727273  |\n",
      "|Trans & Cap Improvements|Drainage Inlet Repair                          |2.0243297557272726 |\n",
      "|Solid Waste             |Brush / Bulky Miscellaneous                    |2.014284647596774  |\n",
      "|Trans & Cap Improvements|School Flashers Maintenance                    |1.9156693294509803 |\n",
      "|Solid Waste             |Organics Cart Removal                          |1.8836434220416667 |\n",
      "|Trans & Cap Improvements|Engineering Investigation                      |1.8333236883333335 |\n",
      "|Parks & Recreation      |Lake and Ponds Maintenance                     |1.828557961736842  |\n",
      "|Solid Waste             |Recycle Container removed from Service         |1.7752700613333332 |\n",
      "|Trans & Cap Improvements|Bicycle Lane/Route New Request                 |1.514811921375     |\n",
      "|Solid Waste             |Cart Exchange Request                          |1.465491120827561  |\n",
      "|Metro Health            |Smoking Ordinance                              |1.4509085645000002 |\n",
      "|Trans & Cap Improvements|Traffic Sign Missing/Down                      |1.414472970451178  |\n",
      "|Solid Waste             |Lost/Stolen Cart                               |1.376174091729216  |\n",
      "|Solid Waste             |Additional Cart Request                        |1.3122689462078523 |\n",
      "|Solid Waste             |Cart PickUp                                    |1.3095083568230022 |\n",
      "|Trans & Cap Improvements|Flashing Beacon New Request                    |1.296105324        |\n",
      "|Solid Waste             |Damaged Cart                                   |1.2446085672003353 |\n",
      "|Solid Waste             |Cart Pickup                                    |1.1996690930361447 |\n",
      "|Trans & Cap Improvements|Concrete Infrastructure Repair                 |1.1875862543809523 |\n",
      "|Trans & Cap Improvements|Street Sweeping                                |1.0950208333       |\n",
      "|Parks & Recreation      |Playground Maintenance                         |1.0692418982500003 |\n",
      "|Solid Waste             |Organics Property Damage                       |1.0628819440000001 |\n",
      "|Parks & Recreation      |Amenity Park Improvement Int                   |1.060590278        |\n",
      "|Trans & Cap Improvements|Traffic Signal Ops and Maintenance - Emergency |1.0227309554090909 |\n",
      "|Solid Waste             |Brush - Out of Cycle Collection - Fee Required |0.9906110230719426 |\n",
      "|Trans & Cap Improvements|Drainage Inlet - Cleaning/Foul Odor            |0.9565798609999999 |\n",
      "|Parks & Recreation      |Ballfields                                     |0.90739547153125   |\n",
      "|Trans & Cap Improvements|Drainage Channel Restoration                   |0.9034722222222222 |\n",
      "|Trans & Cap Improvements|Drainage Channel - Surface Investigation       |0.867649853736842  |\n",
      "|Solid Waste             |Recycling - Scattered Material                 |0.8492650465       |\n",
      "|Animal Care Services    |Trapped/Confined Animal                        |0.8454007340263343 |\n",
      "|Trans & Cap Improvements|Pot Hole Repair                                |0.8251838172705449 |\n",
      "|Solid Waste             |Organics Cart Delivery                         |0.8144566171724137 |\n",
      "|Trans & Cap Improvements|Stop/Yield Sign Down/Missing/Faded             |0.7630890656452705 |\n",
      "|Trans & Cap Improvements|Rebarb Sticking Out                            |0.7315625001250001 |\n",
      "|Trans & Cap Improvements|Removal Of Obstruction                         |0.7022110473793104 |\n",
      "|Parks & Recreation      |Playgrounds                                    |0.6938048941428572 |\n",
      "|Trans & Cap Improvements|Manhole or Inlet Cover Missing                 |0.6932763532307692 |\n",
      "|Solid Waste             |Garbage Out of Cycle Collection                |0.6451286007777779 |\n",
      "|Trans & Cap Improvements|Traffic Sign Visual Obst.Vegetation/Other Signs|0.642028034925926  |\n",
      "|Trans & Cap Improvements|Misc Sign - New Request                        |0.6401118828095237 |\n",
      "|Trans & Cap Improvements|Visual Obstruction Vegetation Signal           |0.6375057869999999 |\n",
      "|Trans & Cap Improvements|Drainage Channel - Emergency                   |0.47793518513333333|\n",
      "|Trans & Cap Improvements|Street Sweeping- Emergency                     |0.47217163925925926|\n",
      "|Trans & Cap Improvements|Vegetation- Visual Obstruction                 |0.46198881183333335|\n",
      "|Trans & Cap Improvements|Barricade                                      |0.443125000125     |\n",
      "|Trans & Cap Improvements|Tree- Visual Obstruction                       |0.4226412036999999 |\n",
      "|Solid Waste             |Cart removed from Service                      |0.33641435179999996|\n",
      "|Trans & Cap Improvements|Road Curvature/Visual Obstruction              |0.31084490724999997|\n",
      "|Trans & Cap Improvements|Street Debris                                  |0.2703611112       |\n",
      "|DSD/Code Enforcement    |Graffiti: Traffic Signal Pole                  |0.2381828705       |\n",
      "|Animal Care Services    |Animal Bite(Critical)                          |0.2025050064511628 |\n",
      "|Solid Waste             |Additional Organics Cart Request               |0.18775462966666667|\n",
      "|Animal Care Services    |Animal Cruelty(Critical)                       |0.17984613640979386|\n",
      "|Solid Waste             |Brush No Notice                                |0.1786574075       |\n",
      "|Solid Waste             |Lost / Stolen Organics Cart                    |0.16582754649999998|\n",
      "|Trans & Cap Improvements|Tree Fallen                                    |0.093370949125     |\n",
      "|Animal Care Services    |Officer Standby                                |0.07241548515625   |\n",
      "|Animal Care Services    |Injured Animal(Critical)                       |0.06019443241785097|\n",
      "|Trans & Cap Improvements|Herbicide - Grass in curb or street            |0.052407407        |\n",
      "+------------------------+-----------------------------------------------+-------------------+\n",
      "\n"
     ]
    }
   ],
   "source": [
    "(\n",
    "    (case.where(case.case_late == 'YES').groupby(['department', 'service_request_type'])\n",
    "     .agg(mean('num_days_late')))\n",
    "    .orderBy(desc(col('avg(num_days_late)')))\n",
    "    .show(case.count(), False)\n",
    ")\n",
    "\n"
   ]
  },
  {
   "cell_type": "markdown",
   "metadata": {},
   "source": [
    "For the department and request type I would conclude we would need to do some statistical testing of subgroups and used a two tailed t test to determine significance. There are lot of requests and similar request types "
   ]
  }
 ],
 "metadata": {
  "kernelspec": {
   "display_name": "Python 3",
   "language": "python",
   "name": "python3"
  },
  "language_info": {
   "codemirror_mode": {
    "name": "ipython",
    "version": 3
   },
   "file_extension": ".py",
   "mimetype": "text/x-python",
   "name": "python",
   "nbconvert_exporter": "python",
   "pygments_lexer": "ipython3",
   "version": "3.8.5"
  }
 },
 "nbformat": 4,
 "nbformat_minor": 4
}
