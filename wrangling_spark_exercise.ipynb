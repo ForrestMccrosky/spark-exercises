{
 "cells": [
  {
   "cell_type": "code",
   "execution_count": 1,
   "metadata": {},
   "outputs": [],
   "source": [
    "from pyspark.sql import SparkSession\n",
    "from pyspark.sql.functions import *\n",
    "\n",
    "spark = SparkSession.builder.getOrCreate()"
   ]
  },
  {
   "cell_type": "markdown",
   "metadata": {},
   "source": [
    "## Data Acquisition\n",
    "These exercises should go in a notebook or script named wrangle. Add, commit, and push your changes.\n",
    "\n",
    "This exercises uses the case.csv, dept.csv, and source.csv files from the san antonio 311 call dataset.\n",
    "\n",
    "* Read the case, department, and source data into their own spark dataframes."
   ]
  },
  {
   "cell_type": "code",
   "execution_count": 2,
   "metadata": {},
   "outputs": [],
   "source": [
    "# Read in CSV file \n",
    "source = (spark.read.csv(\"source.csv\",\n",
    "                     sep=\",\",\n",
    "                     header=True,\n",
    "                     inferSchema=True)\n",
    "     )"
   ]
  },
  {
   "cell_type": "code",
   "execution_count": 3,
   "metadata": {},
   "outputs": [],
   "source": [
    "# Read in CSV file \n",
    "case = (spark.read.csv(\"case.csv\",\n",
    "                     sep=\",\",\n",
    "                     header=True,\n",
    "                     inferSchema=True)\n",
    "     )"
   ]
  },
  {
   "cell_type": "code",
   "execution_count": 4,
   "metadata": {},
   "outputs": [],
   "source": [
    "# Read in CSV file \n",
    "dept = (spark.read.csv(\"dept.csv\",\n",
    "                     sep=\",\",\n",
    "                     header=True,\n",
    "                     inferSchema=True)\n",
    "     )"
   ]
  },
  {
   "cell_type": "code",
   "execution_count": 5,
   "metadata": {},
   "outputs": [
    {
     "name": "stdout",
     "output_type": "stream",
     "text": [
      "+---------+----------------+\n",
      "|source_id| source_username|\n",
      "+---------+----------------+\n",
      "|   100137|Merlene Blodgett|\n",
      "|   103582|     Carmen Cura|\n",
      "|   106463| Richard Sanchez|\n",
      "|   119403|  Betty De Hoyos|\n",
      "|   119555|  Socorro Quiara|\n",
      "+---------+----------------+\n",
      "only showing top 5 rows\n",
      "\n"
     ]
    }
   ],
   "source": [
    "source.show(5) ## <-- previewing source"
   ]
  },
  {
   "cell_type": "code",
   "execution_count": 6,
   "metadata": {},
   "outputs": [
    {
     "name": "stdout",
     "output_type": "stream",
     "text": [
      "-RECORD 0-----------------------------------------------------\n",
      " case_id              | 1014127332                            \n",
      " case_opened_date     | 1/1/18 0:42                           \n",
      " case_closed_date     | 1/1/18 12:29                          \n",
      " SLA_due_date         | 9/26/20 0:42                          \n",
      " case_late            | NO                                    \n",
      " num_days_late        | -998.5087616000001                    \n",
      " case_closed          | YES                                   \n",
      " dept_division        | Field Operations                      \n",
      " service_request_type | Stray Animal                          \n",
      " SLA_days             | 999.0                                 \n",
      " case_status          | Closed                                \n",
      " source_id            | svcCRMLS                              \n",
      " request_address      | 2315  EL PASO ST, San Antonio, 78207  \n",
      " council_district     | 5                                     \n",
      "-RECORD 1-----------------------------------------------------\n",
      " case_id              | 1014127333                            \n",
      " case_opened_date     | 1/1/18 0:46                           \n",
      " case_closed_date     | 1/3/18 8:11                           \n",
      " SLA_due_date         | 1/5/18 8:30                           \n",
      " case_late            | NO                                    \n",
      " num_days_late        | -2.0126041669999997                   \n",
      " case_closed          | YES                                   \n",
      " dept_division        | Storm Water                           \n",
      " service_request_type | Removal Of Obstruction                \n",
      " SLA_days             | 4.322222222                           \n",
      " case_status          | Closed                                \n",
      " source_id            | svcCRMSS                              \n",
      " request_address      | 2215  GOLIAD RD, San Antonio, 78223   \n",
      " council_district     | 3                                     \n",
      "-RECORD 2-----------------------------------------------------\n",
      " case_id              | 1014127334                            \n",
      " case_opened_date     | 1/1/18 0:48                           \n",
      " case_closed_date     | 1/2/18 7:57                           \n",
      " SLA_due_date         | 1/5/18 8:30                           \n",
      " case_late            | NO                                    \n",
      " num_days_late        | -3.022337963                          \n",
      " case_closed          | YES                                   \n",
      " dept_division        | Storm Water                           \n",
      " service_request_type | Removal Of Obstruction                \n",
      " SLA_days             | 4.320729167                           \n",
      " case_status          | Closed                                \n",
      " source_id            | svcCRMSS                              \n",
      " request_address      | 102  PALFREY ST W, San Antonio, 78223 \n",
      " council_district     | 3                                     \n",
      "only showing top 3 rows\n",
      "\n"
     ]
    }
   ],
   "source": [
    "case.show(3, False, True) ## <-- previewing case"
   ]
  },
  {
   "cell_type": "code",
   "execution_count": 7,
   "metadata": {},
   "outputs": [
    {
     "name": "stdout",
     "output_type": "stream",
     "text": [
      "+--------------------+--------------------+----------------------+-------------------+\n",
      "|       dept_division|           dept_name|standardized_dept_name|dept_subject_to_SLA|\n",
      "+--------------------+--------------------+----------------------+-------------------+\n",
      "|     311 Call Center|    Customer Service|      Customer Service|                YES|\n",
      "|               Brush|Solid Waste Manag...|           Solid Waste|                YES|\n",
      "|     Clean and Green|Parks and Recreation|    Parks & Recreation|                YES|\n",
      "|Clean and Green N...|Parks and Recreation|    Parks & Recreation|                YES|\n",
      "|    Code Enforcement|Code Enforcement ...|  DSD/Code Enforcement|                YES|\n",
      "+--------------------+--------------------+----------------------+-------------------+\n",
      "only showing top 5 rows\n",
      "\n"
     ]
    }
   ],
   "source": [
    "dept.show(5) ## <-- previewing departments"
   ]
  },
  {
   "cell_type": "markdown",
   "metadata": {},
   "source": [
    "Let's see how writing to the local disk works in spark:\n",
    "\n",
    "* Write the code necessary to store the source data in both csv and json format, store these as sources_csv and sources_json\n",
    "* Inspect your folder structure. What do you notice?"
   ]
  },
  {
   "cell_type": "code",
   "execution_count": 8,
   "metadata": {},
   "outputs": [],
   "source": [
    "## writing my Json files since I already downloaded the csv's from google classroom\n",
    "\n",
    "case.write.json('data/case_json', mode = 'overwrite') \n",
    "\n",
    "source.write.json('data/source_json', mode = 'overwrite')\n",
    "\n",
    "dept.write.json('data/dept_json', mode = 'overwrite')"
   ]
  },
  {
   "cell_type": "markdown",
   "metadata": {},
   "source": [
    "In my local computer spark-exercises folder I notice that this code has made three json files and organized them into a subfolder named 'data'"
   ]
  },
  {
   "cell_type": "markdown",
   "metadata": {},
   "source": [
    "Inspect the data in your dataframes. Are the data types appropriate? Write the code necessary to cast the values to the appropriate types."
   ]
  },
  {
   "cell_type": "code",
   "execution_count": 9,
   "metadata": {},
   "outputs": [
    {
     "data": {
      "text/plain": [
       "[('case_id', 'int'),\n",
       " ('case_opened_date', 'string'),\n",
       " ('case_closed_date', 'string'),\n",
       " ('SLA_due_date', 'string'),\n",
       " ('case_late', 'string'),\n",
       " ('num_days_late', 'double'),\n",
       " ('case_closed', 'string'),\n",
       " ('dept_division', 'string'),\n",
       " ('service_request_type', 'string'),\n",
       " ('SLA_days', 'double'),\n",
       " ('case_status', 'string'),\n",
       " ('source_id', 'string'),\n",
       " ('request_address', 'string'),\n",
       " ('council_district', 'int')]"
      ]
     },
     "execution_count": 9,
     "metadata": {},
     "output_type": "execute_result"
    }
   ],
   "source": [
    "## inspecting our spark dataframe date types using dtypes\n",
    "\n",
    "case.dtypes"
   ]
  },
  {
   "cell_type": "code",
   "execution_count": 10,
   "metadata": {},
   "outputs": [
    {
     "data": {
      "text/plain": [
       "[('dept_division', 'string'),\n",
       " ('dept_name', 'string'),\n",
       " ('standardized_dept_name', 'string'),\n",
       " ('dept_subject_to_SLA', 'string')]"
      ]
     },
     "execution_count": 10,
     "metadata": {},
     "output_type": "execute_result"
    }
   ],
   "source": [
    "dept.dtypes"
   ]
  },
  {
   "cell_type": "code",
   "execution_count": 11,
   "metadata": {},
   "outputs": [
    {
     "data": {
      "text/plain": [
       "[('source_id', 'string'), ('source_username', 'string')]"
      ]
     },
     "execution_count": 11,
     "metadata": {},
     "output_type": "execute_result"
    }
   ],
   "source": [
    "source.dtypes"
   ]
  },
  {
   "cell_type": "markdown",
   "metadata": {},
   "source": [
    "Things to do:\n",
    "\n",
    "Rename Columns:\n",
    "* 'SLA_due_date -> case_due_date\n",
    "\n",
    "Correct Data Types:\n",
    "* case_closed and case_late to boolean\n",
    "* council_district as a string\n",
    "* case_opened_date, case_closed_date and case_due_date to datetime format\n",
    "\n",
    "Data Transformation:\n",
    "* request_address: trim and lowercase\n",
    "* format council district with leading zeros\n",
    "* convert the number of days a case is late to a number of weeks\n",
    "\n",
    "New features:\n",
    "* zip_code : extract from address\n",
    "* case_age\n",
    "* days_to_closed\n",
    "* case_lifetime\n",
    "\n",
    "Join cases data with department data:"
   ]
  },
  {
   "cell_type": "markdown",
   "metadata": {},
   "source": [
    "Rename The Columns:"
   ]
  },
  {
   "cell_type": "code",
   "execution_count": 12,
   "metadata": {},
   "outputs": [],
   "source": [
    "# Rename 'SLA_due_date' to 'case_due_date' using .withColumnRenamed\n",
    "\n",
    "case = case.withColumnRenamed('SLA_due_date', 'case_due_date')"
   ]
  },
  {
   "cell_type": "code",
   "execution_count": 13,
   "metadata": {},
   "outputs": [
    {
     "name": "stdout",
     "output_type": "stream",
     "text": [
      "-RECORD 0----------------------------------------------------\n",
      " case_id              | 1014127332                           \n",
      " case_opened_date     | 1/1/18 0:42                          \n",
      " case_closed_date     | 1/1/18 12:29                         \n",
      " case_due_date        | 9/26/20 0:42                         \n",
      " case_late            | NO                                   \n",
      " num_days_late        | -998.5087616000001                   \n",
      " case_closed          | YES                                  \n",
      " dept_division        | Field Operations                     \n",
      " service_request_type | Stray Animal                         \n",
      " SLA_days             | 999.0                                \n",
      " case_status          | Closed                               \n",
      " source_id            | svcCRMLS                             \n",
      " request_address      | 2315  EL PASO ST, San Antonio, 78207 \n",
      " council_district     | 5                                    \n",
      "only showing top 1 row\n",
      "\n"
     ]
    }
   ],
   "source": [
    "case.show(1, truncate = False, vertical = True)"
   ]
  },
  {
   "cell_type": "markdown",
   "metadata": {},
   "source": [
    "Correct Data Types:"
   ]
  },
  {
   "cell_type": "code",
   "execution_count": 14,
   "metadata": {},
   "outputs": [
    {
     "name": "stdout",
     "output_type": "stream",
     "text": [
      "+-----------+---------+\n",
      "|case_closed|case_late|\n",
      "+-----------+---------+\n",
      "|        YES|       NO|\n",
      "|        YES|       NO|\n",
      "|        YES|       NO|\n",
      "|        YES|       NO|\n",
      "|        YES|      YES|\n",
      "+-----------+---------+\n",
      "only showing top 5 rows\n",
      "\n"
     ]
    }
   ],
   "source": [
    "# correct data types: case_closed and case_late to boolean\n",
    "\n",
    "case.select(\"case_closed\", \"case_late\").show(5)"
   ]
  },
  {
   "cell_type": "code",
   "execution_count": 15,
   "metadata": {},
   "outputs": [],
   "source": [
    "# use .withColumn to change columns from string to boolean values\n",
    "\n",
    "case = case.withColumn('case_closed', expr('case_closed == \"YES\"'))\\\n",
    ".withColumn('case_late', expr('case_late == \"YES\"'))"
   ]
  },
  {
   "cell_type": "code",
   "execution_count": 16,
   "metadata": {},
   "outputs": [
    {
     "name": "stdout",
     "output_type": "stream",
     "text": [
      "+-----------+---------+\n",
      "|case_closed|case_late|\n",
      "+-----------+---------+\n",
      "|       true|    false|\n",
      "|       true|    false|\n",
      "|       true|    false|\n",
      "|       true|    false|\n",
      "|       true|     true|\n",
      "+-----------+---------+\n",
      "only showing top 5 rows\n",
      "\n"
     ]
    }
   ],
   "source": [
    "case.select(\"case_closed\", \"case_late\").show(5)"
   ]
  },
  {
   "cell_type": "code",
   "execution_count": 17,
   "metadata": {},
   "outputs": [
    {
     "name": "stdout",
     "output_type": "stream",
     "text": [
      "+----------------+\n",
      "|council_district|\n",
      "+----------------+\n",
      "|               5|\n",
      "|               3|\n",
      "|               3|\n",
      "|               3|\n",
      "+----------------+\n",
      "only showing top 4 rows\n",
      "\n"
     ]
    }
   ],
   "source": [
    "# council_district cast as string\n",
    "case.select('council_district').show(4)"
   ]
  },
  {
   "cell_type": "code",
   "execution_count": 18,
   "metadata": {},
   "outputs": [],
   "source": [
    "# council_district as a string instead of int\n",
    "case = case.withColumn('council_district', col('council_district').cast('string'))"
   ]
  },
  {
   "cell_type": "code",
   "execution_count": 19,
   "metadata": {},
   "outputs": [
    {
     "name": "stdout",
     "output_type": "stream",
     "text": [
      "+----------------+\n",
      "|council_district|\n",
      "+----------------+\n",
      "|               5|\n",
      "|               3|\n",
      "|               3|\n",
      "|               3|\n",
      "+----------------+\n",
      "only showing top 4 rows\n",
      "\n"
     ]
    }
   ],
   "source": [
    "# view the column\n",
    "\n",
    "case.select('council_district').show(4)"
   ]
  },
  {
   "cell_type": "code",
   "execution_count": 20,
   "metadata": {},
   "outputs": [
    {
     "data": {
      "text/plain": [
       "[('case_id', 'int'),\n",
       " ('case_opened_date', 'string'),\n",
       " ('case_closed_date', 'string'),\n",
       " ('case_due_date', 'string'),\n",
       " ('case_late', 'boolean'),\n",
       " ('num_days_late', 'double'),\n",
       " ('case_closed', 'boolean'),\n",
       " ('dept_division', 'string'),\n",
       " ('service_request_type', 'string'),\n",
       " ('SLA_days', 'double'),\n",
       " ('case_status', 'string'),\n",
       " ('source_id', 'string'),\n",
       " ('request_address', 'string'),\n",
       " ('council_district', 'string')]"
      ]
     },
     "execution_count": 20,
     "metadata": {},
     "output_type": "execute_result"
    }
   ],
   "source": [
    "# check datatypes\n",
    "case.dtypes"
   ]
  },
  {
   "cell_type": "code",
   "execution_count": 21,
   "metadata": {},
   "outputs": [
    {
     "name": "stdout",
     "output_type": "stream",
     "text": [
      "+----------------+----------------+-------------+\n",
      "|case_opened_date|case_closed_date|case_due_date|\n",
      "+----------------+----------------+-------------+\n",
      "|     1/1/18 0:42|    1/1/18 12:29| 9/26/20 0:42|\n",
      "|     1/1/18 0:46|     1/3/18 8:11|  1/5/18 8:30|\n",
      "|     1/1/18 0:48|     1/2/18 7:57|  1/5/18 8:30|\n",
      "|     1/1/18 1:29|     1/2/18 8:13| 1/17/18 8:30|\n",
      "|     1/1/18 1:34|    1/1/18 13:29|  1/1/18 4:34|\n",
      "+----------------+----------------+-------------+\n",
      "only showing top 5 rows\n",
      "\n"
     ]
    }
   ],
   "source": [
    "# convert case_opened_date, case_closed_date and case_due_date to datetime format\n",
    "\n",
    "case.select('case_opened_date', 'case_closed_date', 'case_due_date').show(5)"
   ]
  },
  {
   "cell_type": "code",
   "execution_count": 22,
   "metadata": {},
   "outputs": [],
   "source": [
    "# to_timestamp, fmt\n",
    "\n",
    "fmt = \"M/d/yy H:mm\"\n",
    "\n",
    "case = case.withColumn('case_opened_date', to_timestamp('case_opened_date', fmt))\\\n",
    ".withColumn('case_closed_date', to_timestamp('case_closed_date', fmt))\\\n",
    ".withColumn('case_due_date', to_timestamp('case_due_date', fmt))"
   ]
  },
  {
   "cell_type": "code",
   "execution_count": 23,
   "metadata": {},
   "outputs": [
    {
     "name": "stdout",
     "output_type": "stream",
     "text": [
      "+-------------------+-------------------+-------------------+\n",
      "|   case_opened_date|   case_closed_date|      case_due_date|\n",
      "+-------------------+-------------------+-------------------+\n",
      "|2018-01-01 00:42:00|2018-01-01 12:29:00|2020-09-26 00:42:00|\n",
      "|2018-01-01 00:46:00|2018-01-03 08:11:00|2018-01-05 08:30:00|\n",
      "|2018-01-01 00:48:00|2018-01-02 07:57:00|2018-01-05 08:30:00|\n",
      "|2018-01-01 01:29:00|2018-01-02 08:13:00|2018-01-17 08:30:00|\n",
      "|2018-01-01 01:34:00|2018-01-01 13:29:00|2018-01-01 04:34:00|\n",
      "+-------------------+-------------------+-------------------+\n",
      "only showing top 5 rows\n",
      "\n"
     ]
    }
   ],
   "source": [
    "# check the three columns again\n",
    "\n",
    "case.select('case_opened_date', 'case_closed_date', 'case_due_date').show(5)"
   ]
  },
  {
   "cell_type": "markdown",
   "metadata": {},
   "source": [
    "Data Transformation"
   ]
  },
  {
   "cell_type": "code",
   "execution_count": 24,
   "metadata": {},
   "outputs": [
    {
     "name": "stdout",
     "output_type": "stream",
     "text": [
      "+-------------------------------------+\n",
      "|request_address                      |\n",
      "+-------------------------------------+\n",
      "|2315  EL PASO ST, San Antonio, 78207 |\n",
      "|2215  GOLIAD RD, San Antonio, 78223  |\n",
      "|102  PALFREY ST W, San Antonio, 78223|\n",
      "|114  LA GARDE ST, San Antonio, 78223 |\n",
      "|734  CLEARVIEW DR, San Antonio, 78228|\n",
      "+-------------------------------------+\n",
      "only showing top 5 rows\n",
      "\n"
     ]
    }
   ],
   "source": [
    "# request_address: trim and lowercase\n",
    "\n",
    "case.select('request_address').show(5, False)"
   ]
  },
  {
   "cell_type": "code",
   "execution_count": 25,
   "metadata": {},
   "outputs": [
    {
     "name": "stdout",
     "output_type": "stream",
     "text": [
      "+-------------------------------------+\n",
      "|request_address                      |\n",
      "+-------------------------------------+\n",
      "|2315  el paso st, san antonio, 78207 |\n",
      "|2215  goliad rd, san antonio, 78223  |\n",
      "|102  palfrey st w, san antonio, 78223|\n",
      "|114  la garde st, san antonio, 78223 |\n",
      "|734  clearview dr, san antonio, 78228|\n",
      "+-------------------------------------+\n",
      "only showing top 5 rows\n",
      "\n"
     ]
    }
   ],
   "source": [
    "case = case.withColumn('request_address', trim(lower(case.request_address)))\n",
    "\n",
    "case.select('request_address').show(5, False)"
   ]
  },
  {
   "cell_type": "code",
   "execution_count": 26,
   "metadata": {},
   "outputs": [
    {
     "name": "stdout",
     "output_type": "stream",
     "text": [
      "+-------------------+--------------------+\n",
      "|      num_days_late|      num_weeks_late|\n",
      "+-------------------+--------------------+\n",
      "| -998.5087616000001|        -142.6441088|\n",
      "|-2.0126041669999997|-0.28751488099999994|\n",
      "|       -3.022337963|-0.43176256614285713|\n",
      "|       -15.01148148| -2.1444973542857144|\n",
      "|0.37216435200000003|         0.053166336|\n",
      "+-------------------+--------------------+\n",
      "only showing top 5 rows\n",
      "\n"
     ]
    }
   ],
   "source": [
    "# convert the number of days a case is late to a number of weeks\n",
    "\n",
    "case = case.withColumn('num_weeks_late', expr('num_days_late/7'))\n",
    "\n",
    "case.select(\"num_days_late\", \"num_weeks_late\").show(5)"
   ]
  },
  {
   "cell_type": "code",
   "execution_count": 27,
   "metadata": {},
   "outputs": [],
   "source": [
    "# use format_string function to pad zeros for council_district\n",
    "\n",
    "case = case.withColumn('council_district', format_string('%03d', col('council_district').cast('int')))"
   ]
  },
  {
   "cell_type": "code",
   "execution_count": 28,
   "metadata": {},
   "outputs": [
    {
     "name": "stdout",
     "output_type": "stream",
     "text": [
      "+----------------+\n",
      "|council_district|\n",
      "+----------------+\n",
      "|             005|\n",
      "|             003|\n",
      "|             003|\n",
      "|             003|\n",
      "|             007|\n",
      "+----------------+\n",
      "only showing top 5 rows\n",
      "\n"
     ]
    }
   ],
   "source": [
    "case.select('council_district').show(5)"
   ]
  },
  {
   "cell_type": "markdown",
   "metadata": {},
   "source": [
    "New Features: "
   ]
  },
  {
   "cell_type": "code",
   "execution_count": 29,
   "metadata": {},
   "outputs": [
    {
     "name": "stdout",
     "output_type": "stream",
     "text": [
      "+-------+\n",
      "|zipcode|\n",
      "+-------+\n",
      "|  78207|\n",
      "|  78223|\n",
      "|  78223|\n",
      "|  78223|\n",
      "|  78228|\n",
      "+-------+\n",
      "only showing top 5 rows\n",
      "\n"
     ]
    }
   ],
   "source": [
    "# create a new column for zipcode:\n",
    "\n",
    "case = case.withColumn('zipcode', regexp_extract('request_address', r\"(\\d+$)\", 1))\n",
    "\n",
    "case.select('zipcode').show(5)"
   ]
  },
  {
   "cell_type": "code",
   "execution_count": 30,
   "metadata": {},
   "outputs": [
    {
     "name": "stdout",
     "output_type": "stream",
     "text": [
      "-RECORD 0----------------------------------------------------\n",
      " case_id              | 1014127332                           \n",
      " case_opened_date     | 2018-01-01 00:42:00                  \n",
      " case_closed_date     | 2018-01-01 12:29:00                  \n",
      " case_due_date        | 2020-09-26 00:42:00                  \n",
      " case_late            | false                                \n",
      " num_days_late        | -998.5087616000001                   \n",
      " case_closed          | true                                 \n",
      " dept_division        | Field Operations                     \n",
      " service_request_type | Stray Animal                         \n",
      " SLA_days             | 999.0                                \n",
      " case_status          | Closed                               \n",
      " source_id            | svcCRMLS                             \n",
      " request_address      | 2315  el paso st, san antonio, 78207 \n",
      " council_district     | 005                                  \n",
      " num_weeks_late       | -142.6441088                         \n",
      " zipcode              | 78207                                \n",
      "only showing top 1 row\n",
      "\n"
     ]
    }
   ],
   "source": [
    "case.show(1, False, True)"
   ]
  },
  {
   "cell_type": "markdown",
   "metadata": {},
   "source": [
    "case_age: How old the case is; the difference in days between when the case was opened and the current day\n",
    "\n",
    "days_to_closed: The number of days between when the case was opened and when it was closed\n",
    "\n",
    "case_lifetime: Number of days between when the case was opened and when it was closed, if the case is still open, the number of days since the case was opened"
   ]
  },
  {
   "cell_type": "code",
   "execution_count": 31,
   "metadata": {},
   "outputs": [],
   "source": [
    "#create three new columns 'case_age', 'days_to_closed', 'case_lifetime'\n",
    "\n",
    "case = (\n",
    "    case.withColumn(\n",
    "        \"case_age\", datediff(current_timestamp(), \"case_opened_date\")\n",
    "    )\n",
    "    .withColumn(\n",
    "        \"days_to_closed\", datediff(\"case_closed_date\", \"case_opened_date\")\n",
    "    )\n",
    "    .withColumn(\n",
    "        \"case_lifetime\",\n",
    "        when(expr(\"! case_closed\"), col(\"case_age\")).otherwise(\n",
    "            col(\"days_to_closed\")\n",
    "        ),\n",
    "    )\n",
    ")"
   ]
  },
  {
   "cell_type": "code",
   "execution_count": 32,
   "metadata": {},
   "outputs": [
    {
     "name": "stdout",
     "output_type": "stream",
     "text": [
      "+-------------+\n",
      "|case_lifetime|\n",
      "+-------------+\n",
      "|            0|\n",
      "|            2|\n",
      "|            1|\n",
      "+-------------+\n",
      "only showing top 3 rows\n",
      "\n"
     ]
    }
   ],
   "source": [
    "case.select(expr('CASE WHEN case_closed == False THEN case_age ELSE days_to_closed END').alias('case_lifetime')).show(3)"
   ]
  },
  {
   "cell_type": "code",
   "execution_count": 33,
   "metadata": {},
   "outputs": [
    {
     "name": "stdout",
     "output_type": "stream",
     "text": [
      "-RECORD 0----------------------------------------------------\n",
      " case_id              | 1014127332                           \n",
      " case_opened_date     | 2018-01-01 00:42:00                  \n",
      " case_closed_date     | 2018-01-01 12:29:00                  \n",
      " case_due_date        | 2020-09-26 00:42:00                  \n",
      " case_late            | false                                \n",
      " num_days_late        | -998.5087616000001                   \n",
      " case_closed          | true                                 \n",
      " dept_division        | Field Operations                     \n",
      " service_request_type | Stray Animal                         \n",
      " SLA_days             | 999.0                                \n",
      " case_status          | Closed                               \n",
      " source_id            | svcCRMLS                             \n",
      " request_address      | 2315  el paso st, san antonio, 78207 \n",
      " council_district     | 005                                  \n",
      " num_weeks_late       | -142.6441088                         \n",
      " zipcode              | 78207                                \n",
      " case_age             | 1313                                 \n",
      " days_to_closed       | 0                                    \n",
      " case_lifetime        | 0                                    \n",
      "only showing top 1 row\n",
      "\n"
     ]
    }
   ],
   "source": [
    "case.show(1, False, True)"
   ]
  },
  {
   "cell_type": "markdown",
   "metadata": {},
   "source": [
    "Question 3: Before joining tables working with original case:\n",
    "* How many service requests that are assigned to the Field Operations department (dept_division) are not classified as \"Officer Standby\" request type (service_request_type)?"
   ]
  },
  {
   "cell_type": "markdown",
   "metadata": {},
   "source": [
    "Joining dept on case"
   ]
  },
  {
   "cell_type": "code",
   "execution_count": 34,
   "metadata": {},
   "outputs": [
    {
     "data": {
      "text/plain": [
       "113902"
      ]
     },
     "execution_count": 34,
     "metadata": {},
     "output_type": "execute_result"
    }
   ],
   "source": [
    "## using where to filter for filed operations department as well as \n",
    "## officer stanby requests and getting the answer with a count()\n",
    "\n",
    "(case.where(expr('dept_division == \"Field Operations\"'))\n",
    ".where(expr('service_request_type != \"Officer Standby\"'))).count()"
   ]
  },
  {
   "cell_type": "code",
   "execution_count": 35,
   "metadata": {},
   "outputs": [],
   "source": [
    "# join the df and dept dataframe using 'dept_division' as common key\n",
    "# drop columns as needed (keep standardized_dept_name)\n",
    "# convert dept_subject_to_SLA to boolean\n",
    "\n",
    "case = (\n",
    "    case\n",
    "    # left join on dept_division\n",
    "    .join(dept, \"dept_division\", \"left\")\n",
    "    # drop all the columns except for standardized name, as it has much fewer unique values\n",
    "    .drop(dept.dept_division)\n",
    "    .drop(dept.dept_name)\n",
    "    .drop(case.dept_division)\n",
    "    .withColumnRenamed(\"standardized_dept_name\", \"department\")\n",
    "    # convert to a boolean\n",
    "    .withColumn(\"dept_subject_to_SLA\", col(\"dept_subject_to_SLA\") == \"YES\")\n",
    ")"
   ]
  },
  {
   "cell_type": "code",
   "execution_count": 36,
   "metadata": {},
   "outputs": [
    {
     "name": "stdout",
     "output_type": "stream",
     "text": [
      "-RECORD 0----------------------------------------------------\n",
      " case_id              | 1014127332                           \n",
      " case_opened_date     | 2018-01-01 00:42:00                  \n",
      " case_closed_date     | 2018-01-01 12:29:00                  \n",
      " case_due_date        | 2020-09-26 00:42:00                  \n",
      " case_late            | false                                \n",
      " num_days_late        | -998.5087616000001                   \n",
      " case_closed          | true                                 \n",
      " service_request_type | Stray Animal                         \n",
      " SLA_days             | 999.0                                \n",
      " case_status          | Closed                               \n",
      " source_id            | svcCRMLS                             \n",
      " request_address      | 2315  el paso st, san antonio, 78207 \n",
      " council_district     | 005                                  \n",
      " num_weeks_late       | -142.6441088                         \n",
      " zipcode              | 78207                                \n",
      " case_age             | 1313                                 \n",
      " days_to_closed       | 0                                    \n",
      " case_lifetime        | 0                                    \n",
      " department           | Animal Care Services                 \n",
      " dept_subject_to_SLA  | true                                 \n",
      "only showing top 1 row\n",
      "\n"
     ]
    }
   ],
   "source": [
    "case.show(1, False, True) ## <-- previewing our new dataframe"
   ]
  },
  {
   "cell_type": "markdown",
   "metadata": {},
   "source": [
    "#### Exercise Questions"
   ]
  },
  {
   "cell_type": "markdown",
   "metadata": {},
   "source": [
    "Question 1: How old is the latest (in terms of days past SLA) currently open issue? How long has the oldest (in terms of days since opened) currently opened issue been open?"
   ]
  },
  {
   "cell_type": "code",
   "execution_count": 37,
   "metadata": {},
   "outputs": [
    {
     "name": "stdout",
     "output_type": "stream",
     "text": [
      "-RECORD 0--------------------------------------------------------\n",
      " case_id              | 1013896575                               \n",
      " case_opened_date     | 2017-09-22 08:27:00                      \n",
      " case_closed_date     | null                                     \n",
      " case_due_date        | 2021-08-11 08:30:00                      \n",
      " case_late            | false                                    \n",
      " num_days_late        | -1318.354167                             \n",
      " case_closed          | false                                    \n",
      " service_request_type | Signal Timing Modification By Engineer   \n",
      " SLA_days             | 1419.00191                               \n",
      " case_status          | Open                                     \n",
      " source_id            | CRM_Listener                             \n",
      " request_address      | 4200  harry wurzbach, san antonio, 78209 \n",
      " council_district     | 010                                      \n",
      " num_weeks_late       | -188.33630957142856                      \n",
      " zipcode              | 78209                                    \n",
      " case_age             | 1414                                     \n",
      " days_to_closed       | null                                     \n",
      " case_lifetime        | 1414                                     \n",
      " department           | Trans & Cap Improvements                 \n",
      " dept_subject_to_SLA  | true                                     \n",
      "only showing top 1 row\n",
      "\n"
     ]
    }
   ],
   "source": [
    "## using where to filter for open cases and ordering by longest SLA days in descending order\n",
    "\n",
    "case.where(case.case_status == 'Open').orderBy(desc(case.SLA_days)).show(1, False, True)"
   ]
  },
  {
   "cell_type": "markdown",
   "metadata": {},
   "source": [
    "Question 2: How many Stray Animal cases are there? "
   ]
  },
  {
   "cell_type": "code",
   "execution_count": 38,
   "metadata": {},
   "outputs": [
    {
     "data": {
      "text/plain": [
       "26760"
      ]
     },
     "execution_count": 38,
     "metadata": {},
     "output_type": "execute_result"
    }
   ],
   "source": [
    "## using where to filter for stray animal request types and counting them with count()\n",
    "\n",
    "case.where(case.service_request_type == 'Stray Animal').count()"
   ]
  },
  {
   "cell_type": "markdown",
   "metadata": {},
   "source": [
    "Question 3: How many service requests that are assigned to the Field Operations department\n",
    "* (dept_division) are not classified as \"Officer Standby\" request type\n",
    "* (service_request_type)?"
   ]
  },
  {
   "cell_type": "code",
   "execution_count": 39,
   "metadata": {},
   "outputs": [
    {
     "data": {
      "text/plain": [
       "0"
      ]
     },
     "execution_count": 39,
     "metadata": {},
     "output_type": "execute_result"
    }
   ],
   "source": [
    "## using where to filter for filed operations department as well as \n",
    "## officer stanby requests and getting the answer with a count()\n",
    "\n",
    "(case.where(expr('department == \"Field Operations\"'))\n",
    ".where(expr('service_request_type != \"Officer Standby\"'))).count()"
   ]
  },
  {
   "cell_type": "markdown",
   "metadata": {},
   "source": [
    "Question 4: Convert the council_district column to a string column"
   ]
  },
  {
   "cell_type": "code",
   "execution_count": 40,
   "metadata": {},
   "outputs": [
    {
     "data": {
      "text/plain": [
       "[('case_id', 'int'),\n",
       " ('case_opened_date', 'timestamp'),\n",
       " ('case_closed_date', 'timestamp'),\n",
       " ('case_due_date', 'timestamp'),\n",
       " ('case_late', 'boolean'),\n",
       " ('num_days_late', 'double'),\n",
       " ('case_closed', 'boolean'),\n",
       " ('service_request_type', 'string'),\n",
       " ('SLA_days', 'double'),\n",
       " ('case_status', 'string'),\n",
       " ('source_id', 'string'),\n",
       " ('request_address', 'string'),\n",
       " ('council_district', 'string'),\n",
       " ('num_weeks_late', 'double'),\n",
       " ('zipcode', 'string'),\n",
       " ('case_age', 'int'),\n",
       " ('days_to_closed', 'int'),\n",
       " ('case_lifetime', 'int'),\n",
       " ('department', 'string'),\n",
       " ('dept_subject_to_SLA', 'boolean')]"
      ]
     },
     "execution_count": 40,
     "metadata": {},
     "output_type": "execute_result"
    }
   ],
   "source": [
    "case.dtypes ## this was already done preparing the dataframe for the exercise"
   ]
  },
  {
   "cell_type": "markdown",
   "metadata": {},
   "source": [
    "Question 5: Extract the year from the case_closed_date column."
   ]
  },
  {
   "cell_type": "code",
   "execution_count": 41,
   "metadata": {},
   "outputs": [
    {
     "name": "stdout",
     "output_type": "stream",
     "text": [
      "-RECORD 0----------------------------------------------------\n",
      " case_id              | 1014127332                           \n",
      " case_opened_date     | 2018-01-01 00:42:00                  \n",
      " case_closed_date     | 2018-01-01 12:29:00                  \n",
      " case_due_date        | 2020-09-26 00:42:00                  \n",
      " case_late            | false                                \n",
      " num_days_late        | -998.5087616000001                   \n",
      " case_closed          | true                                 \n",
      " service_request_type | Stray Animal                         \n",
      " SLA_days             | 999.0                                \n",
      " case_status          | Closed                               \n",
      " source_id            | svcCRMLS                             \n",
      " request_address      | 2315  el paso st, san antonio, 78207 \n",
      " council_district     | 005                                  \n",
      " num_weeks_late       | -142.6441088                         \n",
      " zipcode              | 78207                                \n",
      " case_age             | 1313                                 \n",
      " days_to_closed       | 0                                    \n",
      " case_lifetime        | 0                                    \n",
      " department           | Animal Care Services                 \n",
      " dept_subject_to_SLA  | true                                 \n",
      "only showing top 1 row\n",
      "\n"
     ]
    }
   ],
   "source": [
    "case.show(1, False, True)"
   ]
  },
  {
   "cell_type": "code",
   "execution_count": 42,
   "metadata": {},
   "outputs": [
    {
     "name": "stdout",
     "output_type": "stream",
     "text": [
      "-RECORD 0----------------------------------------------------\n",
      " case_id              | 1014127332                           \n",
      " case_opened_date     | 2018-01-01 00:42:00                  \n",
      " case_closed_date     | 2018-01-01 12:29:00                  \n",
      " case_due_date        | 2020-09-26 00:42:00                  \n",
      " case_late            | false                                \n",
      " num_days_late        | -998.5087616000001                   \n",
      " case_closed          | true                                 \n",
      " service_request_type | Stray Animal                         \n",
      " SLA_days             | 999.0                                \n",
      " case_status          | Closed                               \n",
      " source_id            | svcCRMLS                             \n",
      " request_address      | 2315  el paso st, san antonio, 78207 \n",
      " council_district     | 005                                  \n",
      " num_weeks_late       | -142.6441088                         \n",
      " zipcode              | 78207                                \n",
      " case_age             | 1313                                 \n",
      " days_to_closed       | 0                                    \n",
      " case_lifetime        | 0                                    \n",
      " department           | Animal Care Services                 \n",
      " dept_subject_to_SLA  | true                                 \n",
      " case_year            | 2018                                 \n",
      "only showing top 1 row\n",
      "\n"
     ]
    }
   ],
   "source": [
    "## using datetime format to extract the year from case closed date column and make it a \n",
    "## column\n",
    "\n",
    "case = case.withColumn('case_year', year(col('case_closed_date')))\n",
    "\n",
    "case.show(1, False, True)"
   ]
  },
  {
   "cell_type": "markdown",
   "metadata": {},
   "source": [
    "Question 6: Convert num_days_late from days to hours in new columns num_hours_late.\n",
    "\n"
   ]
  },
  {
   "cell_type": "code",
   "execution_count": 43,
   "metadata": {},
   "outputs": [],
   "source": [
    "## turining days into hours by multiplying days late by 24 (hours in a day)\n",
    "\n",
    "case = case.withColumn('num_hours_late', (col('num_days_late') * 24))"
   ]
  },
  {
   "cell_type": "code",
   "execution_count": 44,
   "metadata": {},
   "outputs": [
    {
     "name": "stdout",
     "output_type": "stream",
     "text": [
      "-RECORD 0----------------------------------------------------\n",
      " case_id              | 1014127332                           \n",
      " case_opened_date     | 2018-01-01 00:42:00                  \n",
      " case_closed_date     | 2018-01-01 12:29:00                  \n",
      " case_due_date        | 2020-09-26 00:42:00                  \n",
      " case_late            | false                                \n",
      " num_days_late        | -998.5087616000001                   \n",
      " case_closed          | true                                 \n",
      " service_request_type | Stray Animal                         \n",
      " SLA_days             | 999.0                                \n",
      " case_status          | Closed                               \n",
      " source_id            | svcCRMLS                             \n",
      " request_address      | 2315  el paso st, san antonio, 78207 \n",
      " council_district     | 005                                  \n",
      " num_weeks_late       | -142.6441088                         \n",
      " zipcode              | 78207                                \n",
      " case_age             | 1313                                 \n",
      " days_to_closed       | 0                                    \n",
      " case_lifetime        | 0                                    \n",
      " department           | Animal Care Services                 \n",
      " dept_subject_to_SLA  | true                                 \n",
      " case_year            | 2018                                 \n",
      " num_hours_late       | -23964.2102784                       \n",
      "only showing top 1 row\n",
      "\n"
     ]
    }
   ],
   "source": [
    "case.show(1, False, True)"
   ]
  },
  {
   "cell_type": "markdown",
   "metadata": {},
   "source": [
    "Question 7: Join the case data with the source and department data.\n",
    "\n",
    "* Answer put in raw cell because this was already done above.\n"
   ]
  },
  {
   "cell_type": "raw",
   "metadata": {},
   "source": [
    "# join the df and dept dataframe using 'dept_division' as common key\n",
    "# drop columns as needed (keep standardized_dept_name)\n",
    "# convert dept_subject_to_SLA to boolean\n",
    "\n",
    "case = (\n",
    "    case\n",
    "    # left join on dept_division\n",
    "    .join(dept, \"dept_division\", \"left\")\n",
    "    # drop all the columns except for standardized name, as it has much fewer unique values\n",
    "    .drop(dept.dept_division)\n",
    "    .drop(dept.dept_name)\n",
    "    .drop(case.dept_division)\n",
    "    .withColumnRenamed(\"standardized_dept_name\", \"department\")\n",
    "    # convert to a boolean\n",
    "    .withColumn(\"dept_subject_to_SLA\", col(\"dept_subject_to_SLA\") == \"YES\")\n",
    ")"
   ]
  },
  {
   "cell_type": "markdown",
   "metadata": {},
   "source": [
    "Question 8: Are there any cases that do not have a request source?\n",
    "\n"
   ]
  },
  {
   "cell_type": "code",
   "execution_count": 45,
   "metadata": {},
   "outputs": [
    {
     "data": {
      "text/plain": [
       "0"
      ]
     },
     "execution_count": 45,
     "metadata": {},
     "output_type": "execute_result"
    }
   ],
   "source": [
    "case.where(case.source_id == 'null').count()"
   ]
  },
  {
   "cell_type": "markdown",
   "metadata": {},
   "source": [
    "Question 9: What are the top 10 service request types in terms of number of requests?\n",
    "\n"
   ]
  },
  {
   "cell_type": "code",
   "execution_count": 52,
   "metadata": {},
   "outputs": [
    {
     "name": "stdout",
     "output_type": "stream",
     "text": [
      "+--------------------------------+-----+\n",
      "|service_request_type            |count|\n",
      "+--------------------------------+-----+\n",
      "|No Pickup                       |86855|\n",
      "|Overgrown Yard/Trash            |65895|\n",
      "|Bandit Signs                    |32910|\n",
      "|Damaged Cart                    |30338|\n",
      "|Front Or Side Yard Parking      |28794|\n",
      "|Stray Animal                    |26760|\n",
      "|Aggressive Animal(Non-Critical) |24882|\n",
      "|Cart Exchange Request           |22024|\n",
      "|Junk Vehicle On Private Property|21473|\n",
      "|Pot Hole Repair                 |20616|\n",
      "+--------------------------------+-----+\n",
      "only showing top 10 rows\n",
      "\n"
     ]
    }
   ],
   "source": [
    "(\n",
    "    (case.groupby('service_request_type').count()).orderBy(desc(col('count')))\n",
    "    .show(10, truncate = False)\n",
    ")"
   ]
  },
  {
   "cell_type": "markdown",
   "metadata": {},
   "source": [
    "Question 10: What are the top 10 service request types in terms of average days late?\n"
   ]
  },
  {
   "cell_type": "code",
   "execution_count": 59,
   "metadata": {},
   "outputs": [
    {
     "name": "stdout",
     "output_type": "stream",
     "text": [
      "+--------------------------------------+------------------+\n",
      "|service_request_type                  |avg(num_days_late)|\n",
      "+--------------------------------------+------------------+\n",
      "|Zoning: Recycle Yard                  |210.89201994318182|\n",
      "|Zoning: Junk Yards                    |200.20517608494276|\n",
      "|Structure/Housing Maintenance         |190.20707698509807|\n",
      "|Donation Container Enforcement        |171.09115313942615|\n",
      "|Storage of Used Mattress              |163.96812829714287|\n",
      "|Labeling for Used Mattress            |162.43032902285717|\n",
      "|Record Keeping of Used Mattresses     |153.99724039428568|\n",
      "|Signage Requied for Sale of Used Mattr|151.63868055333333|\n",
      "|Traffic Signal Graffiti               |137.64583330000002|\n",
      "|License Requied Used Mattress Sales   |128.79828704142858|\n",
      "+--------------------------------------+------------------+\n",
      "only showing top 10 rows\n",
      "\n"
     ]
    }
   ],
   "source": [
    "(\n",
    "    (case.where(case.case_late == 'YES').groupby('service_request_type')\n",
    "     .agg(mean('num_days_late')))\n",
    "    .orderBy(desc(col('avg(num_days_late)')))\n",
    "    .show(10, truncate = False)\n",
    ")"
   ]
  },
  {
   "cell_type": "markdown",
   "metadata": {},
   "source": [
    "Question 11: Does number of days late depend on department?\n"
   ]
  },
  {
   "cell_type": "code",
   "execution_count": 61,
   "metadata": {},
   "outputs": [
    {
     "name": "stdout",
     "output_type": "stream",
     "text": [
      "+------------------------+------------------+\n",
      "|department              |avg(num_days_late)|\n",
      "+------------------------+------------------+\n",
      "|Customer Service        |87.68385942150394 |\n",
      "|DSD/Code Enforcement    |49.38428705358908 |\n",
      "|Animal Care Services    |23.458633245820124|\n",
      "|Parks & Recreation      |22.348910457867518|\n",
      "|Trans & Cap Improvements|10.603064680316946|\n",
      "|Solid Waste             |7.186821906120899 |\n",
      "|Metro Health            |6.5438133155476494|\n",
      "+------------------------+------------------+\n",
      "\n"
     ]
    }
   ],
   "source": [
    "(\n",
    "    (case.where(case.case_late == 'YES').groupby('department')\n",
    "     .agg(mean('num_days_late')))\n",
    "    .orderBy(desc(col('avg(num_days_late)')))\n",
    "    .show(10, truncate = False)\n",
    ")"
   ]
  },
  {
   "cell_type": "markdown",
   "metadata": {},
   "source": [
    "Question 12: How do number of days late depend on department and request type?\n"
   ]
  },
  {
   "cell_type": "code",
   "execution_count": 63,
   "metadata": {},
   "outputs": [
    {
     "name": "stdout",
     "output_type": "stream",
     "text": [
      "+------------------------+--------------------------------------------+------------------+\n",
      "|department              |service_request_type                        |avg(num_days_late)|\n",
      "+------------------------+--------------------------------------------+------------------+\n",
      "|DSD/Code Enforcement    |Zoning: Recycle Yard                        |210.89201994318182|\n",
      "|DSD/Code Enforcement    |Zoning: Junk Yards                          |200.20517608494276|\n",
      "|DSD/Code Enforcement    |Structure/Housing Maintenance               |190.20707698509807|\n",
      "|DSD/Code Enforcement    |Donation Container Enforcement              |171.09115313942615|\n",
      "|DSD/Code Enforcement    |Storage of Used Mattress                    |163.96812829714287|\n",
      "|DSD/Code Enforcement    |Labeling for Used Mattress                  |162.43032902285717|\n",
      "|DSD/Code Enforcement    |Record Keeping of Used Mattresses           |153.99724039428568|\n",
      "|DSD/Code Enforcement    |Signage Requied for Sale of Used Mattr      |151.63868055333333|\n",
      "|Trans & Cap Improvements|Traffic Signal Graffiti                     |137.64583330000002|\n",
      "|DSD/Code Enforcement    |License Requied Used Mattress Sales         |128.79828704142858|\n",
      "|DSD/Code Enforcement    |Curbstoning                                 |120.39566479917886|\n",
      "|DSD/Code Enforcement    |Vendors                                     |117.72551367776335|\n",
      "|DSD/Code Enforcement    |CPS Energy Wood Poles                       |115.18708329999998|\n",
      "|DSD/Code Enforcement    |Graffiti: Private Property (Corridors)      |114.09439580800002|\n",
      "|DSD/Code Enforcement    |Used Mattress Inspection                    |108.14074724718749|\n",
      "|DSD/Code Enforcement    |DSDB Ordered/Hold Harmless/Regular: Main    |94.9029600898138  |\n",
      "|DSD/Code Enforcement    |DSDB Ordered/Hold Harmless/Regular-ALL      |90.60137650743478 |\n",
      "|DSD/Code Enforcement    |DSDB Ordered/Hold Harmless/Regular: ASEC    |88.67873591760812 |\n",
      "|Customer Service        |Complaint                                   |87.74197415340986 |\n",
      "|DSD/Code Enforcement    |Zoning: Setbacks                            |86.72783777095414 |\n",
      "|DSD/Code Enforcement    |Dart Preliminary Inspection                 |85.06190586980954 |\n",
      "|DSD/Code Enforcement    |Vacant Lot: Over 12\"\"                       |82.08825231       |\n",
      "|DSD/Code Enforcement    |Permits Building                            |81.08045565537573 |\n",
      "|DSD/Code Enforcement    |Street Light New Development                |80.91673396907407 |\n",
      "|DSD/Code Enforcement    |No Address Posted                           |79.4926581827068  |\n",
      "|DSD/Code Enforcement    |Low Hanging Limbs on Streets/Sidewalk       |78.07437152269999 |\n",
      "|Customer Service        |Compliment                                  |78.00775655916665 |\n",
      "|DSD/Code Enforcement    |Certificates of Occupancy                   |77.62671183098276 |\n",
      "|Parks & Recreation      |Amenity Park Improvement                    |76.87018194568    |\n",
      "|DSD/Code Enforcement    |Wasting Water (Leaks)                       |76.3554676        |\n",
      "|Trans & Cap Improvements|Status: On-Going CIMS Projects              |76.07892152387127 |\n",
      "|Parks & Recreation      |Major Park Improvement Install              |75.79450367282354 |\n",
      "|DSD/Code Enforcement    |Dumpsters: Maintenance/Sanitation           |74.15533508843903 |\n",
      "|DSD/Code Enforcement    |\"Vacant Lot-State (12\"\")\"                   |72.08425347       |\n",
      "|DSD/Code Enforcement    |Zoning: District Requirement                |70.6059230737488  |\n",
      "|Animal Care Services    |Public Nuisance(Own Animal)                 |70.59049373844732 |\n",
      "|DSD/Code Enforcement    |Bandit Signs                                |70.56175559550488 |\n",
      "|Animal Care Services    |Animal Permits Request                      |70.55085006261557 |\n",
      "|DSD/Code Enforcement    |Used/Scrap Tire Facility Periodic Inspection|69.78109578045945 |\n",
      "|DSD/Code Enforcement    |Discharge Into Pub. Waters/St               |69.25717593       |\n",
      "|DSD/Code Enforcement    |Improper Storage of Tires/At Facility       |69.2234382194375  |\n",
      "|DSD/Code Enforcement    |Zoning: Outside Storage                     |68.61202789542104 |\n",
      "|DSD/Code Enforcement    |Street Light Existing Res Sub Div           |66.85450799247805 |\n",
      "|DSD/Code Enforcement    |Zoning: Multi-Family In Single              |66.80722948439215 |\n",
      "|Parks & Recreation      |Reservation Assistance                      |66.03116319       |\n",
      "|DSD/Code Enforcement    |Zoning Business in Resident Area            |63.99158564644248 |\n",
      "|Trans & Cap Improvements|Markings Installation SMO (NEW)             |62.24574940750001 |\n",
      "|Solid Waste             |Contracted Service Issues                   |62.05046402263636 |\n",
      "|DSD/Code Enforcement    |Water No Services                           |59.51258018821428 |\n",
      "|Parks & Recreation      |Park Building Maint Invest                  |59.367469802695666|\n",
      "+------------------------+--------------------------------------------+------------------+\n",
      "only showing top 50 rows\n",
      "\n"
     ]
    }
   ],
   "source": [
    "(\n",
    "    (case.where(case.case_late == 'YES').groupby(['department', 'service_request_type'])\n",
    "     .agg(mean('num_days_late')))\n",
    "    .orderBy(desc(col('avg(num_days_late)')))\n",
    "    .show(case.co, truncate = False)\n",
    ")\n",
    "\n"
   ]
  },
  {
   "cell_type": "code",
   "execution_count": null,
   "metadata": {},
   "outputs": [],
   "source": []
  }
 ],
 "metadata": {
  "kernelspec": {
   "display_name": "Python 3",
   "language": "python",
   "name": "python3"
  },
  "language_info": {
   "codemirror_mode": {
    "name": "ipython",
    "version": 3
   },
   "file_extension": ".py",
   "mimetype": "text/x-python",
   "name": "python",
   "nbconvert_exporter": "python",
   "pygments_lexer": "ipython3",
   "version": "3.8.5"
  }
 },
 "nbformat": 4,
 "nbformat_minor": 4
}
